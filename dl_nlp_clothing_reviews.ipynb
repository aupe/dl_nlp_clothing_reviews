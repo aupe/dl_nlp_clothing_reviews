{
  "nbformat": 4,
  "nbformat_minor": 0,
  "metadata": {
    "colab": {
      "name": "dl_nlp_clothing_reviews.ipynb",
      "provenance": [],
      "collapsed_sections": [
        "IT47YzIJ57GE",
        "DLSaNwFSfpLY",
        "gvTWaX_ln3vH",
        "KDbCT3zUpzlJ",
        "mDBq2d3Mp83i",
        "xe39LmwyqDwi",
        "MtggyifUqbvQ",
        "XHZ3eMseqvhl",
        "l3NmPNLMr28Z",
        "s_SP_Ihx_3tv",
        "joXucQ1WAlvU",
        "w2S0Wdag-Lv6",
        "gyEXWjY7Zk_t",
        "dw8xxjbA1S5X",
        "6bg8JuZlnibi",
        "uFzfLVgcsitG",
        "90-coDotoOOt",
        "yPemSpZbLmu3",
        "fiaZupsq28z9"
      ],
      "toc_visible": true
    },
    "kernelspec": {
      "name": "python3",
      "display_name": "Python 3"
    },
    "accelerator": "GPU"
  },
  "cells": [
    {
      "cell_type": "markdown",
      "metadata": {
        "id": "b2uZqW_4efNk",
        "colab_type": "text"
      },
      "source": [
        "#Women's E-Commerce Clothing Reviews"
      ]
    },
    {
      "cell_type": "markdown",
      "metadata": {
        "id": "tAiAGm_k4mLe",
        "colab_type": "text"
      },
      "source": [
        "This project is dedicated to create NLP predictor. \n",
        "\n",
        "We will use [Women's E-Commerce Clothing Reviews](https://) dataset from Kaggle.\n",
        "\n",
        "This dataset includes 23486 rows and 10 feature variables. Each row corresponds to a customer review.\n",
        "\n",
        "We will use these variables four our modelling:\n",
        "\n",
        "  **Review Text:** String variable for the review body.\n",
        "\n",
        "  **Rating:** Positive Ordinal Integer variable for the product score granted by the customer from 1 Worst, to 5 Best."
      ]
    },
    {
      "cell_type": "markdown",
      "metadata": {
        "id": "o1hsY7YQenr4",
        "colab_type": "text"
      },
      "source": [
        "## Table of Contents"
      ]
    },
    {
      "cell_type": "markdown",
      "metadata": {
        "id": "D0LhnnQBU00b",
        "colab_type": "toc"
      },
      "source": [
        ">[Women's E-Commerce Clothing Reviews](#scrollTo=b2uZqW_4efNk)\n",
        "\n",
        ">>[Table of Contents](#scrollTo=o1hsY7YQenr4)\n",
        "\n",
        ">>[Imports & Data Download](#scrollTo=IT47YzIJ57GE)\n",
        "\n",
        ">>[Data Exploration](#scrollTo=DLSaNwFSfpLY)\n",
        "\n",
        ">>[Data Preprocessing](#scrollTo=gvTWaX_ln3vH)\n",
        "\n",
        ">>[Models using tf.hub](#scrollTo=Sj92RtRKoXBC)\n",
        "\n",
        ">>>[nnlm-en-dim128-with-normalization_base_v1](#scrollTo=KDbCT3zUpzlJ)\n",
        "\n",
        ">>>[Wiki-words-250-with-normalization_base_v1](#scrollTo=mDBq2d3Mp83i)\n",
        "\n",
        ">>>[nnlm-en-dim128-with-normalization_extended_v1](#scrollTo=xe39LmwyqDwi)\n",
        "\n",
        ">>>[Wiki-words-250-with-normalization_extended_v1](#scrollTo=MtggyifUqbvQ)\n",
        "\n",
        ">>>[nnlm-en-dim128-with-normalization_base_v2](#scrollTo=XHZ3eMseqvhl)\n",
        "\n",
        ">>>[nnlm-en-dim128-with-normalization_base_v4](#scrollTo=_rmBP2aarMV-)\n",
        "\n",
        ">>>[nnlm-en-dim128-with-normalization_extended_v2](#scrollTo=l3NmPNLMr28Z)\n",
        "\n",
        ">>[Models using LSTM, 1d Conv, Hybrid](#scrollTo=Yh6mr56rvZUs)\n",
        "\n",
        ">>>[Bidirectional LSTM - Emb256 2xBidLSTM256 Dropout 0.5 0.5](#scrollTo=s_SP_Ihx_3tv)\n",
        "\n",
        ">>>[1d convolutional - Emb256 2xConv1D256 Dropout 0.5](#scrollTo=joXucQ1WAlvU)\n",
        "\n",
        ">>>[Hybrid - Emb256 2xBidLSTM256 2xConv1D256 Dropout 0.5 0.5](#scrollTo=w2S0Wdag-Lv6)\n",
        "\n",
        ">>>[Hybrid - Emb256 2xBidLSTM256 2xConv1D256 Dropout 0.1 0.5 - oversmpl](#scrollTo=zOQr4O3vxw-g)\n",
        "\n",
        ">>>[Hybrid - Emb256 2xBidLSTM256 2xConv1D256 Dropout 0.1 0.5 - oversmpl, init class weights](#scrollTo=23oYCpIWS0tU)\n",
        "\n",
        ">>>[Hybrid - Emb256 2xBidLSTM256 2xConv1D256 Dropout 0.1 0.5](#scrollTo=gyEXWjY7Zk_t)\n",
        "\n",
        ">>[Models using Transformers](#scrollTo=UwP0Eyry0V3y)\n",
        "\n",
        ">>>[bert-base-cased_v1](#scrollTo=dw8xxjbA1S5X)\n",
        "\n",
        ">>>[distilbert-base-uncased_v1](#scrollTo=6bg8JuZlnibi)\n",
        "\n",
        ">>>[bert-base-cased_v2](#scrollTo=uFzfLVgcsitG)\n",
        "\n",
        ">>>[bert-base-cased_v3](#scrollTo=90-coDotoOOt)\n",
        "\n",
        ">>>[distilbert-base-uncased_v2](#scrollTo=yPemSpZbLmu3)\n",
        "\n",
        ">>>[bert-base-uncased_v1](#scrollTo=fiaZupsq28z9)\n",
        "\n",
        ">>[Conclusion](#scrollTo=uufdqMEMSFQU)\n",
        "\n",
        ">>>[Models using tf.hub](#scrollTo=D6E2HiteRyn7)\n",
        "\n",
        ">>>[Models using LSTM, 1d Conv, Hybrid](#scrollTo=f-nkvaupYVLX)\n",
        "\n",
        ">>>[Models using Transformers](#scrollTo=Sv2lW4-qaplp)\n",
        "\n",
        ">>>[All in All](#scrollTo=poH2mDWzbJYC)\n",
        "\n"
      ]
    },
    {
      "cell_type": "markdown",
      "metadata": {
        "id": "IT47YzIJ57GE",
        "colab_type": "text"
      },
      "source": [
        "## Imports & Data Download "
      ]
    },
    {
      "cell_type": "code",
      "metadata": {
        "id": "jyCQ5da8tP4Y",
        "colab_type": "code",
        "colab": {}
      },
      "source": [
        "from google.colab import drive\n",
        "drive.mount('/content/gdrive', force_remount=True)"
      ],
      "execution_count": 0,
      "outputs": []
    },
    {
      "cell_type": "code",
      "metadata": {
        "id": "aY5_to5BbGpR",
        "colab_type": "code",
        "colab": {}
      },
      "source": [
        "SETUP = True"
      ],
      "execution_count": 0,
      "outputs": []
    },
    {
      "cell_type": "code",
      "metadata": {
        "id": "uTiGkSjZo9GX",
        "colab_type": "code",
        "colab": {}
      },
      "source": [
        "AUTOTUNE = tf.data.experimental.AUTOTUNE"
      ],
      "execution_count": 0,
      "outputs": []
    },
    {
      "cell_type": "code",
      "metadata": {
        "id": "IBbB-gHYevVA",
        "colab_type": "code",
        "colab": {}
      },
      "source": [
        "if SETUP:\n",
        "    !pip install -q -U toai==0.2.*\n",
        "    !pip install -q tensorflow-gpu==2.0.0\n",
        "    !pip install -q -U tensorflow_hub\n",
        "    !pip install -q -U git+https://github.com/huggingface/transformers\n"
      ],
      "execution_count": 0,
      "outputs": []
    },
    {
      "cell_type": "code",
      "metadata": {
        "id": "WnVSr-8Peo2w",
        "colab_type": "code",
        "outputId": "01ac1b2a-abc8-4ff5-8df4-db30254c166d",
        "colab": {
          "base_uri": "https://localhost:8080/",
          "height": 52
        }
      },
      "source": [
        "print(__import__(\"toai\").__version__)\n",
        "print(__import__(\"tensorflow\").__version__)"
      ],
      "execution_count": 0,
      "outputs": [
        {
          "output_type": "stream",
          "text": [
            "0.2.7\n",
            "2.0.0\n"
          ],
          "name": "stdout"
        }
      ]
    },
    {
      "cell_type": "code",
      "metadata": {
        "id": "aoV-m2pfe2yL",
        "colab_type": "code",
        "colab": {}
      },
      "source": [
        "from toai.imports import *\n",
        "from toai.data import DataBundle, DataParams, DataContainer\n",
        "from toai.metrics import sparse_top_2_categorical_accuracy\n",
        "from toai.models import save_keras_model, load_keras_model\n",
        "from toai.utils import save_file, load_file\n",
        "import tensorflow as tf\n",
        "from tensorflow import keras\n",
        "import tensorflow_hub as hub\n",
        "import transformers"
      ],
      "execution_count": 0,
      "outputs": []
    },
    {
      "cell_type": "code",
      "metadata": {
        "id": "-PSxjdR3e200",
        "colab_type": "code",
        "colab": {}
      },
      "source": [
        "%matplotlib inline\n",
        "plt.style.use('seaborn')"
      ],
      "execution_count": 0,
      "outputs": []
    },
    {
      "cell_type": "code",
      "metadata": {
        "id": "g2Pfge7be23g",
        "colab_type": "code",
        "colab": {}
      },
      "source": [
        "DATA_DIR = Path('./gdrive/My Drive/Projects/13_clothing_reviews/data/clothing_reviews')\n",
        "TEMP_DIR = Path('./gdrive/My Drive/Projects/13_clothing_reviews/temp/clothing_reviews')"
      ],
      "execution_count": 0,
      "outputs": []
    },
    {
      "cell_type": "code",
      "metadata": {
        "id": "A66Gi53Ffe5w",
        "colab_type": "code",
        "colab": {}
      },
      "source": [
        "df = pd.read_csv(DATA_DIR/'Womens Clothing E-Commerce Reviews.csv', low_memory=False)"
      ],
      "execution_count": 0,
      "outputs": []
    },
    {
      "cell_type": "markdown",
      "metadata": {
        "id": "DLSaNwFSfpLY",
        "colab_type": "text"
      },
      "source": [
        "## Data Exploration"
      ]
    },
    {
      "cell_type": "code",
      "metadata": {
        "id": "_xTsb3JnfrXu",
        "colab_type": "code",
        "outputId": "cb89e636-9c5b-422f-c25d-bb3b17e7833f",
        "colab": {
          "base_uri": "https://localhost:8080/",
          "height": 34
        }
      },
      "source": [
        "df.shape"
      ],
      "execution_count": 0,
      "outputs": [
        {
          "output_type": "execute_result",
          "data": {
            "text/plain": [
              "(23486, 11)"
            ]
          },
          "metadata": {
            "tags": []
          },
          "execution_count": 7
        }
      ]
    },
    {
      "cell_type": "code",
      "metadata": {
        "id": "_jCNIosMfvcF",
        "colab_type": "code",
        "outputId": "ec76cc9e-e35c-4b4f-91e7-f34c024b481c",
        "colab": {
          "base_uri": "https://localhost:8080/",
          "height": 377
        }
      },
      "source": [
        "df.head(3).T"
      ],
      "execution_count": 0,
      "outputs": [
        {
          "output_type": "execute_result",
          "data": {
            "text/html": [
              "<div>\n",
              "<style scoped>\n",
              "    .dataframe tbody tr th:only-of-type {\n",
              "        vertical-align: middle;\n",
              "    }\n",
              "\n",
              "    .dataframe tbody tr th {\n",
              "        vertical-align: top;\n",
              "    }\n",
              "\n",
              "    .dataframe thead th {\n",
              "        text-align: right;\n",
              "    }\n",
              "</style>\n",
              "<table border=\"1\" class=\"dataframe\">\n",
              "  <thead>\n",
              "    <tr style=\"text-align: right;\">\n",
              "      <th></th>\n",
              "      <th>0</th>\n",
              "      <th>1</th>\n",
              "      <th>2</th>\n",
              "    </tr>\n",
              "  </thead>\n",
              "  <tbody>\n",
              "    <tr>\n",
              "      <th>Unnamed: 0</th>\n",
              "      <td>0</td>\n",
              "      <td>1</td>\n",
              "      <td>2</td>\n",
              "    </tr>\n",
              "    <tr>\n",
              "      <th>Clothing ID</th>\n",
              "      <td>767</td>\n",
              "      <td>1080</td>\n",
              "      <td>1077</td>\n",
              "    </tr>\n",
              "    <tr>\n",
              "      <th>Age</th>\n",
              "      <td>33</td>\n",
              "      <td>34</td>\n",
              "      <td>60</td>\n",
              "    </tr>\n",
              "    <tr>\n",
              "      <th>Title</th>\n",
              "      <td>NaN</td>\n",
              "      <td>NaN</td>\n",
              "      <td>Some major design flaws</td>\n",
              "    </tr>\n",
              "    <tr>\n",
              "      <th>Review Text</th>\n",
              "      <td>Absolutely wonderful - silky and sexy and comf...</td>\n",
              "      <td>Love this dress!  it's sooo pretty.  i happene...</td>\n",
              "      <td>I had such high hopes for this dress and reall...</td>\n",
              "    </tr>\n",
              "    <tr>\n",
              "      <th>Rating</th>\n",
              "      <td>4</td>\n",
              "      <td>5</td>\n",
              "      <td>3</td>\n",
              "    </tr>\n",
              "    <tr>\n",
              "      <th>Recommended IND</th>\n",
              "      <td>1</td>\n",
              "      <td>1</td>\n",
              "      <td>0</td>\n",
              "    </tr>\n",
              "    <tr>\n",
              "      <th>Positive Feedback Count</th>\n",
              "      <td>0</td>\n",
              "      <td>4</td>\n",
              "      <td>0</td>\n",
              "    </tr>\n",
              "    <tr>\n",
              "      <th>Division Name</th>\n",
              "      <td>Initmates</td>\n",
              "      <td>General</td>\n",
              "      <td>General</td>\n",
              "    </tr>\n",
              "    <tr>\n",
              "      <th>Department Name</th>\n",
              "      <td>Intimate</td>\n",
              "      <td>Dresses</td>\n",
              "      <td>Dresses</td>\n",
              "    </tr>\n",
              "    <tr>\n",
              "      <th>Class Name</th>\n",
              "      <td>Intimates</td>\n",
              "      <td>Dresses</td>\n",
              "      <td>Dresses</td>\n",
              "    </tr>\n",
              "  </tbody>\n",
              "</table>\n",
              "</div>"
            ],
            "text/plain": [
              "                                                                         0  ...                                                  2\n",
              "Unnamed: 0                                                               0  ...                                                  2\n",
              "Clothing ID                                                            767  ...                                               1077\n",
              "Age                                                                     33  ...                                                 60\n",
              "Title                                                                  NaN  ...                            Some major design flaws\n",
              "Review Text              Absolutely wonderful - silky and sexy and comf...  ...  I had such high hopes for this dress and reall...\n",
              "Rating                                                                   4  ...                                                  3\n",
              "Recommended IND                                                          1  ...                                                  0\n",
              "Positive Feedback Count                                                  0  ...                                                  0\n",
              "Division Name                                                    Initmates  ...                                            General\n",
              "Department Name                                                   Intimate  ...                                            Dresses\n",
              "Class Name                                                       Intimates  ...                                            Dresses\n",
              "\n",
              "[11 rows x 3 columns]"
            ]
          },
          "metadata": {
            "tags": []
          },
          "execution_count": 8
        }
      ]
    },
    {
      "cell_type": "code",
      "metadata": {
        "id": "ALSynQpKfyTm",
        "colab_type": "code",
        "outputId": "ac221ef8-541f-4344-bc73-8ffa8f0c4170",
        "colab": {
          "base_uri": "https://localhost:8080/",
          "height": 301
        }
      },
      "source": [
        "df.info()"
      ],
      "execution_count": 0,
      "outputs": [
        {
          "output_type": "stream",
          "text": [
            "<class 'pandas.core.frame.DataFrame'>\n",
            "RangeIndex: 23486 entries, 0 to 23485\n",
            "Data columns (total 11 columns):\n",
            "Unnamed: 0                 23486 non-null int64\n",
            "Clothing ID                23486 non-null int64\n",
            "Age                        23486 non-null int64\n",
            "Title                      19676 non-null object\n",
            "Review Text                22641 non-null object\n",
            "Rating                     23486 non-null int64\n",
            "Recommended IND            23486 non-null int64\n",
            "Positive Feedback Count    23486 non-null int64\n",
            "Division Name              23472 non-null object\n",
            "Department Name            23472 non-null object\n",
            "Class Name                 23472 non-null object\n",
            "dtypes: int64(6), object(5)\n",
            "memory usage: 2.0+ MB\n"
          ],
          "name": "stdout"
        }
      ]
    },
    {
      "cell_type": "code",
      "metadata": {
        "id": "KahzrYc_f2uh",
        "colab_type": "code",
        "outputId": "10a1668e-dc64-46b7-d700-c79083e5eb5b",
        "colab": {
          "base_uri": "https://localhost:8080/",
          "height": 377
        }
      },
      "source": [
        "df.describe(include='all').T"
      ],
      "execution_count": 0,
      "outputs": [
        {
          "output_type": "execute_result",
          "data": {
            "text/html": [
              "<div>\n",
              "<style scoped>\n",
              "    .dataframe tbody tr th:only-of-type {\n",
              "        vertical-align: middle;\n",
              "    }\n",
              "\n",
              "    .dataframe tbody tr th {\n",
              "        vertical-align: top;\n",
              "    }\n",
              "\n",
              "    .dataframe thead th {\n",
              "        text-align: right;\n",
              "    }\n",
              "</style>\n",
              "<table border=\"1\" class=\"dataframe\">\n",
              "  <thead>\n",
              "    <tr style=\"text-align: right;\">\n",
              "      <th></th>\n",
              "      <th>count</th>\n",
              "      <th>unique</th>\n",
              "      <th>top</th>\n",
              "      <th>freq</th>\n",
              "      <th>mean</th>\n",
              "      <th>std</th>\n",
              "      <th>min</th>\n",
              "      <th>25%</th>\n",
              "      <th>50%</th>\n",
              "      <th>75%</th>\n",
              "      <th>max</th>\n",
              "    </tr>\n",
              "  </thead>\n",
              "  <tbody>\n",
              "    <tr>\n",
              "      <th>Unnamed: 0</th>\n",
              "      <td>23486</td>\n",
              "      <td>NaN</td>\n",
              "      <td>NaN</td>\n",
              "      <td>NaN</td>\n",
              "      <td>11742.5</td>\n",
              "      <td>6779.97</td>\n",
              "      <td>0</td>\n",
              "      <td>5871.25</td>\n",
              "      <td>11742.5</td>\n",
              "      <td>17613.8</td>\n",
              "      <td>23485</td>\n",
              "    </tr>\n",
              "    <tr>\n",
              "      <th>Clothing ID</th>\n",
              "      <td>23486</td>\n",
              "      <td>NaN</td>\n",
              "      <td>NaN</td>\n",
              "      <td>NaN</td>\n",
              "      <td>918.119</td>\n",
              "      <td>203.299</td>\n",
              "      <td>0</td>\n",
              "      <td>861</td>\n",
              "      <td>936</td>\n",
              "      <td>1078</td>\n",
              "      <td>1205</td>\n",
              "    </tr>\n",
              "    <tr>\n",
              "      <th>Age</th>\n",
              "      <td>23486</td>\n",
              "      <td>NaN</td>\n",
              "      <td>NaN</td>\n",
              "      <td>NaN</td>\n",
              "      <td>43.1985</td>\n",
              "      <td>12.2795</td>\n",
              "      <td>18</td>\n",
              "      <td>34</td>\n",
              "      <td>41</td>\n",
              "      <td>52</td>\n",
              "      <td>99</td>\n",
              "    </tr>\n",
              "    <tr>\n",
              "      <th>Title</th>\n",
              "      <td>19676</td>\n",
              "      <td>13993</td>\n",
              "      <td>Love it!</td>\n",
              "      <td>136</td>\n",
              "      <td>NaN</td>\n",
              "      <td>NaN</td>\n",
              "      <td>NaN</td>\n",
              "      <td>NaN</td>\n",
              "      <td>NaN</td>\n",
              "      <td>NaN</td>\n",
              "      <td>NaN</td>\n",
              "    </tr>\n",
              "    <tr>\n",
              "      <th>Review Text</th>\n",
              "      <td>22641</td>\n",
              "      <td>22634</td>\n",
              "      <td>Perfect fit and i've gotten so many compliment...</td>\n",
              "      <td>3</td>\n",
              "      <td>NaN</td>\n",
              "      <td>NaN</td>\n",
              "      <td>NaN</td>\n",
              "      <td>NaN</td>\n",
              "      <td>NaN</td>\n",
              "      <td>NaN</td>\n",
              "      <td>NaN</td>\n",
              "    </tr>\n",
              "    <tr>\n",
              "      <th>Rating</th>\n",
              "      <td>23486</td>\n",
              "      <td>NaN</td>\n",
              "      <td>NaN</td>\n",
              "      <td>NaN</td>\n",
              "      <td>4.19603</td>\n",
              "      <td>1.11003</td>\n",
              "      <td>1</td>\n",
              "      <td>4</td>\n",
              "      <td>5</td>\n",
              "      <td>5</td>\n",
              "      <td>5</td>\n",
              "    </tr>\n",
              "    <tr>\n",
              "      <th>Recommended IND</th>\n",
              "      <td>23486</td>\n",
              "      <td>NaN</td>\n",
              "      <td>NaN</td>\n",
              "      <td>NaN</td>\n",
              "      <td>0.822362</td>\n",
              "      <td>0.382216</td>\n",
              "      <td>0</td>\n",
              "      <td>1</td>\n",
              "      <td>1</td>\n",
              "      <td>1</td>\n",
              "      <td>1</td>\n",
              "    </tr>\n",
              "    <tr>\n",
              "      <th>Positive Feedback Count</th>\n",
              "      <td>23486</td>\n",
              "      <td>NaN</td>\n",
              "      <td>NaN</td>\n",
              "      <td>NaN</td>\n",
              "      <td>2.53594</td>\n",
              "      <td>5.7022</td>\n",
              "      <td>0</td>\n",
              "      <td>0</td>\n",
              "      <td>1</td>\n",
              "      <td>3</td>\n",
              "      <td>122</td>\n",
              "    </tr>\n",
              "    <tr>\n",
              "      <th>Division Name</th>\n",
              "      <td>23472</td>\n",
              "      <td>3</td>\n",
              "      <td>General</td>\n",
              "      <td>13850</td>\n",
              "      <td>NaN</td>\n",
              "      <td>NaN</td>\n",
              "      <td>NaN</td>\n",
              "      <td>NaN</td>\n",
              "      <td>NaN</td>\n",
              "      <td>NaN</td>\n",
              "      <td>NaN</td>\n",
              "    </tr>\n",
              "    <tr>\n",
              "      <th>Department Name</th>\n",
              "      <td>23472</td>\n",
              "      <td>6</td>\n",
              "      <td>Tops</td>\n",
              "      <td>10468</td>\n",
              "      <td>NaN</td>\n",
              "      <td>NaN</td>\n",
              "      <td>NaN</td>\n",
              "      <td>NaN</td>\n",
              "      <td>NaN</td>\n",
              "      <td>NaN</td>\n",
              "      <td>NaN</td>\n",
              "    </tr>\n",
              "    <tr>\n",
              "      <th>Class Name</th>\n",
              "      <td>23472</td>\n",
              "      <td>20</td>\n",
              "      <td>Dresses</td>\n",
              "      <td>6319</td>\n",
              "      <td>NaN</td>\n",
              "      <td>NaN</td>\n",
              "      <td>NaN</td>\n",
              "      <td>NaN</td>\n",
              "      <td>NaN</td>\n",
              "      <td>NaN</td>\n",
              "      <td>NaN</td>\n",
              "    </tr>\n",
              "  </tbody>\n",
              "</table>\n",
              "</div>"
            ],
            "text/plain": [
              "                         count unique  ...      75%    max\n",
              "Unnamed: 0               23486    NaN  ...  17613.8  23485\n",
              "Clothing ID              23486    NaN  ...     1078   1205\n",
              "Age                      23486    NaN  ...       52     99\n",
              "Title                    19676  13993  ...      NaN    NaN\n",
              "Review Text              22641  22634  ...      NaN    NaN\n",
              "Rating                   23486    NaN  ...        5      5\n",
              "Recommended IND          23486    NaN  ...        1      1\n",
              "Positive Feedback Count  23486    NaN  ...        3    122\n",
              "Division Name            23472      3  ...      NaN    NaN\n",
              "Department Name          23472      6  ...      NaN    NaN\n",
              "Class Name               23472     20  ...      NaN    NaN\n",
              "\n",
              "[11 rows x 11 columns]"
            ]
          },
          "metadata": {
            "tags": []
          },
          "execution_count": 10
        }
      ]
    },
    {
      "cell_type": "code",
      "metadata": {
        "id": "wPXVqfX-j9Mk",
        "colab_type": "code",
        "outputId": "88997408-e287-4a91-efdc-b12d3c4b9f85",
        "colab": {
          "base_uri": "https://localhost:8080/",
          "height": 577
        }
      },
      "source": [
        "df.sample(5).T"
      ],
      "execution_count": 0,
      "outputs": [
        {
          "output_type": "execute_result",
          "data": {
            "text/html": [
              "<div>\n",
              "<style scoped>\n",
              "    .dataframe tbody tr th:only-of-type {\n",
              "        vertical-align: middle;\n",
              "    }\n",
              "\n",
              "    .dataframe tbody tr th {\n",
              "        vertical-align: top;\n",
              "    }\n",
              "\n",
              "    .dataframe thead th {\n",
              "        text-align: right;\n",
              "    }\n",
              "</style>\n",
              "<table border=\"1\" class=\"dataframe\">\n",
              "  <thead>\n",
              "    <tr style=\"text-align: right;\">\n",
              "      <th></th>\n",
              "      <th>1253</th>\n",
              "      <th>12181</th>\n",
              "      <th>19043</th>\n",
              "      <th>15277</th>\n",
              "      <th>8010</th>\n",
              "    </tr>\n",
              "  </thead>\n",
              "  <tbody>\n",
              "    <tr>\n",
              "      <th>Unnamed: 0</th>\n",
              "      <td>1253</td>\n",
              "      <td>12181</td>\n",
              "      <td>19043</td>\n",
              "      <td>15277</td>\n",
              "      <td>8010</td>\n",
              "    </tr>\n",
              "    <tr>\n",
              "      <th>Clothing ID</th>\n",
              "      <td>850</td>\n",
              "      <td>1075</td>\n",
              "      <td>952</td>\n",
              "      <td>875</td>\n",
              "      <td>1103</td>\n",
              "    </tr>\n",
              "    <tr>\n",
              "      <th>Age</th>\n",
              "      <td>52</td>\n",
              "      <td>51</td>\n",
              "      <td>45</td>\n",
              "      <td>52</td>\n",
              "      <td>29</td>\n",
              "    </tr>\n",
              "    <tr>\n",
              "      <th>Title</th>\n",
              "      <td>Adorable</td>\n",
              "      <td>Stylish and unique</td>\n",
              "      <td>Timeless</td>\n",
              "      <td>Cute, but runs a little small</td>\n",
              "      <td>Beautiful summery dress</td>\n",
              "    </tr>\n",
              "    <tr>\n",
              "      <th>Review Text</th>\n",
              "      <td>I have received so many compliments on this to...</td>\n",
              "      <td>I bought this dress for a christmas party and ...</td>\n",
              "      <td>Beautiful and flattering, i am a 6 across the ...</td>\n",
              "      <td>This is very cute, but i will have to size up ...</td>\n",
              "      <td>This dress is really lovely. if fits and flows...</td>\n",
              "    </tr>\n",
              "    <tr>\n",
              "      <th>Rating</th>\n",
              "      <td>5</td>\n",
              "      <td>5</td>\n",
              "      <td>5</td>\n",
              "      <td>4</td>\n",
              "      <td>5</td>\n",
              "    </tr>\n",
              "    <tr>\n",
              "      <th>Recommended IND</th>\n",
              "      <td>1</td>\n",
              "      <td>1</td>\n",
              "      <td>1</td>\n",
              "      <td>1</td>\n",
              "      <td>1</td>\n",
              "    </tr>\n",
              "    <tr>\n",
              "      <th>Positive Feedback Count</th>\n",
              "      <td>1</td>\n",
              "      <td>2</td>\n",
              "      <td>2</td>\n",
              "      <td>4</td>\n",
              "      <td>4</td>\n",
              "    </tr>\n",
              "    <tr>\n",
              "      <th>Division Name</th>\n",
              "      <td>General Petite</td>\n",
              "      <td>General</td>\n",
              "      <td>General Petite</td>\n",
              "      <td>General</td>\n",
              "      <td>General</td>\n",
              "    </tr>\n",
              "    <tr>\n",
              "      <th>Department Name</th>\n",
              "      <td>Tops</td>\n",
              "      <td>Dresses</td>\n",
              "      <td>Tops</td>\n",
              "      <td>Tops</td>\n",
              "      <td>Dresses</td>\n",
              "    </tr>\n",
              "    <tr>\n",
              "      <th>Class Name</th>\n",
              "      <td>Blouses</td>\n",
              "      <td>Dresses</td>\n",
              "      <td>Sweaters</td>\n",
              "      <td>Knits</td>\n",
              "      <td>Dresses</td>\n",
              "    </tr>\n",
              "  </tbody>\n",
              "</table>\n",
              "</div>"
            ],
            "text/plain": [
              "                                                                      1253  ...                                               8010\n",
              "Unnamed: 0                                                            1253  ...                                               8010\n",
              "Clothing ID                                                            850  ...                                               1103\n",
              "Age                                                                     52  ...                                                 29\n",
              "Title                                                             Adorable  ...                            Beautiful summery dress\n",
              "Review Text              I have received so many compliments on this to...  ...  This dress is really lovely. if fits and flows...\n",
              "Rating                                                                   5  ...                                                  5\n",
              "Recommended IND                                                          1  ...                                                  1\n",
              "Positive Feedback Count                                                  1  ...                                                  4\n",
              "Division Name                                               General Petite  ...                                            General\n",
              "Department Name                                                       Tops  ...                                            Dresses\n",
              "Class Name                                                         Blouses  ...                                            Dresses\n",
              "\n",
              "[11 rows x 5 columns]"
            ]
          },
          "metadata": {
            "tags": []
          },
          "execution_count": 15
        }
      ]
    },
    {
      "cell_type": "code",
      "metadata": {
        "id": "6Nk2cgaWf71i",
        "colab_type": "code",
        "outputId": "c0b91413-01cb-45be-a6f7-69bcc68725ba",
        "colab": {
          "base_uri": "https://localhost:8080/",
          "height": 393
        }
      },
      "source": [
        "sns.distplot(df['Rating'], bins=10).set_title('Rating Distribution')\n"
      ],
      "execution_count": 0,
      "outputs": [
        {
          "output_type": "execute_result",
          "data": {
            "text/plain": [
              "Text(0.5, 1.0, 'Rating Distribution')"
            ]
          },
          "metadata": {
            "tags": []
          },
          "execution_count": 14
        },
        {
          "output_type": "display_data",
          "data": {
            "image/png": "[encoded data removed]",
            "text/plain": [
              "<Figure size 576x396 with 1 Axes>"
            ]
          },
          "metadata": {
            "tags": []
          }
        }
      ]
    },
    {
      "cell_type": "code",
      "metadata": {
        "id": "8oU8HIjVgKl-",
        "colab_type": "code",
        "outputId": "7184d692-0bb4-42e9-a8f5-e8fe680e2b9f",
        "colab": {
          "base_uri": "https://localhost:8080/",
          "height": 393
        }
      },
      "source": [
        "plt.style.use('seaborn')\n",
        "sns.countplot(df['Rating']).set_title('Rating Distribution')"
      ],
      "execution_count": 0,
      "outputs": [
        {
          "output_type": "execute_result",
          "data": {
            "text/plain": [
              "Text(0.5, 1.0, 'Rating Distribution')"
            ]
          },
          "metadata": {
            "tags": []
          },
          "execution_count": 15
        },
        {
          "output_type": "display_data",
          "data": {
            "image/png": "[encoded data removed]",
            "text/plain": [
              "<Figure size 576x396 with 1 Axes>"
            ]
          },
          "metadata": {
            "tags": []
          }
        }
      ]
    },
    {
      "cell_type": "code",
      "metadata": {
        "id": "tgCW2j-Agt4V",
        "colab_type": "code",
        "outputId": "4c953e22-4e1c-4e79-f605-418905e42e1e",
        "colab": {
          "base_uri": "https://localhost:8080/",
          "height": 496
        }
      },
      "source": [
        "f, ax = plt.subplots(1, 2, figsize=(18, 8))\n",
        "sns.countplot(y='Department Name', data=df, ax=ax[0])\n",
        "sns.boxplot(x='Rating',y='Department Name',data=df, ax=ax[1])\n",
        "plt.subplots_adjust(wspace=0.4)"
      ],
      "execution_count": 0,
      "outputs": [
        {
          "output_type": "display_data",
          "data": {
            "image/png": "[encoded data removed]",
            "text/plain": [
              "<Figure size 1296x576 with 2 Axes>"
            ]
          },
          "metadata": {
            "tags": []
          }
        }
      ]
    },
    {
      "cell_type": "code",
      "metadata": {
        "id": "LcqwrSSwgarS",
        "colab_type": "code",
        "outputId": "cb6b609c-1a47-45f0-df7c-5a4a19ee86a3",
        "colab": {
          "base_uri": "https://localhost:8080/",
          "height": 496
        }
      },
      "source": [
        "f, ax = plt.subplots(1, 2, figsize=(18, 8))\n",
        "sns.countplot(y='Class Name', data=df, ax=ax[0])\n",
        "sns.boxplot(x='Rating',y='Class Name',data=df, ax=ax[1])\n",
        "plt.subplots_adjust(wspace=0.4)"
      ],
      "execution_count": 0,
      "outputs": [
        {
          "output_type": "display_data",
          "data": {
            "image/png": "[encoded data removed]",
            "text/plain": [
              "<Figure size 1296x576 with 2 Axes>"
            ]
          },
          "metadata": {
            "tags": []
          }
        }
      ]
    },
    {
      "cell_type": "code",
      "metadata": {
        "id": "Nk_mLRzUkTqG",
        "colab_type": "code",
        "outputId": "ceb21753-238f-40b4-8641-ea20c2a79bd9",
        "colab": {
          "base_uri": "https://localhost:8080/",
          "height": 1000
        }
      },
      "source": [
        "f, ax = plt.subplots(1, 2, figsize=(18,18))\n",
        "sns.countplot(y='Age', data=df, ax=ax[0])\n",
        "sns.boxplot(x='Rating',y='Age',data=df, ax=ax[1])\n",
        "plt.subplots_adjust(wspace=0.1)"
      ],
      "execution_count": 0,
      "outputs": [
        {
          "output_type": "display_data",
          "data": {
            "image/png": "[encoded data removed]",
            "text/plain": [
              "<Figure size 1296x1296 with 2 Axes>"
            ]
          },
          "metadata": {
            "tags": []
          }
        }
      ]
    },
    {
      "cell_type": "code",
      "metadata": {
        "id": "0ZonMUZqi0IB",
        "colab_type": "code",
        "outputId": "fe68f8c1-e153-4335-d603-af170b3cea97",
        "colab": {
          "base_uri": "https://localhost:8080/",
          "height": 170
        }
      },
      "source": [
        "# Number od characters\n",
        "df['Review Text'].str.len().describe()"
      ],
      "execution_count": 0,
      "outputs": [
        {
          "output_type": "execute_result",
          "data": {
            "text/plain": [
              "count    22641.000000\n",
              "mean       308.687911\n",
              "std        143.940048\n",
              "min          9.000000\n",
              "25%        186.000000\n",
              "50%        301.000000\n",
              "75%        459.000000\n",
              "max        508.000000\n",
              "Name: Review Text, dtype: float64"
            ]
          },
          "metadata": {
            "tags": []
          },
          "execution_count": 8
        }
      ]
    },
    {
      "cell_type": "code",
      "metadata": {
        "id": "0eMqZG6uhDNg",
        "colab_type": "code",
        "colab": {}
      },
      "source": [
        "# Number of words\n",
        "df['review_text_word_count'] = df['Review Text'].str.split().str.len()"
      ],
      "execution_count": 0,
      "outputs": []
    },
    {
      "cell_type": "code",
      "metadata": {
        "id": "UVXcZRwKhJnk",
        "colab_type": "code",
        "outputId": "5565809e-cbb6-497b-ed87-628ea1aede9f",
        "colab": {
          "base_uri": "https://localhost:8080/",
          "height": 521
        }
      },
      "source": [
        "sns.distplot(df.review_text_word_count, bins=100)"
      ],
      "execution_count": 0,
      "outputs": [
        {
          "output_type": "stream",
          "text": [
            "/usr/local/lib/python3.6/dist-packages/numpy/lib/histograms.py:839: RuntimeWarning: invalid value encountered in greater_equal\n",
            "  keep = (tmp_a >= first_edge)\n",
            "/usr/local/lib/python3.6/dist-packages/numpy/lib/histograms.py:840: RuntimeWarning: invalid value encountered in less_equal\n",
            "  keep &= (tmp_a <= last_edge)\n",
            "/usr/local/lib/python3.6/dist-packages/statsmodels/nonparametric/kde.py:447: RuntimeWarning: invalid value encountered in greater\n",
            "  X = X[np.logical_and(X > clip[0], X < clip[1])] # won't work for two columns.\n",
            "/usr/local/lib/python3.6/dist-packages/statsmodels/nonparametric/kde.py:447: RuntimeWarning: invalid value encountered in less\n",
            "  X = X[np.logical_and(X > clip[0], X < clip[1])] # won't work for two columns.\n"
          ],
          "name": "stderr"
        },
        {
          "output_type": "execute_result",
          "data": {
            "text/plain": [
              "<matplotlib.axes._subplots.AxesSubplot at 0x7f42714694e0>"
            ]
          },
          "metadata": {
            "tags": []
          },
          "execution_count": 28
        },
        {
          "output_type": "display_data",
          "data": {
            "image/png": "[encoded data removed]",
            "text/plain": [
              "<Figure size 576x396 with 1 Axes>"
            ]
          },
          "metadata": {
            "tags": []
          }
        }
      ]
    },
    {
      "cell_type": "code",
      "metadata": {
        "id": "K6gRCd2qhddd",
        "colab_type": "code",
        "outputId": "c5d7bb99-34a0-4a03-af2e-225a84bfe156",
        "colab": {
          "base_uri": "https://localhost:8080/",
          "height": 441
        }
      },
      "source": [
        "sns.jointplot(x=\"review_text_word_count\", y=\"Rating\", data=df, color='purple');"
      ],
      "execution_count": 0,
      "outputs": [
        {
          "output_type": "display_data",
          "data": {
            "image/png": "[encoded data removed]",
            "text/plain": [
              "<Figure size 432x432 with 3 Axes>"
            ]
          },
          "metadata": {
            "tags": []
          }
        }
      ]
    },
    {
      "cell_type": "code",
      "metadata": {
        "id": "mVIT9Ob8iDs_",
        "colab_type": "code",
        "outputId": "be12012d-cec4-483d-c094-02582b1167a8",
        "colab": {
          "base_uri": "https://localhost:8080/",
          "height": 734
        }
      },
      "source": [
        "df.hist(column='review_text_word_count', by='Rating', bins=100, figsize=(15, 10), color='green')"
      ],
      "execution_count": 0,
      "outputs": [
        {
          "output_type": "execute_result",
          "data": {
            "text/plain": [
              "array([[<matplotlib.axes._subplots.AxesSubplot object at 0x7f426e8586a0>,\n",
              "        <matplotlib.axes._subplots.AxesSubplot object at 0x7f426e81ceb8>],\n",
              "       [<matplotlib.axes._subplots.AxesSubplot object at 0x7f426e7cf898>,\n",
              "        <matplotlib.axes._subplots.AxesSubplot object at 0x7f426e70d278>],\n",
              "       [<matplotlib.axes._subplots.AxesSubplot object at 0x7f426e739c18>,\n",
              "        <matplotlib.axes._subplots.AxesSubplot object at 0x7f426e6f55f8>]],\n",
              "      dtype=object)"
            ]
          },
          "metadata": {
            "tags": []
          },
          "execution_count": 30
        },
        {
          "output_type": "display_data",
          "data": {
            "image/png": "[encoded data removed]",
            "text/plain": [
              "<Figure size 1080x720 with 6 Axes>"
            ]
          },
          "metadata": {
            "tags": []
          }
        }
      ]
    },
    {
      "cell_type": "code",
      "metadata": {
        "id": "6Z_0ByV2iMAQ",
        "colab_type": "code",
        "outputId": "6e0bc3d4-24aa-44b8-86b4-b650bf29f39a",
        "colab": {
          "base_uri": "https://localhost:8080/",
          "height": 221
        }
      },
      "source": [
        "df.review_text_word_count.value_counts()"
      ],
      "execution_count": 0,
      "outputs": [
        {
          "output_type": "execute_result",
          "data": {
            "text/plain": [
              "96.0     445\n",
              "95.0     413\n",
              "98.0     412\n",
              "99.0     408\n",
              "97.0     407\n",
              "        ... \n",
              "111.0      8\n",
              "114.0      3\n",
              "113.0      3\n",
              "112.0      3\n",
              "115.0      2\n",
              "Name: review_text_word_count, Length: 114, dtype: int64"
            ]
          },
          "metadata": {
            "tags": []
          },
          "execution_count": 12
        }
      ]
    },
    {
      "cell_type": "markdown",
      "metadata": {
        "id": "gvTWaX_ln3vH",
        "colab_type": "text"
      },
      "source": [
        "## Data Preprocessing"
      ]
    },
    {
      "cell_type": "code",
      "metadata": {
        "id": "XOLkDwrnlx_N",
        "colab_type": "code",
        "colab": {}
      },
      "source": [
        "def make_category_map(labels) -> Dict[str, int]:\n",
        "    return {x: i for i, x in enumerate(sorted(set(labels)))}"
      ],
      "execution_count": 0,
      "outputs": []
    },
    {
      "cell_type": "code",
      "metadata": {
        "id": "uygr9Ipylyyk",
        "colab_type": "code",
        "colab": {}
      },
      "source": [
        "def init_category_map(filename, labels):\n",
        "    try:\n",
        "        category_map = load_file(filename)\n",
        "    except:\n",
        "        category_map = make_category_map(labels)\n",
        "        save_file(category_map, filename)\n",
        "    return category_map"
      ],
      "execution_count": 0,
      "outputs": []
    },
    {
      "cell_type": "code",
      "metadata": {
        "id": "YgQ04wjF6KFD",
        "colab_type": "code",
        "colab": {}
      },
      "source": [
        "df = df[~df[\"Review Text\"].isna()]"
      ],
      "execution_count": 0,
      "outputs": []
    },
    {
      "cell_type": "code",
      "metadata": {
        "id": "WrszmoLgnNcv",
        "colab_type": "code",
        "colab": {}
      },
      "source": [
        "df.to_csv(TEMP_DIR/'Womens Clothing E-Commerce Reviews_mod.csv', index=False)"
      ],
      "execution_count": 0,
      "outputs": []
    },
    {
      "cell_type": "code",
      "metadata": {
        "id": "hAi6YmisnTr4",
        "colab_type": "code",
        "colab": {}
      },
      "source": [
        "df = pd.read_csv(TEMP_DIR/'Womens Clothing E-Commerce Reviews_mod.csv')"
      ],
      "execution_count": 0,
      "outputs": []
    },
    {
      "cell_type": "code",
      "metadata": {
        "id": "hBTjVzvO6dxG",
        "colab_type": "code",
        "outputId": "204db493-fed5-4ac6-c8ed-3ae0a01986a5",
        "colab": {
          "base_uri": "https://localhost:8080/",
          "height": 301
        }
      },
      "source": [
        "df.info()"
      ],
      "execution_count": 0,
      "outputs": [
        {
          "output_type": "stream",
          "text": [
            "<class 'pandas.core.frame.DataFrame'>\n",
            "RangeIndex: 22641 entries, 0 to 22640\n",
            "Data columns (total 11 columns):\n",
            "Unnamed: 0                 22641 non-null int64\n",
            "Clothing ID                22641 non-null int64\n",
            "Age                        22641 non-null int64\n",
            "Title                      19675 non-null object\n",
            "Review Text                22641 non-null object\n",
            "Rating                     22641 non-null int64\n",
            "Recommended IND            22641 non-null int64\n",
            "Positive Feedback Count    22641 non-null int64\n",
            "Division Name              22628 non-null object\n",
            "Department Name            22628 non-null object\n",
            "Class Name                 22628 non-null object\n",
            "dtypes: int64(6), object(5)\n",
            "memory usage: 1.9+ MB\n"
          ],
          "name": "stdout"
        }
      ]
    },
    {
      "cell_type": "code",
      "metadata": {
        "id": "nM4pebhgl0oU",
        "colab_type": "code",
        "colab": {}
      },
      "source": [
        "category_map = init_category_map(\n",
        "    TEMP_DIR / \"category_map.pickle\", df[\"Rating\"].values\n",
        ")"
      ],
      "execution_count": 0,
      "outputs": []
    },
    {
      "cell_type": "code",
      "metadata": {
        "id": "63gPc-r2l4Ea",
        "colab_type": "code",
        "colab": {}
      },
      "source": [
        "category_map"
      ],
      "execution_count": 0,
      "outputs": []
    },
    {
      "cell_type": "code",
      "metadata": {
        "id": "JK9e92FYl5nr",
        "colab_type": "code",
        "colab": {}
      },
      "source": [
        "n_categories = len(category_map)"
      ],
      "execution_count": 0,
      "outputs": []
    },
    {
      "cell_type": "code",
      "metadata": {
        "id": "LoToKi44l77D",
        "colab_type": "code",
        "outputId": "3160d63b-78b0-48a5-94d7-3dbb108aea2f",
        "colab": {
          "base_uri": "https://localhost:8080/",
          "height": 35
        }
      },
      "source": [
        "n_categories"
      ],
      "execution_count": 0,
      "outputs": [
        {
          "output_type": "execute_result",
          "data": {
            "text/plain": [
              "5"
            ]
          },
          "metadata": {
            "tags": []
          },
          "execution_count": 12
        }
      ]
    },
    {
      "cell_type": "code",
      "metadata": {
        "id": "2okxHs30mpps",
        "colab_type": "code",
        "colab": {}
      },
      "source": [
        "df[\"Rating\"] = df[\"Rating\"].map(category_map)"
      ],
      "execution_count": 0,
      "outputs": []
    },
    {
      "cell_type": "code",
      "metadata": {
        "id": "Da1gELhPzsFg",
        "colab_type": "code",
        "outputId": "aa93a8b1-ad83-4e78-a6fd-2fe1eb1fc947",
        "colab": {
          "base_uri": "https://localhost:8080/",
          "height": 35
        }
      },
      "source": [
        "df[\"Rating\"].unique()"
      ],
      "execution_count": 0,
      "outputs": [
        {
          "output_type": "execute_result",
          "data": {
            "text/plain": [
              "array([3, 4, 2, 1, 0])"
            ]
          },
          "metadata": {
            "tags": []
          },
          "execution_count": 14
        }
      ]
    },
    {
      "cell_type": "code",
      "metadata": {
        "id": "42ltUyUwl9ST",
        "colab_type": "code",
        "colab": {}
      },
      "source": [
        "all_data_bundle = DataBundle.from_dataframe(\n",
        "    dataframe=df, x_col=\"Review Text\", y_col=\"Rating\"\n",
        ")"
      ],
      "execution_count": 0,
      "outputs": []
    },
    {
      "cell_type": "code",
      "metadata": {
        "id": "bJqeTeCJmF2z",
        "colab_type": "code",
        "colab": {}
      },
      "source": [
        "train_data_bundle, validation_data_bundle, test_data_bundle = DataBundle.split(\n",
        "    data_bundle=all_data_bundle, fracs=[0.7, 0.15, 0.15], random=False\n",
        ")"
      ],
      "execution_count": 0,
      "outputs": []
    },
    {
      "cell_type": "code",
      "metadata": {
        "id": "wgLCTwSVvqdf",
        "colab_type": "code",
        "colab": {}
      },
      "source": [
        "data_container = DataContainer(\n",
        "    train_data_bundle, validation_data_bundle, test_data_bundle\n",
        ")"
      ],
      "execution_count": 0,
      "outputs": []
    },
    {
      "cell_type": "code",
      "metadata": {
        "id": "vQoTDz6Az98c",
        "colab_type": "code",
        "outputId": "0537bcc3-5513-491f-aacc-1f65242d2c34",
        "colab": {
          "base_uri": "https://localhost:8080/",
          "height": 34
        }
      },
      "source": [
        "data_container.train.value_counts()"
      ],
      "execution_count": 0,
      "outputs": [
        {
          "output_type": "execute_result",
          "data": {
            "text/plain": [
              "{0: 560, 1: 1070, 2: 1973, 3: 3394, 4: 8852}"
            ]
          },
          "metadata": {
            "tags": []
          },
          "execution_count": 17
        }
      ]
    },
    {
      "cell_type": "code",
      "metadata": {
        "id": "FpP1JEKHmTvk",
        "colab_type": "code",
        "outputId": "15f2741e-01aa-4179-afb5-62efb07618d9",
        "colab": {
          "base_uri": "https://localhost:8080/",
          "height": 34
        }
      },
      "source": [
        "data_container.validation.value_counts()"
      ],
      "execution_count": 0,
      "outputs": [
        {
          "output_type": "execute_result",
          "data": {
            "text/plain": [
              "{0: 140, 1: 244, 2: 468, 3: 735, 4: 1810}"
            ]
          },
          "metadata": {
            "tags": []
          },
          "execution_count": 21
        }
      ]
    },
    {
      "cell_type": "code",
      "metadata": {
        "id": "n6HK-trqmcp7",
        "colab_type": "code",
        "outputId": "7b808639-b4bc-4e84-fcd3-6c625fd8807b",
        "colab": {
          "base_uri": "https://localhost:8080/",
          "height": 34
        }
      },
      "source": [
        "data_container.test.value_counts()"
      ],
      "execution_count": 0,
      "outputs": [
        {
          "output_type": "execute_result",
          "data": {
            "text/plain": [
              "{0: 121, 1: 235, 2: 382, 3: 779, 4: 1878}"
            ]
          },
          "metadata": {
            "tags": []
          },
          "execution_count": 22
        }
      ]
    },
    {
      "cell_type": "code",
      "metadata": {
        "id": "Tvx0SvXPWSUI",
        "colab_type": "code",
        "colab": {}
      },
      "source": [
        "class_weights_orig = dict(\n",
        "    enumerate(\n",
        "        sk.utils.class_weight.compute_class_weight(\n",
        "            \"balanced\", np.unique(data_container.train.y), data_container.train.y\n",
        "        )\n",
        "    )\n",
        ")"
      ],
      "execution_count": 0,
      "outputs": []
    },
    {
      "cell_type": "code",
      "metadata": {
        "id": "tnIaL5Opv0Rl",
        "colab_type": "code",
        "colab": {}
      },
      "source": [
        "data_container.train = DataBundle.from_unbalanced(data_container.train)"
      ],
      "execution_count": 0,
      "outputs": []
    },
    {
      "cell_type": "code",
      "metadata": {
        "id": "DvuCkC6NvxcB",
        "colab_type": "code",
        "colab": {}
      },
      "source": [
        "class_weights = dict(\n",
        "    enumerate(\n",
        "        sk.utils.class_weight.compute_class_weight(\n",
        "            \"balanced\", np.unique(data_container.train.y), data_container.train.y\n",
        "        )\n",
        "    )\n",
        ")"
      ],
      "execution_count": 0,
      "outputs": []
    },
    {
      "cell_type": "code",
      "metadata": {
        "id": "Gd8IVJByv5N_",
        "colab_type": "code",
        "outputId": "6dbb5bfd-fe4f-4586-fb0c-de8dc3fd6aaa",
        "colab": {
          "base_uri": "https://localhost:8080/",
          "height": 105
        }
      },
      "source": [
        "class_weights"
      ],
      "execution_count": 0,
      "outputs": [
        {
          "output_type": "execute_result",
          "data": {
            "text/plain": [
              "{0: 0.9640952380952381,\n",
              " 1: 0.9460747663551402,\n",
              " 2: 1.0261530663963507,\n",
              " 3: 1.1930465527401297,\n",
              " 4: 0.9148666967916855}"
            ]
          },
          "metadata": {
            "tags": []
          },
          "execution_count": 19
        }
      ]
    },
    {
      "cell_type": "code",
      "metadata": {
        "id": "djB9CsWyv7k2",
        "colab_type": "code",
        "outputId": "aa0d5859-89b4-4574-cb03-0cc04ef99fd4",
        "colab": {
          "base_uri": "https://localhost:8080/",
          "height": 34
        }
      },
      "source": [
        "len(data_container.train), len(data_container.validation), len(data_container.test)"
      ],
      "execution_count": 0,
      "outputs": [
        {
          "output_type": "execute_result",
          "data": {
            "text/plain": [
              "(40492, 3397, 3395)"
            ]
          },
          "metadata": {
            "tags": []
          },
          "execution_count": 28
        }
      ]
    },
    {
      "cell_type": "code",
      "metadata": {
        "id": "dgFwT8droGD6",
        "colab_type": "code",
        "colab": {}
      },
      "source": [
        "def make_dataset(data_bundle):\n",
        "    return tf.data.Dataset.from_tensor_slices((data_bundle.x, data_bundle.y))"
      ],
      "execution_count": 0,
      "outputs": []
    },
    {
      "cell_type": "code",
      "metadata": {
        "id": "7Wr6BgoqoN5S",
        "colab_type": "code",
        "colab": {}
      },
      "source": [
        "data_container.train.dataset = make_dataset(data_container.train)\n",
        "data_container.validation.dataset = make_dataset(data_container.validation)\n",
        "data_container.test.dataset = make_dataset(data_container.test)"
      ],
      "execution_count": 0,
      "outputs": []
    },
    {
      "cell_type": "code",
      "metadata": {
        "id": "CC6e5QUh8CX_",
        "colab_type": "code",
        "outputId": "fe30a400-0635-4d14-b752-40ae15252d35",
        "colab": {
          "base_uri": "https://localhost:8080/",
          "height": 54
        }
      },
      "source": [
        "data_container.train.x[0]"
      ],
      "execution_count": 0,
      "outputs": [
        {
          "output_type": "execute_result",
          "data": {
            "text/plain": [
              "\"3 tags sewn in, 2 small (about 1'' long) and 1 huge (about 2'' x 3''). very itchy so i cut them out. then the thread left behind was plasticy and even more itchy! how can you make an intimates item with such itchy tags? not comfortable at all! also - i love bralettes and wear them all the time including to work. i am a b cup. however, this one is so thin and flimsy that it gives no support even to a b cup - so for me this would only be a lounging bralette - if it wasn't so itchy!\""
            ]
          },
          "metadata": {
            "tags": []
          },
          "execution_count": 22
        }
      ]
    },
    {
      "cell_type": "code",
      "metadata": {
        "id": "8xxTn8eG8Cg6",
        "colab_type": "code",
        "outputId": "557e55c5-9524-4ff5-c8fe-327660bec8c8",
        "colab": {
          "base_uri": "https://localhost:8080/",
          "height": 34
        }
      },
      "source": [
        "data_container.train.y[0]"
      ],
      "execution_count": 0,
      "outputs": [
        {
          "output_type": "execute_result",
          "data": {
            "text/plain": [
              "0"
            ]
          },
          "metadata": {
            "tags": []
          },
          "execution_count": 23
        }
      ]
    },
    {
      "cell_type": "markdown",
      "metadata": {
        "id": "Sj92RtRKoXBC",
        "colab_type": "text"
      },
      "source": [
        "## Models using tf.hub"
      ]
    },
    {
      "cell_type": "code",
      "metadata": {
        "id": "6J_NqfQ48LRS",
        "colab_type": "code",
        "colab": {}
      },
      "source": [
        "def make_sentence_length_limiter(limit):\n",
        "    def inner(x, y):\n",
        "        return tf.strings.substr(x, 0, limit), y\n",
        "\n",
        "    return inner"
      ],
      "execution_count": 0,
      "outputs": []
    },
    {
      "cell_type": "code",
      "metadata": {
        "id": "Fx19O6_J8VYK",
        "colab_type": "code",
        "colab": {}
      },
      "source": [
        "BATCH_SIZE = 8\n"
      ],
      "execution_count": 0,
      "outputs": []
    },
    {
      "cell_type": "code",
      "metadata": {
        "id": "TTKgWlF88LaN",
        "colab_type": "code",
        "colab": {}
      },
      "source": [
        "length_limiter = make_sentence_length_limiter(400)"
      ],
      "execution_count": 0,
      "outputs": []
    },
    {
      "cell_type": "code",
      "metadata": {
        "id": "Fik6-EnO8LWt",
        "colab_type": "code",
        "colab": {}
      },
      "source": [
        "train_dataset = (\n",
        "    data_container.train.dataset.repeat()\n",
        "    .shuffle(len(data_container.train))\n",
        "    .batch(BATCH_SIZE)\n",
        "    .map(length_limiter)\n",
        "    .prefetch(AUTOTUNE)\n",
        ")"
      ],
      "execution_count": 0,
      "outputs": []
    },
    {
      "cell_type": "code",
      "metadata": {
        "id": "U5d2nz2y8LU4",
        "colab_type": "code",
        "outputId": "7017026b-4e2d-494a-ed21-093bf9529059",
        "colab": {
          "base_uri": "https://localhost:8080/",
          "height": 105
        }
      },
      "source": [
        "for x, y in train_dataset.take(1):\n",
        "    print(x.shape)\n",
        "    print(y.shape)\n",
        "    print(x[0])\n",
        "    print(y[0])"
      ],
      "execution_count": 0,
      "outputs": [
        {
          "output_type": "stream",
          "text": [
            "(8,)\n",
            "(8,)\n",
            "tf.Tensor(b'I tried this on in a different retailer a couple of weeks ago... ....tried on a different one last night..same size and it looked baggy, sleeves way too long, etc.  let me add that i am usually a xs/s petite but some regular extra smalls will work also.  this was a xs reg.  even the sa could see that one looked like it fit smaller ( i showed her the photo in my phone) while this one swallowed me. ', shape=(), dtype=string)\n",
            "tf.Tensor(2, shape=(), dtype=int64)\n"
          ],
          "name": "stdout"
        }
      ]
    },
    {
      "cell_type": "code",
      "metadata": {
        "id": "cRGdevkR-Gn0",
        "colab_type": "code",
        "colab": {}
      },
      "source": [
        "validation_dataset = (\n",
        "    data_container.validation.dataset.batch(BATCH_SIZE)\n",
        "    .map(length_limiter)\n",
        "    .prefetch(AUTOTUNE)\n",
        ")"
      ],
      "execution_count": 0,
      "outputs": []
    },
    {
      "cell_type": "code",
      "metadata": {
        "id": "8pTNvLdP-GtL",
        "colab_type": "code",
        "outputId": "531eaa1e-0999-4c8c-8956-1cec8476c196",
        "colab": {
          "base_uri": "https://localhost:8080/",
          "height": 105
        }
      },
      "source": [
        "for x, y in validation_dataset.take(1):\n",
        "    print(x.shape)\n",
        "    print(y.shape)\n",
        "    print(x[0])\n",
        "    print(y[0])"
      ],
      "execution_count": 0,
      "outputs": [
        {
          "output_type": "stream",
          "text": [
            "(8,)\n",
            "(8,)\n",
            "tf.Tensor(b'The blue is a beautiful color, rather unique and it is really soft being cashmere. although, for the price i do feel it should of been a bit more \"special\". i also feel it\\'s loose lower half feels a bit maternity. all that being said i do like the overall sweater and am keeping it as the color and feel win.', shape=(), dtype=string)\n",
            "tf.Tensor(3, shape=(), dtype=int64)\n"
          ],
          "name": "stdout"
        }
      ]
    },
    {
      "cell_type": "code",
      "metadata": {
        "id": "OZTYt6rj-Gwy",
        "colab_type": "code",
        "colab": {}
      },
      "source": [
        "train_dataset_steps = math.ceil(len(data_container.train) / BATCH_SIZE)"
      ],
      "execution_count": 0,
      "outputs": []
    },
    {
      "cell_type": "code",
      "metadata": {
        "id": "DOcPomUK-KT-",
        "colab_type": "code",
        "colab": {}
      },
      "source": [
        "def train_model(\n",
        "    model,\n",
        "    epochs,\n",
        "    lrs=None,\n",
        "    optimizers=None,\n",
        "    patience=5,\n",
        "    verbose=1,\n",
        "    log_dir=str(TEMP_DIR / \"logs\"),\n",
        "):\n",
        "    if optimizers is None:\n",
        "        optimizers = [keras.optimizers.Adam(lr) for lr in lrs]\n",
        "    model.layers[0].trainable = False\n",
        "    model.compile(\n",
        "        loss=keras.losses.sparse_categorical_crossentropy,\n",
        "        optimizer=optimizers[0],\n",
        "        metrics=[\n",
        "            keras.metrics.sparse_categorical_accuracy,\n",
        "            sparse_top_2_categorical_accuracy,\n",
        "        ],\n",
        "    )\n",
        "    model.fit(\n",
        "        train_dataset,\n",
        "        steps_per_epoch=train_dataset_steps,\n",
        "        validation_data=validation_dataset,\n",
        "        epochs=epochs[0],\n",
        "        callbacks=[\n",
        "            keras.callbacks.ReduceLROnPlateau(patience=1, factor=0.3),\n",
        "            keras.callbacks.EarlyStopping(patience=2, restore_best_weights=True),\n",
        "        ],\n",
        "        class_weight=class_weights,\n",
        "        verbose=verbose,\n",
        "    )\n",
        "    model.layers[0].trainable = True\n",
        "    model.compile(\n",
        "        loss=keras.losses.sparse_categorical_crossentropy,\n",
        "        optimizer=optimizers[1],\n",
        "        metrics=[\n",
        "            keras.metrics.sparse_categorical_accuracy,\n",
        "            sparse_top_2_categorical_accuracy,\n",
        "        ],\n",
        "    )\n",
        "    model.fit(\n",
        "        train_dataset,\n",
        "        steps_per_epoch=train_dataset_steps,\n",
        "        validation_data=validation_dataset,\n",
        "        epochs=epochs[1],\n",
        "        callbacks=[\n",
        "            keras.callbacks.ReduceLROnPlateau(patience=patience // 2, factor=0.3),\n",
        "            keras.callbacks.EarlyStopping(patience=patience, restore_best_weights=True),\n",
        "        ],\n",
        "        class_weight=class_weights,\n",
        "        verbose=verbose,\n",
        "    )"
      ],
      "execution_count": 0,
      "outputs": []
    },
    {
      "cell_type": "code",
      "metadata": {
        "id": "OOEM2n6H-KZy",
        "colab_type": "code",
        "colab": {}
      },
      "source": [
        "def make_hub_model(url):\n",
        "    return keras.Sequential(\n",
        "        [\n",
        "            hub.KerasLayer(url, dtype=tf.string, input_shape=[]),\n",
        "            keras.layers.Dropout(0.5),\n",
        "            keras.layers.Dense(n_categories, activation=keras.activations.softmax),\n",
        "        ]\n",
        "    )"
      ],
      "execution_count": 0,
      "outputs": []
    },
    {
      "cell_type": "code",
      "metadata": {
        "id": "nu7vM_1yBclc",
        "colab_type": "code",
        "colab": {}
      },
      "source": [
        "def make_extended_hub_model(url):\n",
        "    return keras.Sequential(\n",
        "        [\n",
        "            hub.KerasLayer(url, dtype=tf.string, input_shape=[]),\n",
        "            keras.layers.Dropout(0.5),\n",
        "            keras.layers.Dense(\n",
        "                128,\n",
        "                activation=keras.activations.relu,\n",
        "                kernel_initializer=keras.initializers.he_uniform(),\n",
        "            ),\n",
        "            keras.layers.Dropout(0.5),\n",
        "            keras.layers.Dense(n_categories, activation=keras.activations.softmax),\n",
        "        ]\n",
        "    )"
      ],
      "execution_count": 0,
      "outputs": []
    },
    {
      "cell_type": "code",
      "metadata": {
        "id": "8HIbg6UC-KdA",
        "colab_type": "code",
        "colab": {}
      },
      "source": [
        "def run_models(urls, versions, epochs=[2,12], lrs=[1e-4, 3e-5]):\n",
        "    for url in urls:\n",
        "        for version in versions:\n",
        "            model = version_model_map[version](url)\n",
        "            model_name = f\"{url.split('/')[4]}_{version}\"\n",
        "            print(f\" {model_name} \".center(80, \"=\"))\n",
        "            shutil.rmtree(str(TEMP_DIR / model_name), ignore_errors=True)\n",
        "            train_model(\n",
        "                model=model,\n",
        "                epochs=epochs,\n",
        "                optimizers=[\n",
        "                    keras.optimizers.Adam(lr=lrs[0]),\n",
        "                    keras.optimizers.Adam(lr=lrs[1]),\n",
        "                ],\n",
        "                patience=4,\n",
        "                verbose=2,\n",
        "                log_dir=str(TEMP_DIR / model_name),\n",
        "            )\n",
        "            model.save(f\"{TEMP_DIR / model_name}.h5\")\n",
        "            save_keras_model(\n",
        "                model,\n",
        "                str(TEMP_DIR / model_name / \"architecture\"),\n",
        "                str(TEMP_DIR / model_name / \"weights\"),\n",
        "            )\n",
        "            keras.backend.clear_session()\n",
        "            del model\n",
        "            keras.backend.clear_session()"
      ],
      "execution_count": 0,
      "outputs": []
    },
    {
      "cell_type": "code",
      "metadata": {
        "id": "pimpGBaZBzJx",
        "colab_type": "code",
        "colab": {}
      },
      "source": [
        "def evaluate_models(urls, versions):\n",
        "    reports = {}\n",
        "    for url in urls:\n",
        "        for version in versions:\n",
        "            model_name = f\"{url.split('/')[4]}_{version}\"\n",
        "            print(f\" {model_name} \".center(80, \"=\"))\n",
        "            try:\n",
        "                model = keras.model.load_model(\n",
        "                    f\"{TEMP_DIR / model_name}.h5\",\n",
        "                    custom_objects={\"KerasLayer\": hub.KerasLayer},\n",
        "                )\n",
        "            except:\n",
        "                print(f\"Loading architecture & weights separately\")\n",
        "                model = load_keras_model(\n",
        "                    str(TEMP_DIR / model_name / \"architecture\"),\n",
        "                    str(TEMP_DIR / model_name / \"weights\"),\n",
        "                    custom_objects={\"KerasLayer\": hub.KerasLayer},\n",
        "                )\n",
        "            reports[model_name] = classification_report(\n",
        "                data_container.validation.y,\n",
        "                model.predict(validation_dataset).argmax(axis=1),\n",
        "            )\n",
        "            del model\n",
        "    return reports"
      ],
      "execution_count": 0,
      "outputs": []
    },
    {
      "cell_type": "markdown",
      "metadata": {
        "id": "KDbCT3zUpzlJ",
        "colab_type": "text"
      },
      "source": [
        "### nnlm-en-dim128-with-normalization_base_v1"
      ]
    },
    {
      "cell_type": "markdown",
      "metadata": {
        "id": "Pu_4jnT57BCI",
        "colab_type": "text"
      },
      "source": [
        "    epochs=[2,12],\n",
        "    lrs=[1e-4, 3e-5]"
      ]
    },
    {
      "cell_type": "code",
      "metadata": {
        "id": "UWj0AIvTBglV",
        "colab_type": "code",
        "colab": {}
      },
      "source": [
        "version_model_map = {\"base\": make_hub_model}"
      ],
      "execution_count": 0,
      "outputs": []
    },
    {
      "cell_type": "code",
      "metadata": {
        "id": "FGO18H6gBHAg",
        "colab_type": "code",
        "colab": {}
      },
      "source": [
        "model_urls = (\n",
        "    \"https://tfhub.dev/google/nnlm-en-dim128-with-normalization/2\",\n",
        ")"
      ],
      "execution_count": 0,
      "outputs": []
    },
    {
      "cell_type": "code",
      "metadata": {
        "id": "wzKTskshB9Aa",
        "colab_type": "code",
        "outputId": "72d1a131-3d91-4052-c787-fb9045f15264",
        "colab": {
          "base_uri": "https://localhost:8080/",
          "height": 587
        }
      },
      "source": [
        "run_models(model_urls, version_model_map.keys())"
      ],
      "execution_count": 0,
      "outputs": [
        {
          "output_type": "stream",
          "text": [
            "==================== nnlm-en-dim128-with-normalization_base ====================\n",
            "Train for 5062 steps, validate for 425 steps\n",
            "Epoch 1/2\n",
            "5062/5062 - 20s - loss: 1.5735 - sparse_categorical_accuracy: 0.2803 - sparse_top_2_categorical_accuracy: 0.5133 - val_loss: 1.5548 - val_sparse_categorical_accuracy: 0.3365 - val_sparse_top_2_categorical_accuracy: 0.5599\n",
            "Epoch 2/2\n",
            "5062/5062 - 19s - loss: 1.5293 - sparse_categorical_accuracy: 0.3226 - sparse_top_2_categorical_accuracy: 0.5625 - val_loss: 1.4541 - val_sparse_categorical_accuracy: 0.4728 - val_sparse_top_2_categorical_accuracy: 0.6832\n",
            "Train for 5062 steps, validate for 425 steps\n",
            "Epoch 1/12\n",
            "5062/5062 - 368s - loss: 1.4397 - sparse_categorical_accuracy: 0.3831 - sparse_top_2_categorical_accuracy: 0.6438 - val_loss: 1.3322 - val_sparse_categorical_accuracy: 0.5287 - val_sparse_top_2_categorical_accuracy: 0.7545\n",
            "Epoch 2/12\n",
            "5062/5062 - 366s - loss: 1.3213 - sparse_categorical_accuracy: 0.4633 - sparse_top_2_categorical_accuracy: 0.7285 - val_loss: 1.1853 - val_sparse_categorical_accuracy: 0.5764 - val_sparse_top_2_categorical_accuracy: 0.8054\n",
            "Epoch 3/12\n",
            "5062/5062 - 366s - loss: 1.2291 - sparse_categorical_accuracy: 0.5045 - sparse_top_2_categorical_accuracy: 0.7724 - val_loss: 1.1122 - val_sparse_categorical_accuracy: 0.5764 - val_sparse_top_2_categorical_accuracy: 0.8160\n",
            "Epoch 4/12\n",
            "5062/5062 - 366s - loss: 1.1553 - sparse_categorical_accuracy: 0.5378 - sparse_top_2_categorical_accuracy: 0.8034 - val_loss: 1.0682 - val_sparse_categorical_accuracy: 0.5814 - val_sparse_top_2_categorical_accuracy: 0.8210\n",
            "Epoch 5/12\n",
            "5062/5062 - 366s - loss: 1.0890 - sparse_categorical_accuracy: 0.5712 - sparse_top_2_categorical_accuracy: 0.8265 - val_loss: 1.0343 - val_sparse_categorical_accuracy: 0.5835 - val_sparse_top_2_categorical_accuracy: 0.8290\n",
            "Epoch 6/12\n",
            "5062/5062 - 366s - loss: 1.0434 - sparse_categorical_accuracy: 0.5928 - sparse_top_2_categorical_accuracy: 0.8373 - val_loss: 1.0120 - val_sparse_categorical_accuracy: 0.5920 - val_sparse_top_2_categorical_accuracy: 0.8316\n",
            "Epoch 7/12\n",
            "5062/5062 - 366s - loss: 1.0038 - sparse_categorical_accuracy: 0.6095 - sparse_top_2_categorical_accuracy: 0.8504 - val_loss: 0.9981 - val_sparse_categorical_accuracy: 0.5929 - val_sparse_top_2_categorical_accuracy: 0.8354\n",
            "Epoch 8/12\n",
            "5062/5062 - 366s - loss: 0.9627 - sparse_categorical_accuracy: 0.6288 - sparse_top_2_categorical_accuracy: 0.8632 - val_loss: 0.9940 - val_sparse_categorical_accuracy: 0.5908 - val_sparse_top_2_categorical_accuracy: 0.8366\n",
            "Epoch 9/12\n",
            "5062/5062 - 366s - loss: 0.9181 - sparse_categorical_accuracy: 0.6495 - sparse_top_2_categorical_accuracy: 0.8732 - val_loss: 0.9844 - val_sparse_categorical_accuracy: 0.5961 - val_sparse_top_2_categorical_accuracy: 0.8378\n",
            "Epoch 10/12\n",
            "5062/5062 - 366s - loss: 0.8888 - sparse_categorical_accuracy: 0.6607 - sparse_top_2_categorical_accuracy: 0.8803 - val_loss: 0.9754 - val_sparse_categorical_accuracy: 0.5988 - val_sparse_top_2_categorical_accuracy: 0.8399\n",
            "Epoch 11/12\n",
            "5062/5062 - 366s - loss: 0.8550 - sparse_categorical_accuracy: 0.6789 - sparse_top_2_categorical_accuracy: 0.8897 - val_loss: 0.9758 - val_sparse_categorical_accuracy: 0.5943 - val_sparse_top_2_categorical_accuracy: 0.8375\n",
            "Epoch 12/12\n",
            "5062/5062 - 366s - loss: 0.8387 - sparse_categorical_accuracy: 0.6859 - sparse_top_2_categorical_accuracy: 0.8928 - val_loss: 0.9870 - val_sparse_categorical_accuracy: 0.5926 - val_sparse_top_2_categorical_accuracy: 0.8340\n"
          ],
          "name": "stdout"
        }
      ]
    },
    {
      "cell_type": "code",
      "metadata": {
        "id": "NtkCInzLCjX0",
        "colab_type": "code",
        "outputId": "27606d0d-cb03-4ed3-bcd0-ed2840203fd1",
        "colab": {
          "base_uri": "https://localhost:8080/",
          "height": 52
        }
      },
      "source": [
        "reports = evaluate_models(model_urls, version_model_map.keys())"
      ],
      "execution_count": 0,
      "outputs": [
        {
          "output_type": "stream",
          "text": [
            "==================== nnlm-en-dim128-with-normalization_base ====================\n",
            "Loading architecture & weights separately\n"
          ],
          "name": "stdout"
        }
      ]
    },
    {
      "cell_type": "code",
      "metadata": {
        "id": "cvYtzh0LCq0f",
        "colab_type": "code",
        "outputId": "c8fbe8db-bb5c-4e1b-8a9e-add439f4553a",
        "colab": {
          "base_uri": "https://localhost:8080/",
          "height": 247
        }
      },
      "source": [
        "for model_name, report in reports.items():\n",
        "    print(f\" {model_name} \".center(80, \"=\"))\n",
        "    print(report)"
      ],
      "execution_count": 0,
      "outputs": [
        {
          "output_type": "stream",
          "text": [
            "==================== nnlm-en-dim128-with-normalization_base ====================\n",
            "              precision    recall  f1-score   support\n",
            "\n",
            "           0       0.30      0.31      0.31       140\n",
            "           1       0.31      0.35      0.33       244\n",
            "           2       0.38      0.43      0.40       468\n",
            "           3       0.41      0.42      0.42       735\n",
            "           4       0.82      0.77      0.79      1810\n",
            "\n",
            "    accuracy                           0.60      3397\n",
            "   macro avg       0.45      0.46      0.45      3397\n",
            "weighted avg       0.61      0.60      0.61      3397\n",
            "\n"
          ],
          "name": "stdout"
        }
      ]
    },
    {
      "cell_type": "markdown",
      "metadata": {
        "id": "mDBq2d3Mp83i",
        "colab_type": "text"
      },
      "source": [
        "### Wiki-words-250-with-normalization_base_v1"
      ]
    },
    {
      "cell_type": "markdown",
      "metadata": {
        "colab_type": "text",
        "id": "M-RivVv378BY"
      },
      "source": [
        "    epochs=[2,12],\n",
        "    lrs=[1e-4, 3e-5]"
      ]
    },
    {
      "cell_type": "code",
      "metadata": {
        "colab_type": "code",
        "id": "GDPxPMfqC2Pw",
        "colab": {}
      },
      "source": [
        "model_urls = (\n",
        "    \"https://tfhub.dev/google/Wiki-words-250-with-normalization/2\",\n",
        ")"
      ],
      "execution_count": 0,
      "outputs": []
    },
    {
      "cell_type": "code",
      "metadata": {
        "colab_type": "code",
        "outputId": "7405d93c-95c6-4cf0-da6c-75f7e04604ff",
        "id": "CrCB-4v7C2P4",
        "colab": {
          "base_uri": "https://localhost:8080/",
          "height": 552
        }
      },
      "source": [
        "run_models(model_urls, version_model_map.keys())"
      ],
      "execution_count": 0,
      "outputs": [
        {
          "output_type": "stream",
          "text": [
            "==================== Wiki-words-250-with-normalization_base ====================\n",
            "Train for 5062 steps, validate for 425 steps\n",
            "Epoch 1/2\n",
            "5062/5062 - 29s - loss: 1.5931 - sparse_categorical_accuracy: 0.2643 - sparse_top_2_categorical_accuracy: 0.5044 - val_loss: 1.5027 - val_sparse_categorical_accuracy: 0.4851 - val_sparse_top_2_categorical_accuracy: 0.6756\n",
            "Epoch 2/2\n",
            "5062/5062 - 28s - loss: 1.5578 - sparse_categorical_accuracy: 0.2901 - sparse_top_2_categorical_accuracy: 0.5302 - val_loss: 1.3793 - val_sparse_categorical_accuracy: 0.5346 - val_sparse_top_2_categorical_accuracy: 0.7368\n",
            "Train for 5062 steps, validate for 425 steps\n",
            "Epoch 1/12\n",
            "5062/5062 - 1129s - loss: 1.4623 - sparse_categorical_accuracy: 0.3587 - sparse_top_2_categorical_accuracy: 0.6188 - val_loss: 1.3204 - val_sparse_categorical_accuracy: 0.5434 - val_sparse_top_2_categorical_accuracy: 0.7748\n",
            "Epoch 2/12\n",
            "5062/5062 - 1128s - loss: 1.3264 - sparse_categorical_accuracy: 0.4545 - sparse_top_2_categorical_accuracy: 0.7156 - val_loss: 1.1749 - val_sparse_categorical_accuracy: 0.5737 - val_sparse_top_2_categorical_accuracy: 0.8037\n",
            "Epoch 3/12\n",
            "5062/5062 - 1128s - loss: 1.2184 - sparse_categorical_accuracy: 0.5106 - sparse_top_2_categorical_accuracy: 0.7716 - val_loss: 1.0988 - val_sparse_categorical_accuracy: 0.5843 - val_sparse_top_2_categorical_accuracy: 0.8187\n",
            "Epoch 4/12\n",
            "5062/5062 - 1129s - loss: 1.1345 - sparse_categorical_accuracy: 0.5456 - sparse_top_2_categorical_accuracy: 0.8049 - val_loss: 1.0549 - val_sparse_categorical_accuracy: 0.5849 - val_sparse_top_2_categorical_accuracy: 0.8219\n",
            "Epoch 5/12\n",
            "5062/5062 - 1128s - loss: 1.0677 - sparse_categorical_accuracy: 0.5785 - sparse_top_2_categorical_accuracy: 0.8299 - val_loss: 1.0189 - val_sparse_categorical_accuracy: 0.5885 - val_sparse_top_2_categorical_accuracy: 0.8290\n",
            "Epoch 6/12\n",
            "5062/5062 - 1128s - loss: 1.0147 - sparse_categorical_accuracy: 0.6009 - sparse_top_2_categorical_accuracy: 0.8454 - val_loss: 1.0158 - val_sparse_categorical_accuracy: 0.5776 - val_sparse_top_2_categorical_accuracy: 0.8290\n",
            "Epoch 7/12\n",
            "5062/5062 - 1128s - loss: 0.9626 - sparse_categorical_accuracy: 0.6254 - sparse_top_2_categorical_accuracy: 0.8618 - val_loss: 0.9964 - val_sparse_categorical_accuracy: 0.5808 - val_sparse_top_2_categorical_accuracy: 0.8337\n",
            "Epoch 8/12\n",
            "5062/5062 - 1128s - loss: 0.9142 - sparse_categorical_accuracy: 0.6506 - sparse_top_2_categorical_accuracy: 0.8755 - val_loss: 0.9856 - val_sparse_categorical_accuracy: 0.5814 - val_sparse_top_2_categorical_accuracy: 0.8375\n",
            "Epoch 9/12\n",
            "5062/5062 - 1129s - loss: 0.8745 - sparse_categorical_accuracy: 0.6677 - sparse_top_2_categorical_accuracy: 0.8814 - val_loss: 0.9809 - val_sparse_categorical_accuracy: 0.5832 - val_sparse_top_2_categorical_accuracy: 0.8343\n",
            "Epoch 10/12\n",
            "5062/5062 - 1129s - loss: 0.8327 - sparse_categorical_accuracy: 0.6875 - sparse_top_2_categorical_accuracy: 0.8928 - val_loss: 0.9849 - val_sparse_categorical_accuracy: 0.5832 - val_sparse_top_2_categorical_accuracy: 0.8325\n",
            "Epoch 11/12\n",
            "5062/5062 - 1130s - loss: 0.8232 - sparse_categorical_accuracy: 0.6915 - sparse_top_2_categorical_accuracy: 0.8954 - val_loss: 0.9908 - val_sparse_categorical_accuracy: 0.5826 - val_sparse_top_2_categorical_accuracy: 0.8284\n"
          ],
          "name": "stdout"
        }
      ]
    },
    {
      "cell_type": "code",
      "metadata": {
        "colab_type": "code",
        "id": "M4NXN7EqC2P-",
        "outputId": "c24ee6c3-d87a-45a9-f179-72a38a7b88c4",
        "colab": {
          "base_uri": "https://localhost:8080/",
          "height": 52
        }
      },
      "source": [
        "reports = evaluate_models(model_urls, version_model_map.keys())"
      ],
      "execution_count": 0,
      "outputs": [
        {
          "output_type": "stream",
          "text": [
            "==================== Wiki-words-250-with-normalization_base ====================\n",
            "Loading architecture & weights separately\n"
          ],
          "name": "stdout"
        }
      ]
    },
    {
      "cell_type": "code",
      "metadata": {
        "colab_type": "code",
        "id": "HWxmofA6C2QB",
        "outputId": "e03712bc-eee1-4d92-d2dd-3df87cbb4c9a",
        "colab": {
          "base_uri": "https://localhost:8080/",
          "height": 247
        }
      },
      "source": [
        "for model_name, report in reports.items():\n",
        "    print(f\" {model_name} \".center(80, \"=\"))\n",
        "    print(report)"
      ],
      "execution_count": 0,
      "outputs": [
        {
          "output_type": "stream",
          "text": [
            "==================== Wiki-words-250-with-normalization_base ====================\n",
            "              precision    recall  f1-score   support\n",
            "\n",
            "           0       0.28      0.28      0.28       140\n",
            "           1       0.27      0.32      0.29       244\n",
            "           2       0.35      0.41      0.37       468\n",
            "           3       0.40      0.39      0.39       735\n",
            "           4       0.82      0.77      0.79      1810\n",
            "\n",
            "    accuracy                           0.58      3397\n",
            "   macro avg       0.42      0.43      0.43      3397\n",
            "weighted avg       0.60      0.58      0.59      3397\n",
            "\n"
          ],
          "name": "stdout"
        }
      ]
    },
    {
      "cell_type": "markdown",
      "metadata": {
        "id": "xe39LmwyqDwi",
        "colab_type": "text"
      },
      "source": [
        "### nnlm-en-dim128-with-normalization_extended_v1"
      ]
    },
    {
      "cell_type": "markdown",
      "metadata": {
        "colab_type": "text",
        "id": "Z_Ge-q-O8O23"
      },
      "source": [
        "    epochs=[2,12],\n",
        "    lrs=[1e-4, 3e-5]"
      ]
    },
    {
      "cell_type": "code",
      "metadata": {
        "id": "P__ALzqlDWUg",
        "colab_type": "code",
        "colab": {}
      },
      "source": [
        "version_model_map = {\"extended\": make_extended_hub_model}"
      ],
      "execution_count": 0,
      "outputs": []
    },
    {
      "cell_type": "code",
      "metadata": {
        "colab_type": "code",
        "id": "FF9J5uMgDalt",
        "colab": {}
      },
      "source": [
        "model_urls = (\n",
        "    \"https://tfhub.dev/google/nnlm-en-dim128-with-normalization/2\",\n",
        ")"
      ],
      "execution_count": 0,
      "outputs": []
    },
    {
      "cell_type": "code",
      "metadata": {
        "colab_type": "code",
        "outputId": "e6a01b70-9381-466c-900a-856e8c5e55d6",
        "id": "yT-JD6qSDalx",
        "colab": {
          "base_uri": "https://localhost:8080/",
          "height": 481
        }
      },
      "source": [
        "run_models(model_urls, version_model_map.keys())"
      ],
      "execution_count": 0,
      "outputs": [
        {
          "output_type": "stream",
          "text": [
            "================== nnlm-en-dim128-with-normalization_extended ==================\n",
            "Train for 5062 steps, validate for 425 steps\n",
            "Epoch 1/2\n",
            "5062/5062 - 27s - loss: 1.5700 - sparse_categorical_accuracy: 0.2816 - sparse_top_2_categorical_accuracy: 0.5224 - val_loss: 1.4090 - val_sparse_categorical_accuracy: 0.5314 - val_sparse_top_2_categorical_accuracy: 0.7409\n",
            "Epoch 2/2\n",
            "5062/5062 - 27s - loss: 1.4946 - sparse_categorical_accuracy: 0.3338 - sparse_top_2_categorical_accuracy: 0.5806 - val_loss: 1.2858 - val_sparse_categorical_accuracy: 0.5437 - val_sparse_top_2_categorical_accuracy: 0.7554\n",
            "Train for 5062 steps, validate for 425 steps\n",
            "Epoch 1/12\n",
            "5062/5062 - 578s - loss: 1.4067 - sparse_categorical_accuracy: 0.3724 - sparse_top_2_categorical_accuracy: 0.6404 - val_loss: 1.1776 - val_sparse_categorical_accuracy: 0.5640 - val_sparse_top_2_categorical_accuracy: 0.7845\n",
            "Epoch 2/12\n",
            "5062/5062 - 578s - loss: 1.2953 - sparse_categorical_accuracy: 0.4292 - sparse_top_2_categorical_accuracy: 0.7047 - val_loss: 1.0724 - val_sparse_categorical_accuracy: 0.5823 - val_sparse_top_2_categorical_accuracy: 0.8110\n",
            "Epoch 3/12\n",
            "5062/5062 - 578s - loss: 1.2103 - sparse_categorical_accuracy: 0.4681 - sparse_top_2_categorical_accuracy: 0.7522 - val_loss: 1.0236 - val_sparse_categorical_accuracy: 0.5905 - val_sparse_top_2_categorical_accuracy: 0.8266\n",
            "Epoch 4/12\n",
            "5062/5062 - 578s - loss: 1.1435 - sparse_categorical_accuracy: 0.5037 - sparse_top_2_categorical_accuracy: 0.7874 - val_loss: 0.9995 - val_sparse_categorical_accuracy: 0.5920 - val_sparse_top_2_categorical_accuracy: 0.8293\n",
            "Epoch 5/12\n",
            "5062/5062 - 578s - loss: 1.0911 - sparse_categorical_accuracy: 0.5256 - sparse_top_2_categorical_accuracy: 0.8077 - val_loss: 0.9777 - val_sparse_categorical_accuracy: 0.5938 - val_sparse_top_2_categorical_accuracy: 0.8337\n",
            "Epoch 6/12\n",
            "5062/5062 - 576s - loss: 1.0475 - sparse_categorical_accuracy: 0.5462 - sparse_top_2_categorical_accuracy: 0.8235 - val_loss: 0.9686 - val_sparse_categorical_accuracy: 0.5970 - val_sparse_top_2_categorical_accuracy: 0.8369\n",
            "Epoch 7/12\n",
            "5062/5062 - 576s - loss: 1.0011 - sparse_categorical_accuracy: 0.5703 - sparse_top_2_categorical_accuracy: 0.8423 - val_loss: 0.9648 - val_sparse_categorical_accuracy: 0.5976 - val_sparse_top_2_categorical_accuracy: 0.8390\n",
            "Epoch 8/12\n",
            "5062/5062 - 576s - loss: 0.9644 - sparse_categorical_accuracy: 0.5902 - sparse_top_2_categorical_accuracy: 0.8547 - val_loss: 0.9661 - val_sparse_categorical_accuracy: 0.5917 - val_sparse_top_2_categorical_accuracy: 0.8404\n",
            "Epoch 9/12\n",
            "5062/5062 - 576s - loss: 0.9425 - sparse_categorical_accuracy: 0.5969 - sparse_top_2_categorical_accuracy: 0.8589 - val_loss: 0.9800 - val_sparse_categorical_accuracy: 0.5867 - val_sparse_top_2_categorical_accuracy: 0.8325\n"
          ],
          "name": "stdout"
        }
      ]
    },
    {
      "cell_type": "code",
      "metadata": {
        "colab_type": "code",
        "id": "_V2uSERpDal0",
        "outputId": "bdad60e1-cc7a-45a6-b98c-4403f22f49ef",
        "colab": {
          "base_uri": "https://localhost:8080/",
          "height": 52
        }
      },
      "source": [
        "reports = evaluate_models(model_urls, version_model_map.keys())"
      ],
      "execution_count": 0,
      "outputs": [
        {
          "output_type": "stream",
          "text": [
            "================== nnlm-en-dim128-with-normalization_extended ==================\n",
            "Loading architecture & weights separately\n"
          ],
          "name": "stdout"
        }
      ]
    },
    {
      "cell_type": "code",
      "metadata": {
        "colab_type": "code",
        "id": "Zsur871mDal3",
        "outputId": "e592aae1-365f-43ca-a307-b18db08d8598",
        "colab": {
          "base_uri": "https://localhost:8080/",
          "height": 247
        }
      },
      "source": [
        "for model_name, report in reports.items():\n",
        "    print(f\" {model_name} \".center(80, \"=\"))\n",
        "    print(report)"
      ],
      "execution_count": 0,
      "outputs": [
        {
          "output_type": "stream",
          "text": [
            "================== nnlm-en-dim128-with-normalization_extended ==================\n",
            "              precision    recall  f1-score   support\n",
            "\n",
            "           0       0.33      0.34      0.33       140\n",
            "           1       0.31      0.31      0.31       244\n",
            "           2       0.35      0.43      0.39       468\n",
            "           3       0.42      0.34      0.38       735\n",
            "           4       0.79      0.80      0.80      1810\n",
            "\n",
            "    accuracy                           0.60      3397\n",
            "   macro avg       0.44      0.45      0.44      3397\n",
            "weighted avg       0.60      0.60      0.60      3397\n",
            "\n"
          ],
          "name": "stdout"
        }
      ]
    },
    {
      "cell_type": "markdown",
      "metadata": {
        "id": "MtggyifUqbvQ",
        "colab_type": "text"
      },
      "source": [
        "### Wiki-words-250-with-normalization_extended_v1"
      ]
    },
    {
      "cell_type": "markdown",
      "metadata": {
        "colab_type": "text",
        "id": "9w3S0Okk8Tv_"
      },
      "source": [
        "    epochs=[2,12],\n",
        "    lrs=[1e-4, 3e-5]"
      ]
    },
    {
      "cell_type": "code",
      "metadata": {
        "colab_type": "code",
        "id": "pb3fw2CvraG3",
        "colab": {}
      },
      "source": [
        "model_urls = (\n",
        "    \"https://tfhub.dev/google/Wiki-words-250-with-normalization/2\",\n",
        ")"
      ],
      "execution_count": 0,
      "outputs": []
    },
    {
      "cell_type": "code",
      "metadata": {
        "colab_type": "code",
        "outputId": "d47f8467-2636-44f0-84ce-09350604e640",
        "id": "WzJ6MFSQraG8",
        "colab": {
          "base_uri": "https://localhost:8080/",
          "height": 394
        }
      },
      "source": [
        "run_models(model_urls, version_model_map.keys())"
      ],
      "execution_count": 0,
      "outputs": [
        {
          "output_type": "stream",
          "text": [
            "================== Wiki-words-250-with-normalization_extended ==================\n",
            "Train for 5062 steps, validate for 425 steps\n",
            "Epoch 1/2\n",
            "5062/5062 - 29s - loss: 1.5917 - sparse_categorical_accuracy: 0.2675 - sparse_top_2_categorical_accuracy: 0.5002 - val_loss: 1.5087 - val_sparse_categorical_accuracy: 0.5219 - val_sparse_top_2_categorical_accuracy: 0.7418\n",
            "Epoch 2/2\n",
            "5062/5062 - 28s - loss: 1.5533 - sparse_categorical_accuracy: 0.2881 - sparse_top_2_categorical_accuracy: 0.5267 - val_loss: 1.4232 - val_sparse_categorical_accuracy: 0.5225 - val_sparse_top_2_categorical_accuracy: 0.7356\n",
            "Train for 5062 steps, validate for 425 steps\n",
            "Epoch 1/12\n",
            "5062/5062 - 1128s - loss: 1.4743 - sparse_categorical_accuracy: 0.3305 - sparse_top_2_categorical_accuracy: 0.5989 - val_loss: 1.2813 - val_sparse_categorical_accuracy: 0.5287 - val_sparse_top_2_categorical_accuracy: 0.7524\n",
            "Epoch 2/12\n",
            "5062/5062 - 1128s - loss: 1.3527 - sparse_categorical_accuracy: 0.3920 - sparse_top_2_categorical_accuracy: 0.6779 - val_loss: 1.1108 - val_sparse_categorical_accuracy: 0.5681 - val_sparse_top_2_categorical_accuracy: 0.8019\n",
            "Epoch 3/12\n",
            "5062/5062 - 1128s - loss: 1.2492 - sparse_categorical_accuracy: 0.4438 - sparse_top_2_categorical_accuracy: 0.7329 - val_loss: 1.0705 - val_sparse_categorical_accuracy: 0.5764 - val_sparse_top_2_categorical_accuracy: 0.8089\n",
            "Epoch 4/12\n",
            "5062/5062 - 1127s - loss: 1.1741 - sparse_categorical_accuracy: 0.4802 - sparse_top_2_categorical_accuracy: 0.7690 - val_loss: 1.0207 - val_sparse_categorical_accuracy: 0.5946 - val_sparse_top_2_categorical_accuracy: 0.8272\n",
            "Epoch 5/12\n",
            "5062/5062 - 1127s - loss: 1.1172 - sparse_categorical_accuracy: 0.5060 - sparse_top_2_categorical_accuracy: 0.7972 - val_loss: 0.9881 - val_sparse_categorical_accuracy: 0.5982 - val_sparse_top_2_categorical_accuracy: 0.8363\n",
            "Epoch 6/12\n",
            "5062/5062 - 1124s - loss: 1.0653 - sparse_categorical_accuracy: 0.5349 - sparse_top_2_categorical_accuracy: 0.8219 - val_loss: 0.9884 - val_sparse_categorical_accuracy: 0.5902 - val_sparse_top_2_categorical_accuracy: 0.8343\n",
            "Epoch 7/12\n",
            "5062/5062 - 1124s - loss: 1.0368 - sparse_categorical_accuracy: 0.5500 - sparse_top_2_categorical_accuracy: 0.8345 - val_loss: 0.9911 - val_sparse_categorical_accuracy: 0.5911 - val_sparse_top_2_categorical_accuracy: 0.8331\n"
          ],
          "name": "stdout"
        }
      ]
    },
    {
      "cell_type": "code",
      "metadata": {
        "colab_type": "code",
        "id": "gtnIjiUtraG-",
        "outputId": "78779f98-31a5-4fbc-b5e8-48eb76d60bf4",
        "colab": {
          "base_uri": "https://localhost:8080/",
          "height": 51
        }
      },
      "source": [
        "reports = evaluate_models(model_urls, version_model_map.keys())"
      ],
      "execution_count": 0,
      "outputs": [
        {
          "output_type": "stream",
          "text": [
            "================== Wiki-words-250-with-normalization_extended ==================\n",
            "Loading architecture & weights separately\n"
          ],
          "name": "stdout"
        }
      ]
    },
    {
      "cell_type": "code",
      "metadata": {
        "colab_type": "code",
        "id": "esJ6-zfpraHA",
        "outputId": "d231822f-c517-4c4a-f0de-c85bd0e539c3",
        "colab": {
          "base_uri": "https://localhost:8080/",
          "height": 238
        }
      },
      "source": [
        "for model_name, report in reports.items():\n",
        "    print(f\" {model_name} \".center(80, \"=\"))\n",
        "    print(report)"
      ],
      "execution_count": 0,
      "outputs": [
        {
          "output_type": "stream",
          "text": [
            "================== Wiki-words-250-with-normalization_extended ==================\n",
            "              precision    recall  f1-score   support\n",
            "\n",
            "           0       0.37      0.36      0.36       140\n",
            "           1       0.30      0.36      0.33       244\n",
            "           2       0.34      0.36      0.35       468\n",
            "           3       0.39      0.25      0.31       735\n",
            "           4       0.77      0.85      0.81      1810\n",
            "\n",
            "    accuracy                           0.60      3397\n",
            "   macro avg       0.43      0.44      0.43      3397\n",
            "weighted avg       0.58      0.60      0.58      3397\n",
            "\n"
          ],
          "name": "stdout"
        }
      ]
    },
    {
      "cell_type": "markdown",
      "metadata": {
        "id": "XHZ3eMseqvhl",
        "colab_type": "text"
      },
      "source": [
        "### nnlm-en-dim128-with-normalization_base_v2"
      ]
    },
    {
      "cell_type": "markdown",
      "metadata": {
        "id": "I4IFvgbMq6Vl",
        "colab_type": "text"
      },
      "source": [
        "Changing hyperparameters to:\n",
        "\n",
        "    epochs=[10,15],\n",
        "    lrs=[1e-5, 3e-6]"
      ]
    },
    {
      "cell_type": "code",
      "metadata": {
        "id": "RfsCzJyExIX4",
        "colab_type": "code",
        "colab": {}
      },
      "source": [
        "version_model_map = {\"base_version2\": make_hub_model}"
      ],
      "execution_count": 0,
      "outputs": []
    },
    {
      "cell_type": "code",
      "metadata": {
        "colab_type": "code",
        "id": "jOz0bocUxIqm",
        "colab": {}
      },
      "source": [
        "model_urls = (\n",
        "    \"https://tfhub.dev/google/nnlm-en-dim128-with-normalization/2\",\n",
        ")"
      ],
      "execution_count": 0,
      "outputs": []
    },
    {
      "cell_type": "code",
      "metadata": {
        "colab_type": "code",
        "outputId": "dceb904a-98a6-4e17-c644-ac45c4e8f8b2",
        "id": "qT8Z2L3MxIqp",
        "colab": {
          "base_uri": "https://localhost:8080/",
          "height": 978
        }
      },
      "source": [
        "run_models(model_urls, version_model_map.keys(), epochs=[10,15], lrs=[1e-5, 3e-6])"
      ],
      "execution_count": 0,
      "outputs": [
        {
          "output_type": "stream",
          "text": [
            "=============== nnlm-en-dim128-with-normalization_base_version2 ================\n",
            "Train for 5062 steps, validate for 425 steps\n",
            "Epoch 1/10\n",
            "5062/5062 - 27s - loss: 1.6424 - sparse_categorical_accuracy: 0.2089 - sparse_top_2_categorical_accuracy: 0.4128 - val_loss: 1.6919 - val_sparse_categorical_accuracy: 0.1136 - val_sparse_top_2_categorical_accuracy: 0.2264\n",
            "Epoch 2/10\n",
            "5062/5062 - 26s - loss: 1.6346 - sparse_categorical_accuracy: 0.2102 - sparse_top_2_categorical_accuracy: 0.4156 - val_loss: 1.6708 - val_sparse_categorical_accuracy: 0.1195 - val_sparse_top_2_categorical_accuracy: 0.2570\n",
            "Epoch 3/10\n",
            "5062/5062 - 26s - loss: 1.6285 - sparse_categorical_accuracy: 0.2168 - sparse_top_2_categorical_accuracy: 0.4230 - val_loss: 1.6425 - val_sparse_categorical_accuracy: 0.1584 - val_sparse_top_2_categorical_accuracy: 0.3268\n",
            "Epoch 4/10\n",
            "5062/5062 - 26s - loss: 1.6206 - sparse_categorical_accuracy: 0.2216 - sparse_top_2_categorical_accuracy: 0.4328 - val_loss: 1.6147 - val_sparse_categorical_accuracy: 0.2264 - val_sparse_top_2_categorical_accuracy: 0.4242\n",
            "Epoch 5/10\n",
            "5062/5062 - 25s - loss: 1.6135 - sparse_categorical_accuracy: 0.2318 - sparse_top_2_categorical_accuracy: 0.4428 - val_loss: 1.5923 - val_sparse_categorical_accuracy: 0.2947 - val_sparse_top_2_categorical_accuracy: 0.4972\n",
            "Epoch 6/10\n",
            "5062/5062 - 25s - loss: 1.6065 - sparse_categorical_accuracy: 0.2416 - sparse_top_2_categorical_accuracy: 0.4538 - val_loss: 1.5756 - val_sparse_categorical_accuracy: 0.3438 - val_sparse_top_2_categorical_accuracy: 0.5390\n",
            "Epoch 7/10\n",
            "5062/5062 - 25s - loss: 1.5977 - sparse_categorical_accuracy: 0.2488 - sparse_top_2_categorical_accuracy: 0.4639 - val_loss: 1.5661 - val_sparse_categorical_accuracy: 0.3721 - val_sparse_top_2_categorical_accuracy: 0.5587\n",
            "Epoch 8/10\n",
            "5062/5062 - 25s - loss: 1.5931 - sparse_categorical_accuracy: 0.2560 - sparse_top_2_categorical_accuracy: 0.4716 - val_loss: 1.5538 - val_sparse_categorical_accuracy: 0.3959 - val_sparse_top_2_categorical_accuracy: 0.5767\n",
            "Epoch 9/10\n",
            "5062/5062 - 25s - loss: 1.5858 - sparse_categorical_accuracy: 0.2665 - sparse_top_2_categorical_accuracy: 0.4847 - val_loss: 1.5463 - val_sparse_categorical_accuracy: 0.4095 - val_sparse_top_2_categorical_accuracy: 0.5861\n",
            "Epoch 10/10\n",
            "5062/5062 - 25s - loss: 1.5776 - sparse_categorical_accuracy: 0.2780 - sparse_top_2_categorical_accuracy: 0.4986 - val_loss: 1.5374 - val_sparse_categorical_accuracy: 0.4236 - val_sparse_top_2_categorical_accuracy: 0.6029\n",
            "Train for 5062 steps, validate for 425 steps\n",
            "Epoch 1/15\n",
            "5062/5062 - 573s - loss: 1.5671 - sparse_categorical_accuracy: 0.2785 - sparse_top_2_categorical_accuracy: 0.5119 - val_loss: 1.5790 - val_sparse_categorical_accuracy: 0.3362 - val_sparse_top_2_categorical_accuracy: 0.4999\n",
            "Epoch 2/15\n",
            "5062/5062 - 573s - loss: 1.5560 - sparse_categorical_accuracy: 0.2941 - sparse_top_2_categorical_accuracy: 0.5311 - val_loss: 1.5593 - val_sparse_categorical_accuracy: 0.3742 - val_sparse_top_2_categorical_accuracy: 0.5411\n",
            "Epoch 3/15\n",
            "5062/5062 - 575s - loss: 1.5433 - sparse_categorical_accuracy: 0.3150 - sparse_top_2_categorical_accuracy: 0.5494 - val_loss: 1.5274 - val_sparse_categorical_accuracy: 0.4254 - val_sparse_top_2_categorical_accuracy: 0.6035\n",
            "Epoch 4/15\n",
            "5062/5062 - 574s - loss: 1.5309 - sparse_categorical_accuracy: 0.3300 - sparse_top_2_categorical_accuracy: 0.5640 - val_loss: 1.4982 - val_sparse_categorical_accuracy: 0.4692 - val_sparse_top_2_categorical_accuracy: 0.6465\n",
            "Epoch 5/15\n",
            "5062/5062 - 574s - loss: 1.5170 - sparse_categorical_accuracy: 0.3427 - sparse_top_2_categorical_accuracy: 0.5824 - val_loss: 1.4763 - val_sparse_categorical_accuracy: 0.4951 - val_sparse_top_2_categorical_accuracy: 0.6738\n",
            "Epoch 6/15\n",
            "5062/5062 - 574s - loss: 1.5035 - sparse_categorical_accuracy: 0.3598 - sparse_top_2_categorical_accuracy: 0.5976 - val_loss: 1.4555 - val_sparse_categorical_accuracy: 0.5078 - val_sparse_top_2_categorical_accuracy: 0.6927\n",
            "Epoch 7/15\n",
            "5062/5062 - 574s - loss: 1.4900 - sparse_categorical_accuracy: 0.3683 - sparse_top_2_categorical_accuracy: 0.6118 - val_loss: 1.4389 - val_sparse_categorical_accuracy: 0.5202 - val_sparse_top_2_categorical_accuracy: 0.7059\n",
            "Epoch 8/15\n",
            "5062/5062 - 573s - loss: 1.4751 - sparse_categorical_accuracy: 0.3814 - sparse_top_2_categorical_accuracy: 0.6249 - val_loss: 1.4204 - val_sparse_categorical_accuracy: 0.5299 - val_sparse_top_2_categorical_accuracy: 0.7174\n",
            "Epoch 9/15\n",
            "5062/5062 - 573s - loss: 1.4623 - sparse_categorical_accuracy: 0.3927 - sparse_top_2_categorical_accuracy: 0.6398 - val_loss: 1.4059 - val_sparse_categorical_accuracy: 0.5325 - val_sparse_top_2_categorical_accuracy: 0.7251\n",
            "Epoch 10/15\n",
            "5062/5062 - 574s - loss: 1.4524 - sparse_categorical_accuracy: 0.3996 - sparse_top_2_categorical_accuracy: 0.6471 - val_loss: 1.3901 - val_sparse_categorical_accuracy: 0.5372 - val_sparse_top_2_categorical_accuracy: 0.7348\n",
            "Epoch 11/15\n",
            "5062/5062 - 573s - loss: 1.4374 - sparse_categorical_accuracy: 0.4089 - sparse_top_2_categorical_accuracy: 0.6640 - val_loss: 1.3759 - val_sparse_categorical_accuracy: 0.5408 - val_sparse_top_2_categorical_accuracy: 0.7395\n",
            "Epoch 12/15\n",
            "5062/5062 - 574s - loss: 1.4255 - sparse_categorical_accuracy: 0.4159 - sparse_top_2_categorical_accuracy: 0.6717 - val_loss: 1.3625 - val_sparse_categorical_accuracy: 0.5428 - val_sparse_top_2_categorical_accuracy: 0.7418\n",
            "Epoch 13/15\n",
            "5062/5062 - 574s - loss: 1.4087 - sparse_categorical_accuracy: 0.4315 - sparse_top_2_categorical_accuracy: 0.6877 - val_loss: 1.3477 - val_sparse_categorical_accuracy: 0.5472 - val_sparse_top_2_categorical_accuracy: 0.7465\n",
            "Epoch 14/15\n",
            "5062/5062 - 574s - loss: 1.3995 - sparse_categorical_accuracy: 0.4319 - sparse_top_2_categorical_accuracy: 0.6909 - val_loss: 1.3357 - val_sparse_categorical_accuracy: 0.5493 - val_sparse_top_2_categorical_accuracy: 0.7492\n",
            "Epoch 15/15\n",
            "5062/5062 - 574s - loss: 1.3897 - sparse_categorical_accuracy: 0.4404 - sparse_top_2_categorical_accuracy: 0.6956 - val_loss: 1.3209 - val_sparse_categorical_accuracy: 0.5531 - val_sparse_top_2_categorical_accuracy: 0.7586\n"
          ],
          "name": "stdout"
        }
      ]
    },
    {
      "cell_type": "code",
      "metadata": {
        "colab_type": "code",
        "outputId": "91b48b08-d156-44a2-aa39-7e417649afcd",
        "id": "Pw_y6xGZxIqr",
        "colab": {
          "base_uri": "https://localhost:8080/",
          "height": 52
        }
      },
      "source": [
        "reports = evaluate_models(model_urls, version_model_map.keys())"
      ],
      "execution_count": 0,
      "outputs": [
        {
          "output_type": "stream",
          "text": [
            "=============== nnlm-en-dim128-with-normalization_base_version2 ================\n",
            "Loading architecture & weights separately\n"
          ],
          "name": "stdout"
        }
      ]
    },
    {
      "cell_type": "code",
      "metadata": {
        "colab_type": "code",
        "outputId": "7120ef22-017b-4816-b2f7-dc15858d5abd",
        "id": "gHsny7vSxIqt",
        "colab": {
          "base_uri": "https://localhost:8080/",
          "height": 247
        }
      },
      "source": [
        "for model_name, report in reports.items():\n",
        "    print(f\" {model_name} \".center(80, \"=\"))\n",
        "    print(report)"
      ],
      "execution_count": 0,
      "outputs": [
        {
          "output_type": "stream",
          "text": [
            "=============== nnlm-en-dim128-with-normalization_base_version2 ================\n",
            "              precision    recall  f1-score   support\n",
            "\n",
            "           0       0.21      0.40      0.28       140\n",
            "           1       0.24      0.42      0.30       244\n",
            "           2       0.28      0.32      0.30       468\n",
            "           3       0.46      0.07      0.11       735\n",
            "           4       0.74      0.84      0.79      1810\n",
            "\n",
            "    accuracy                           0.55      3397\n",
            "   macro avg       0.39      0.41      0.36      3397\n",
            "weighted avg       0.56      0.55      0.52      3397\n",
            "\n"
          ],
          "name": "stdout"
        }
      ]
    },
    {
      "cell_type": "markdown",
      "metadata": {
        "id": "_rmBP2aarMV-",
        "colab_type": "text"
      },
      "source": [
        "### nnlm-en-dim128-with-normalization_base_v4"
      ]
    },
    {
      "cell_type": "markdown",
      "metadata": {
        "id": "DgoRA-2cCA8z",
        "colab_type": "text"
      },
      "source": [
        "Increasing train data.\n",
        "\n",
        "Using class_weights of initial train dataset.\n",
        "\n",
        "    epochs=[20,20]\n",
        "    lrs=[1e-4, 3e-5]"
      ]
    },
    {
      "cell_type": "code",
      "metadata": {
        "colab_type": "code",
        "id": "3lLNeA3KWn7m",
        "colab": {}
      },
      "source": [
        "train_data_bundle, validation_data_bundle, test_data_bundle = DataBundle.split(\n",
        "    data_bundle=all_data_bundle, fracs=[0.8, 0.1, 0.1], random=False\n",
        ")"
      ],
      "execution_count": 0,
      "outputs": []
    },
    {
      "cell_type": "code",
      "metadata": {
        "colab_type": "code",
        "id": "8QkhmdOX1DGt",
        "colab": {}
      },
      "source": [
        "data_container = DataContainer(\n",
        "    train_data_bundle, validation_data_bundle, test_data_bundle\n",
        ")"
      ],
      "execution_count": 0,
      "outputs": []
    },
    {
      "cell_type": "code",
      "metadata": {
        "colab_type": "code",
        "outputId": "f5a85e14-ca28-40f2-e50b-fe4bfd2bb7e1",
        "id": "EGltWOBa1DGw",
        "colab": {
          "base_uri": "https://localhost:8080/",
          "height": 35
        }
      },
      "source": [
        "data_container.train.value_counts()"
      ],
      "execution_count": 0,
      "outputs": [
        {
          "output_type": "execute_result",
          "data": {
            "text/plain": [
              "{0: 653, 1: 1241, 2: 2278, 3: 3861, 4: 10080}"
            ]
          },
          "metadata": {
            "tags": []
          },
          "execution_count": 24
        }
      ]
    },
    {
      "cell_type": "code",
      "metadata": {
        "colab_type": "code",
        "outputId": "8e69dd2d-d3d3-4aac-ba83-7321f3f98d75",
        "id": "lAPMMA4A1DGz",
        "colab": {
          "base_uri": "https://localhost:8080/",
          "height": 35
        }
      },
      "source": [
        "data_container.validation.value_counts()"
      ],
      "execution_count": 0,
      "outputs": [
        {
          "output_type": "execute_result",
          "data": {
            "text/plain": [
              "{0: 89, 1: 159, 2: 280, 3: 538, 4: 1199}"
            ]
          },
          "metadata": {
            "tags": []
          },
          "execution_count": 22
        }
      ]
    },
    {
      "cell_type": "code",
      "metadata": {
        "colab_type": "code",
        "outputId": "98784742-487f-4546-ba35-f41bf062eb36",
        "id": "ip44C9Dt1DG3",
        "colab": {
          "base_uri": "https://localhost:8080/",
          "height": 35
        }
      },
      "source": [
        "data_container.test.value_counts()"
      ],
      "execution_count": 0,
      "outputs": [
        {
          "output_type": "execute_result",
          "data": {
            "text/plain": [
              "{0: 79, 1: 149, 2: 265, 3: 509, 4: 1261}"
            ]
          },
          "metadata": {
            "tags": []
          },
          "execution_count": 23
        }
      ]
    },
    {
      "cell_type": "code",
      "metadata": {
        "colab_type": "code",
        "id": "cmBU2dtw1DG7",
        "colab": {}
      },
      "source": [
        "class_weights = dict(\n",
        "    enumerate(\n",
        "        sk.utils.class_weight.compute_class_weight(\n",
        "            \"balanced\", np.unique(data_container.train.y), data_container.train.y\n",
        "        )\n",
        "    )\n",
        ")"
      ],
      "execution_count": 0,
      "outputs": []
    },
    {
      "cell_type": "code",
      "metadata": {
        "colab_type": "code",
        "outputId": "86f8afb6-e2a5-45b4-d81c-278448e8a434",
        "id": "Ig-evsNA1DHD",
        "colab": {
          "base_uri": "https://localhost:8080/",
          "height": 106
        }
      },
      "source": [
        "class_weights"
      ],
      "execution_count": 0,
      "outputs": [
        {
          "output_type": "execute_result",
          "data": {
            "text/plain": [
              "{0: 5.547626339969372,\n",
              " 1: 2.9190975020145045,\n",
              " 2: 1.5902546093064092,\n",
              " 3: 0.9382543382543382,\n",
              " 4: 0.3593849206349206}"
            ]
          },
          "metadata": {
            "tags": []
          },
          "execution_count": 26
        }
      ]
    },
    {
      "cell_type": "code",
      "metadata": {
        "colab_type": "code",
        "id": "eo6pWGmA1DG-",
        "colab": {}
      },
      "source": [
        "data_container.train = DataBundle.from_unbalanced(data_container.train)"
      ],
      "execution_count": 0,
      "outputs": []
    },
    {
      "cell_type": "code",
      "metadata": {
        "id": "Ey-oy92c1Z6g",
        "colab_type": "code",
        "outputId": "5f10d9fd-0daa-4808-be34-43c2f6431d25",
        "colab": {
          "base_uri": "https://localhost:8080/",
          "height": 35
        }
      },
      "source": [
        "data_container.train.value_counts()"
      ],
      "execution_count": 0,
      "outputs": [
        {
          "output_type": "execute_result",
          "data": {
            "text/plain": [
              "{0: 9795, 1: 9928, 2: 9112, 3: 7722, 4: 10080}"
            ]
          },
          "metadata": {
            "tags": []
          },
          "execution_count": 28
        }
      ]
    },
    {
      "cell_type": "code",
      "metadata": {
        "colab_type": "code",
        "outputId": "a7e51bbf-1609-4458-b55e-8db3414f910b",
        "id": "p9V0kJpR1DHJ",
        "colab": {
          "base_uri": "https://localhost:8080/",
          "height": 35
        }
      },
      "source": [
        "len(data_container.train), len(data_container.validation), len(data_container.test)"
      ],
      "execution_count": 0,
      "outputs": [
        {
          "output_type": "execute_result",
          "data": {
            "text/plain": [
              "(46637, 2265, 2263)"
            ]
          },
          "metadata": {
            "tags": []
          },
          "execution_count": 30
        }
      ]
    },
    {
      "cell_type": "code",
      "metadata": {
        "colab_type": "code",
        "id": "iSOOKDoU1DHO",
        "colab": {}
      },
      "source": [
        "data_container.train.dataset = make_dataset(data_container.train)\n",
        "data_container.validation.dataset = make_dataset(data_container.validation)\n",
        "data_container.test.dataset = make_dataset(data_container.test)"
      ],
      "execution_count": 0,
      "outputs": []
    },
    {
      "cell_type": "code",
      "metadata": {
        "colab_type": "code",
        "id": "mY9ClfRc1DHf",
        "colab": {}
      },
      "source": [
        "train_dataset = (\n",
        "    data_container.train.dataset.repeat()\n",
        "    .shuffle(len(data_container.train))\n",
        "    .batch(BATCH_SIZE)\n",
        "    .map(length_limiter)\n",
        "    .prefetch(AUTOTUNE)\n",
        ")"
      ],
      "execution_count": 0,
      "outputs": []
    },
    {
      "cell_type": "code",
      "metadata": {
        "colab_type": "code",
        "id": "hxwXY5cX1DHn",
        "colab": {}
      },
      "source": [
        "validation_dataset = (\n",
        "    data_container.validation.dataset.batch(BATCH_SIZE)\n",
        "    .map(length_limiter)\n",
        "    .prefetch(AUTOTUNE)\n",
        ")"
      ],
      "execution_count": 0,
      "outputs": []
    },
    {
      "cell_type": "code",
      "metadata": {
        "colab_type": "code",
        "id": "u0U3eA031DHs",
        "colab": {}
      },
      "source": [
        "train_dataset_steps = math.ceil(len(data_container.train) / BATCH_SIZE)"
      ],
      "execution_count": 0,
      "outputs": []
    },
    {
      "cell_type": "code",
      "metadata": {
        "colab_type": "code",
        "id": "72bhKXm9W_5G",
        "colab": {}
      },
      "source": [
        "version_model_map = {\"base_version4\": make_hub_model}"
      ],
      "execution_count": 0,
      "outputs": []
    },
    {
      "cell_type": "code",
      "metadata": {
        "colab_type": "code",
        "id": "tVyI0QquW_5L",
        "colab": {}
      },
      "source": [
        "model_urls = (\n",
        "    \"https://tfhub.dev/google/nnlm-en-dim128-with-normalization/2\",\n",
        ")"
      ],
      "execution_count": 0,
      "outputs": []
    },
    {
      "cell_type": "code",
      "metadata": {
        "colab_type": "code",
        "outputId": "87576c15-e3ee-4e11-bc19-835452c3331f",
        "id": "ckXtwwzMW_5O",
        "colab": {
          "base_uri": "https://localhost:8080/",
          "height": 908
        }
      },
      "source": [
        "run_models(model_urls, version_model_map.keys(), epochs=[20,20])"
      ],
      "execution_count": 0,
      "outputs": [
        {
          "output_type": "stream",
          "text": [
            "=============== nnlm-en-dim128-with-normalization_base_version4 ================\n",
            "Train for 5830 steps, validate for 284 steps\n",
            "Epoch 1/20\n",
            "5830/5830 - 20s - loss: 1.5695 - sparse_categorical_accuracy: 0.2741 - sparse_top_2_categorical_accuracy: 0.5121 - val_loss: 1.5640 - val_sparse_categorical_accuracy: 0.3086 - val_sparse_top_2_categorical_accuracy: 0.5461\n",
            "Epoch 2/20\n",
            "5830/5830 - 20s - loss: 1.5296 - sparse_categorical_accuracy: 0.3192 - sparse_top_2_categorical_accuracy: 0.5575 - val_loss: 1.4406 - val_sparse_categorical_accuracy: 0.4985 - val_sparse_top_2_categorical_accuracy: 0.7073\n",
            "Epoch 3/20\n",
            "5830/5830 - 20s - loss: 1.4913 - sparse_categorical_accuracy: 0.3465 - sparse_top_2_categorical_accuracy: 0.5925 - val_loss: 1.3923 - val_sparse_categorical_accuracy: 0.5161 - val_sparse_top_2_categorical_accuracy: 0.7254\n",
            "Epoch 4/20\n",
            "5830/5830 - 20s - loss: 1.4660 - sparse_categorical_accuracy: 0.3670 - sparse_top_2_categorical_accuracy: 0.6131 - val_loss: 1.3493 - val_sparse_categorical_accuracy: 0.5386 - val_sparse_top_2_categorical_accuracy: 0.7475\n",
            "Epoch 5/20\n",
            "5830/5830 - 20s - loss: 1.4484 - sparse_categorical_accuracy: 0.3725 - sparse_top_2_categorical_accuracy: 0.6212 - val_loss: 1.3248 - val_sparse_categorical_accuracy: 0.5461 - val_sparse_top_2_categorical_accuracy: 0.7532\n",
            "Epoch 6/20\n",
            "5830/5830 - 19s - loss: 1.4388 - sparse_categorical_accuracy: 0.3754 - sparse_top_2_categorical_accuracy: 0.6263 - val_loss: 1.3248 - val_sparse_categorical_accuracy: 0.5325 - val_sparse_top_2_categorical_accuracy: 0.7492\n",
            "Epoch 7/20\n",
            "5830/5830 - 19s - loss: 1.4411 - sparse_categorical_accuracy: 0.3711 - sparse_top_2_categorical_accuracy: 0.6214 - val_loss: 1.3616 - val_sparse_categorical_accuracy: 0.5091 - val_sparse_top_2_categorical_accuracy: 0.7143\n",
            "Train for 5830 steps, validate for 284 steps\n",
            "Epoch 1/20\n",
            "5830/5830 - 203s - loss: 1.3646 - sparse_categorical_accuracy: 0.4108 - sparse_top_2_categorical_accuracy: 0.6815 - val_loss: 1.2080 - val_sparse_categorical_accuracy: 0.5629 - val_sparse_top_2_categorical_accuracy: 0.7991\n",
            "Epoch 2/20\n",
            "5830/5830 - 204s - loss: 1.2470 - sparse_categorical_accuracy: 0.4801 - sparse_top_2_categorical_accuracy: 0.7533 - val_loss: 1.1092 - val_sparse_categorical_accuracy: 0.5753 - val_sparse_top_2_categorical_accuracy: 0.8238\n",
            "Epoch 3/20\n",
            "5830/5830 - 204s - loss: 1.1683 - sparse_categorical_accuracy: 0.5163 - sparse_top_2_categorical_accuracy: 0.7887 - val_loss: 1.0572 - val_sparse_categorical_accuracy: 0.5876 - val_sparse_top_2_categorical_accuracy: 0.8318\n",
            "Epoch 4/20\n",
            "5830/5830 - 204s - loss: 1.1078 - sparse_categorical_accuracy: 0.5473 - sparse_top_2_categorical_accuracy: 0.8126 - val_loss: 1.0267 - val_sparse_categorical_accuracy: 0.5868 - val_sparse_top_2_categorical_accuracy: 0.8278\n",
            "Epoch 5/20\n",
            "5830/5830 - 204s - loss: 1.0590 - sparse_categorical_accuracy: 0.5732 - sparse_top_2_categorical_accuracy: 0.8306 - val_loss: 1.0015 - val_sparse_categorical_accuracy: 0.5934 - val_sparse_top_2_categorical_accuracy: 0.8393\n",
            "Epoch 6/20\n",
            "5830/5830 - 204s - loss: 1.0180 - sparse_categorical_accuracy: 0.5911 - sparse_top_2_categorical_accuracy: 0.8431 - val_loss: 0.9881 - val_sparse_categorical_accuracy: 0.5965 - val_sparse_top_2_categorical_accuracy: 0.8424\n",
            "Epoch 7/20\n",
            "5830/5830 - 202s - loss: 0.9792 - sparse_categorical_accuracy: 0.6127 - sparse_top_2_categorical_accuracy: 0.8556 - val_loss: 0.9715 - val_sparse_categorical_accuracy: 0.6053 - val_sparse_top_2_categorical_accuracy: 0.8437\n",
            "Epoch 8/20\n",
            "5830/5830 - 205s - loss: 0.9430 - sparse_categorical_accuracy: 0.6296 - sparse_top_2_categorical_accuracy: 0.8657 - val_loss: 0.9611 - val_sparse_categorical_accuracy: 0.6075 - val_sparse_top_2_categorical_accuracy: 0.8446\n",
            "Epoch 9/20\n",
            "5830/5830 - 203s - loss: 0.9094 - sparse_categorical_accuracy: 0.6448 - sparse_top_2_categorical_accuracy: 0.8746 - val_loss: 0.9638 - val_sparse_categorical_accuracy: 0.6093 - val_sparse_top_2_categorical_accuracy: 0.8446\n",
            "Epoch 10/20\n",
            "5830/5830 - 204s - loss: 0.8769 - sparse_categorical_accuracy: 0.6611 - sparse_top_2_categorical_accuracy: 0.8799 - val_loss: 0.9607 - val_sparse_categorical_accuracy: 0.6057 - val_sparse_top_2_categorical_accuracy: 0.8428\n",
            "Epoch 11/20\n",
            "5830/5830 - 204s - loss: 0.8459 - sparse_categorical_accuracy: 0.6732 - sparse_top_2_categorical_accuracy: 0.8890 - val_loss: 0.9596 - val_sparse_categorical_accuracy: 0.6079 - val_sparse_top_2_categorical_accuracy: 0.8464\n",
            "Epoch 12/20\n",
            "5830/5830 - 204s - loss: 0.8166 - sparse_categorical_accuracy: 0.6880 - sparse_top_2_categorical_accuracy: 0.8986 - val_loss: 0.9565 - val_sparse_categorical_accuracy: 0.6066 - val_sparse_top_2_categorical_accuracy: 0.8472\n",
            "Epoch 13/20\n",
            "5830/5830 - 203s - loss: 0.7927 - sparse_categorical_accuracy: 0.6988 - sparse_top_2_categorical_accuracy: 0.9020 - val_loss: 0.9597 - val_sparse_categorical_accuracy: 0.6088 - val_sparse_top_2_categorical_accuracy: 0.8486\n",
            "Epoch 14/20\n",
            "5830/5830 - 203s - loss: 0.7611 - sparse_categorical_accuracy: 0.7137 - sparse_top_2_categorical_accuracy: 0.9092 - val_loss: 0.9583 - val_sparse_categorical_accuracy: 0.6084 - val_sparse_top_2_categorical_accuracy: 0.8512\n",
            "Epoch 15/20\n",
            "5830/5830 - 203s - loss: 0.7522 - sparse_categorical_accuracy: 0.7184 - sparse_top_2_categorical_accuracy: 0.9104 - val_loss: 0.9757 - val_sparse_categorical_accuracy: 0.6004 - val_sparse_top_2_categorical_accuracy: 0.8428\n",
            "Epoch 16/20\n",
            "5830/5830 - 203s - loss: 0.7429 - sparse_categorical_accuracy: 0.7219 - sparse_top_2_categorical_accuracy: 0.9134 - val_loss: 0.9735 - val_sparse_categorical_accuracy: 0.6018 - val_sparse_top_2_categorical_accuracy: 0.8450\n"
          ],
          "name": "stdout"
        }
      ]
    },
    {
      "cell_type": "code",
      "metadata": {
        "colab_type": "code",
        "id": "PGwX2smpW_5R",
        "outputId": "ff8da8c7-9d4a-4383-c6ee-8187a4f2ccac",
        "colab": {
          "base_uri": "https://localhost:8080/",
          "height": 52
        }
      },
      "source": [
        "reports = evaluate_models(model_urls, version_model_map.keys())"
      ],
      "execution_count": 0,
      "outputs": [
        {
          "output_type": "stream",
          "text": [
            "=============== nnlm-en-dim128-with-normalization_base_version4 ================\n",
            "Loading architecture & weights separately\n"
          ],
          "name": "stdout"
        }
      ]
    },
    {
      "cell_type": "code",
      "metadata": {
        "colab_type": "code",
        "id": "EFYI9MhrW_5T",
        "outputId": "c3657b7c-7fb5-481a-f284-6156764f9a0e",
        "colab": {
          "base_uri": "https://localhost:8080/",
          "height": 248
        }
      },
      "source": [
        "for model_name, report in reports.items():\n",
        "    print(f\" {model_name} \".center(80, \"=\"))\n",
        "    print(report)"
      ],
      "execution_count": 0,
      "outputs": [
        {
          "output_type": "stream",
          "text": [
            "=============== nnlm-en-dim128-with-normalization_base_version4 ================\n",
            "              precision    recall  f1-score   support\n",
            "\n",
            "           0       0.33      0.36      0.34        89\n",
            "           1       0.29      0.30      0.29       159\n",
            "           2       0.33      0.42      0.37       280\n",
            "           3       0.47      0.43      0.45       538\n",
            "           4       0.82      0.79      0.80      1199\n",
            "\n",
            "    accuracy                           0.61      2265\n",
            "   macro avg       0.45      0.46      0.45      2265\n",
            "weighted avg       0.62      0.61      0.61      2265\n",
            "\n"
          ],
          "name": "stdout"
        }
      ]
    },
    {
      "cell_type": "markdown",
      "metadata": {
        "id": "l3NmPNLMr28Z",
        "colab_type": "text"
      },
      "source": [
        "### nnlm-en-dim128-with-normalization_extended_v2"
      ]
    },
    {
      "cell_type": "markdown",
      "metadata": {
        "colab_type": "text",
        "id": "moTSiF6LEBSf"
      },
      "source": [
        "Using the same data preprocessing like in the model above - nnlm-en-dim128-with-normalization_base_version4.\n",
        "\n",
        "    epochs=[5,15]\n",
        "    lrs=[1e-4, 3e-5]"
      ]
    },
    {
      "cell_type": "code",
      "metadata": {
        "colab_type": "code",
        "id": "QI7C5KbPc13v",
        "colab": {}
      },
      "source": [
        "version_model_map = {\"extended-v1\": make_extended_hub_model}"
      ],
      "execution_count": 0,
      "outputs": []
    },
    {
      "cell_type": "code",
      "metadata": {
        "colab_type": "code",
        "id": "xd2nn1Zhc145",
        "colab": {}
      },
      "source": [
        "model_urls = (\n",
        "    \"https://tfhub.dev/google/nnlm-en-dim128-with-normalization/2\",\n",
        ")"
      ],
      "execution_count": 0,
      "outputs": []
    },
    {
      "cell_type": "code",
      "metadata": {
        "colab_type": "code",
        "outputId": "eba23cd6-9bbf-4381-f7bb-25b71a3af7b1",
        "id": "H1tIuGSEc14_",
        "colab": {
          "base_uri": "https://localhost:8080/",
          "height": 588
        }
      },
      "source": [
        "run_models(model_urls, version_model_map.keys())"
      ],
      "execution_count": 0,
      "outputs": [
        {
          "output_type": "stream",
          "text": [
            "================ nnlm-en-dim128-with-normalization_extended-v1 =================\n",
            "Train for 5830 steps, validate for 284 steps\n",
            "Epoch 1/2\n",
            "5830/5830 - 31s - loss: 1.5756 - sparse_categorical_accuracy: 0.2794 - sparse_top_2_categorical_accuracy: 0.5184 - val_loss: 1.4370 - val_sparse_categorical_accuracy: 0.5302 - val_sparse_top_2_categorical_accuracy: 0.7408\n",
            "Epoch 2/2\n",
            "5830/5830 - 30s - loss: 1.4983 - sparse_categorical_accuracy: 0.3298 - sparse_top_2_categorical_accuracy: 0.5767 - val_loss: 1.2846 - val_sparse_categorical_accuracy: 0.5426 - val_sparse_top_2_categorical_accuracy: 0.7731\n",
            "Train for 5830 steps, validate for 284 steps\n",
            "Epoch 1/12\n",
            "5830/5830 - 660s - loss: 1.3971 - sparse_categorical_accuracy: 0.3740 - sparse_top_2_categorical_accuracy: 0.6468 - val_loss: 1.1791 - val_sparse_categorical_accuracy: 0.5598 - val_sparse_top_2_categorical_accuracy: 0.7960\n",
            "Epoch 2/12\n",
            "5830/5830 - 658s - loss: 1.2766 - sparse_categorical_accuracy: 0.4380 - sparse_top_2_categorical_accuracy: 0.7215 - val_loss: 1.0648 - val_sparse_categorical_accuracy: 0.5713 - val_sparse_top_2_categorical_accuracy: 0.8260\n",
            "Epoch 3/12\n",
            "5830/5830 - 658s - loss: 1.1979 - sparse_categorical_accuracy: 0.4703 - sparse_top_2_categorical_accuracy: 0.7610 - val_loss: 1.0231 - val_sparse_categorical_accuracy: 0.5823 - val_sparse_top_2_categorical_accuracy: 0.8318\n",
            "Epoch 4/12\n",
            "5830/5830 - 658s - loss: 1.1281 - sparse_categorical_accuracy: 0.5064 - sparse_top_2_categorical_accuracy: 0.7924 - val_loss: 0.9890 - val_sparse_categorical_accuracy: 0.5885 - val_sparse_top_2_categorical_accuracy: 0.8442\n",
            "Epoch 5/12\n",
            "5830/5830 - 657s - loss: 1.0805 - sparse_categorical_accuracy: 0.5312 - sparse_top_2_categorical_accuracy: 0.8120 - val_loss: 0.9775 - val_sparse_categorical_accuracy: 0.5912 - val_sparse_top_2_categorical_accuracy: 0.8450\n",
            "Epoch 6/12\n",
            "5830/5830 - 658s - loss: 1.0362 - sparse_categorical_accuracy: 0.5511 - sparse_top_2_categorical_accuracy: 0.8306 - val_loss: 0.9679 - val_sparse_categorical_accuracy: 0.5876 - val_sparse_top_2_categorical_accuracy: 0.8442\n",
            "Epoch 7/12\n",
            "5830/5830 - 658s - loss: 0.9996 - sparse_categorical_accuracy: 0.5697 - sparse_top_2_categorical_accuracy: 0.8422 - val_loss: 0.9576 - val_sparse_categorical_accuracy: 0.5969 - val_sparse_top_2_categorical_accuracy: 0.8468\n",
            "Epoch 8/12\n",
            "5830/5830 - 659s - loss: 0.9610 - sparse_categorical_accuracy: 0.5935 - sparse_top_2_categorical_accuracy: 0.8561 - val_loss: 0.9503 - val_sparse_categorical_accuracy: 0.5996 - val_sparse_top_2_categorical_accuracy: 0.8490\n",
            "Epoch 9/12\n",
            "5830/5830 - 659s - loss: 0.9196 - sparse_categorical_accuracy: 0.6096 - sparse_top_2_categorical_accuracy: 0.8696 - val_loss: 0.9515 - val_sparse_categorical_accuracy: 0.6009 - val_sparse_top_2_categorical_accuracy: 0.8508\n",
            "Epoch 10/12\n",
            "5830/5830 - 659s - loss: 0.8991 - sparse_categorical_accuracy: 0.6218 - sparse_top_2_categorical_accuracy: 0.8735 - val_loss: 0.9532 - val_sparse_categorical_accuracy: 0.6075 - val_sparse_top_2_categorical_accuracy: 0.8517\n",
            "Epoch 11/12\n",
            "5830/5830 - 659s - loss: 0.8739 - sparse_categorical_accuracy: 0.6358 - sparse_top_2_categorical_accuracy: 0.8809 - val_loss: 0.9718 - val_sparse_categorical_accuracy: 0.5965 - val_sparse_top_2_categorical_accuracy: 0.8472\n",
            "Epoch 12/12\n",
            "5830/5830 - 657s - loss: 0.8640 - sparse_categorical_accuracy: 0.6408 - sparse_top_2_categorical_accuracy: 0.8816 - val_loss: 0.9650 - val_sparse_categorical_accuracy: 0.6026 - val_sparse_top_2_categorical_accuracy: 0.8472\n"
          ],
          "name": "stdout"
        }
      ]
    },
    {
      "cell_type": "code",
      "metadata": {
        "colab_type": "code",
        "outputId": "00ceb182-4b00-45da-9f71-10a5bd199bee",
        "id": "KNtYXA-hc15G",
        "colab": {
          "base_uri": "https://localhost:8080/",
          "height": 52
        }
      },
      "source": [
        "reports = evaluate_models(model_urls, version_model_map.keys())"
      ],
      "execution_count": 0,
      "outputs": [
        {
          "output_type": "stream",
          "text": [
            "================ nnlm-en-dim128-with-normalization_extended-v1 =================\n",
            "Loading architecture & weights separately\n"
          ],
          "name": "stdout"
        }
      ]
    },
    {
      "cell_type": "code",
      "metadata": {
        "colab_type": "code",
        "outputId": "81e27b76-737a-4ecf-a1cd-5a44221c95d2",
        "id": "74L2vlvIc15K",
        "colab": {
          "base_uri": "https://localhost:8080/",
          "height": 248
        }
      },
      "source": [
        "for model_name, report in reports.items():\n",
        "    print(f\" {model_name} \".center(80, \"=\"))\n",
        "    print(report)"
      ],
      "execution_count": 0,
      "outputs": [
        {
          "output_type": "stream",
          "text": [
            "================ nnlm-en-dim128-with-normalization_extended-v1 =================\n",
            "              precision    recall  f1-score   support\n",
            "\n",
            "           0       0.32      0.35      0.33        89\n",
            "           1       0.26      0.30      0.28       159\n",
            "           2       0.32      0.35      0.33       280\n",
            "           3       0.47      0.36      0.41       538\n",
            "           4       0.79      0.82      0.80      1199\n",
            "\n",
            "    accuracy                           0.60      2265\n",
            "   macro avg       0.43      0.44      0.43      2265\n",
            "weighted avg       0.60      0.60      0.60      2265\n",
            "\n"
          ],
          "name": "stdout"
        }
      ]
    },
    {
      "cell_type": "markdown",
      "metadata": {
        "id": "Yh6mr56rvZUs",
        "colab_type": "text"
      },
      "source": [
        "## Models using LSTM, 1d Conv, Hybrid"
      ]
    },
    {
      "cell_type": "code",
      "metadata": {
        "id": "NbdhwU8962ny",
        "colab_type": "code",
        "colab": {}
      },
      "source": [
        "BATCH_SIZE = 32"
      ],
      "execution_count": 0,
      "outputs": []
    },
    {
      "cell_type": "code",
      "metadata": {
        "colab_type": "code",
        "id": "DQOLrhxGwOdO",
        "colab": {}
      },
      "source": [
        "train_data_bundle, validation_data_bundle, test_data_bundle = DataBundle.split(\n",
        "    data_bundle=all_data_bundle, fracs=[0.7, 0.15, 0.15], random=False\n",
        ")"
      ],
      "execution_count": 0,
      "outputs": []
    },
    {
      "cell_type": "code",
      "metadata": {
        "colab_type": "code",
        "id": "przNwtH6wOdQ",
        "colab": {}
      },
      "source": [
        "data_container = DataContainer(\n",
        "    train_data_bundle, validation_data_bundle, test_data_bundle\n",
        ")"
      ],
      "execution_count": 0,
      "outputs": []
    },
    {
      "cell_type": "code",
      "metadata": {
        "colab_type": "code",
        "id": "B9n7EcrNwOdT",
        "colab": {}
      },
      "source": [
        "class_weights = dict(\n",
        "    enumerate(\n",
        "        sk.utils.class_weight.compute_class_weight(\n",
        "            \"balanced\", np.unique(data_container.train.y), data_container.train.y\n",
        "        )\n",
        "    )\n",
        ")"
      ],
      "execution_count": 0,
      "outputs": []
    },
    {
      "cell_type": "code",
      "metadata": {
        "colab_type": "code",
        "outputId": "46f07f9e-0257-4db7-a6b7-09be50b55c7d",
        "id": "0pkTXh6zwOdU",
        "colab": {
          "base_uri": "https://localhost:8080/",
          "height": 105
        }
      },
      "source": [
        "class_weights"
      ],
      "execution_count": 0,
      "outputs": [
        {
          "output_type": "execute_result",
          "data": {
            "text/plain": [
              "{0: 5.660357142857142,\n",
              " 1: 2.9624299065420563,\n",
              " 2: 1.6065889508362898,\n",
              " 3: 0.9339422510312316,\n",
              " 4: 0.35808856755535473}"
            ]
          },
          "metadata": {
            "tags": []
          },
          "execution_count": 104
        }
      ]
    },
    {
      "cell_type": "code",
      "metadata": {
        "id": "xI7GoVO97slj",
        "colab_type": "code",
        "outputId": "276e93ac-8216-4797-c946-09b3be5b8c79",
        "colab": {
          "base_uri": "https://localhost:8080/",
          "height": 34
        }
      },
      "source": [
        "len(data_container.train), len(data_container.validation), len(data_container.test)"
      ],
      "execution_count": 0,
      "outputs": [
        {
          "output_type": "execute_result",
          "data": {
            "text/plain": [
              "(15849, 3397, 3395)"
            ]
          },
          "metadata": {
            "tags": []
          },
          "execution_count": 105
        }
      ]
    },
    {
      "cell_type": "code",
      "metadata": {
        "colab_type": "code",
        "id": "lUJMW3JZwOdi",
        "colab": {}
      },
      "source": [
        "data_container.train.dataset = make_dataset(data_container.train)\n",
        "data_container.validation.dataset = make_dataset(data_container.validation)\n",
        "data_container.test.dataset = make_dataset(data_container.test)"
      ],
      "execution_count": 0,
      "outputs": []
    },
    {
      "cell_type": "code",
      "metadata": {
        "colab_type": "code",
        "outputId": "78c8203a-4340-4618-9cab-941d4d0b4b20",
        "id": "msxStaeqwOdj",
        "colab": {
          "base_uri": "https://localhost:8080/",
          "height": 34
        }
      },
      "source": [
        "data_container.train.x[0]"
      ],
      "execution_count": 0,
      "outputs": [
        {
          "output_type": "execute_result",
          "data": {
            "text/plain": [
              "'Absolutely wonderful - silky and sexy and comfortable'"
            ]
          },
          "metadata": {
            "tags": []
          },
          "execution_count": 108
        }
      ]
    },
    {
      "cell_type": "code",
      "metadata": {
        "colab_type": "code",
        "outputId": "146bf6aa-e997-4d8d-f828-fa8e8841439b",
        "id": "Ch2QUgN5wOdl",
        "colab": {
          "base_uri": "https://localhost:8080/",
          "height": 34
        }
      },
      "source": [
        "data_container.train.y[0]"
      ],
      "execution_count": 0,
      "outputs": [
        {
          "output_type": "execute_result",
          "data": {
            "text/plain": [
              "3"
            ]
          },
          "metadata": {
            "tags": []
          },
          "execution_count": 109
        }
      ]
    },
    {
      "cell_type": "code",
      "metadata": {
        "id": "w61q50EG73n2",
        "colab_type": "code",
        "colab": {}
      },
      "source": [
        "def preprocess(x, y, max_length=400):\n",
        "    x = tf.strings.regex_replace(x, rb\"<br\\s*/?>\", b\" \")\n",
        "    x = tf.strings.regex_replace(x, b\"[^a-zA-Z']\", b\" \")\n",
        "    x = tf.strings.split(x)\n",
        "    x = x[:, :max_length]\n",
        "    return x.to_tensor(default_value=b\"<pad>\"), y"
      ],
      "execution_count": 0,
      "outputs": []
    },
    {
      "cell_type": "code",
      "metadata": {
        "id": "Rf9jx0SS73tl",
        "colab_type": "code",
        "outputId": "da51ec33-e02c-4b1e-dca7-71161c6da0a7",
        "colab": {
          "base_uri": "https://localhost:8080/",
          "height": 318
        }
      },
      "source": [
        "for x, y in data_container.train.dataset.batch(BATCH_SIZE).map(preprocess).take(1):\n",
        "    print(x.shape)\n",
        "    print(y.shape)\n",
        "    print(x[4])\n",
        "    print(y[4])"
      ],
      "execution_count": 0,
      "outputs": [
        {
          "output_type": "stream",
          "text": [
            "(32, 105)\n",
            "(32,)\n",
            "tf.Tensor(\n",
            "[b'This' b'shirt' b'is' b'very' b'flattering' b'to' b'all' b'due' b'to'\n",
            " b'the' b'adjustable' b'front' b'tie' b'it' b'is' b'the' b'perfect'\n",
            " b'length' b'to' b'wear' b'with' b'leggings' b'and' b'it' b'is'\n",
            " b'sleeveless' b'so' b'it' b'pairs' b'well' b'with' b'any' b'cardigan'\n",
            " b'love' b'this' b'shirt' b'<pad>' b'<pad>' b'<pad>' b'<pad>' b'<pad>'\n",
            " b'<pad>' b'<pad>' b'<pad>' b'<pad>' b'<pad>' b'<pad>' b'<pad>' b'<pad>'\n",
            " b'<pad>' b'<pad>' b'<pad>' b'<pad>' b'<pad>' b'<pad>' b'<pad>' b'<pad>'\n",
            " b'<pad>' b'<pad>' b'<pad>' b'<pad>' b'<pad>' b'<pad>' b'<pad>' b'<pad>'\n",
            " b'<pad>' b'<pad>' b'<pad>' b'<pad>' b'<pad>' b'<pad>' b'<pad>' b'<pad>'\n",
            " b'<pad>' b'<pad>' b'<pad>' b'<pad>' b'<pad>' b'<pad>' b'<pad>' b'<pad>'\n",
            " b'<pad>' b'<pad>' b'<pad>' b'<pad>' b'<pad>' b'<pad>' b'<pad>' b'<pad>'\n",
            " b'<pad>' b'<pad>' b'<pad>' b'<pad>' b'<pad>' b'<pad>' b'<pad>' b'<pad>'\n",
            " b'<pad>' b'<pad>' b'<pad>' b'<pad>' b'<pad>' b'<pad>' b'<pad>' b'<pad>'], shape=(105,), dtype=string)\n",
            "tf.Tensor(4, shape=(), dtype=int64)\n"
          ],
          "name": "stdout"
        }
      ]
    },
    {
      "cell_type": "code",
      "metadata": {
        "id": "zSFZiFpN73x3",
        "colab_type": "code",
        "colab": {}
      },
      "source": [
        "def make_vocabulary(dataset):\n",
        "    vocabulary = Counter()\n",
        "    for x, _ in dataset.batch(BATCH_SIZE).map(preprocess):\n",
        "        for review in x:\n",
        "            vocabulary.update(review.numpy().tolist())\n",
        "    return vocabulary"
      ],
      "execution_count": 0,
      "outputs": []
    },
    {
      "cell_type": "code",
      "metadata": {
        "id": "dmwzmcJU8Gew",
        "colab_type": "code",
        "colab": {}
      },
      "source": [
        "vocabulary = make_vocabulary(data_container.train.dataset)"
      ],
      "execution_count": 0,
      "outputs": []
    },
    {
      "cell_type": "code",
      "metadata": {
        "id": "akTXvOKJ8Gnx",
        "colab_type": "code",
        "outputId": "969f7c05-792c-4449-d5fb-72145e57461b",
        "colab": {
          "base_uri": "https://localhost:8080/",
          "height": 194
        }
      },
      "source": [
        "# Most common words\n",
        "vocabulary.most_common()[:10]"
      ],
      "execution_count": 0,
      "outputs": [
        {
          "output_type": "execute_result",
          "data": {
            "text/plain": [
              "[(b'<pad>', 690736),\n",
              " (b'the', 52171),\n",
              " (b'i', 35298),\n",
              " (b'and', 34295),\n",
              " (b'a', 30120),\n",
              " (b'it', 29835),\n",
              " (b'is', 21283),\n",
              " (b'to', 17123),\n",
              " (b'this', 14986),\n",
              " (b'in', 14397)]"
            ]
          },
          "metadata": {
            "tags": []
          },
          "execution_count": 114
        }
      ]
    },
    {
      "cell_type": "code",
      "metadata": {
        "id": "qtiRBe838Gvd",
        "colab_type": "code",
        "outputId": "4c76079e-7da1-481e-e275-a47952674477",
        "colab": {
          "base_uri": "https://localhost:8080/",
          "height": 194
        }
      },
      "source": [
        "# Least common words\n",
        "vocabulary.most_common()[-10:]"
      ],
      "execution_count": 0,
      "outputs": [
        {
          "output_type": "execute_result",
          "data": {
            "text/plain": [
              "[(b'testy', 1),\n",
              " (b'shimmying', 1),\n",
              " (b'twee', 1),\n",
              " (b'cell', 1),\n",
              " (b'whittle', 1),\n",
              " (b'overexposure', 1),\n",
              " (b'depend', 1),\n",
              " (b'thei', 1),\n",
              " (b'Hesitated', 1),\n",
              " (b'hats', 1)]"
            ]
          },
          "metadata": {
            "tags": []
          },
          "execution_count": 115
        }
      ]
    },
    {
      "cell_type": "code",
      "metadata": {
        "id": "zyupvrOy8Oql",
        "colab_type": "code",
        "outputId": "76c4cd09-f88a-436c-b78c-68c203ee4c7b",
        "colab": {
          "base_uri": "https://localhost:8080/",
          "height": 34
        }
      },
      "source": [
        "len(vocabulary)"
      ],
      "execution_count": 0,
      "outputs": [
        {
          "output_type": "execute_result",
          "data": {
            "text/plain": [
              "12610"
            ]
          },
          "metadata": {
            "tags": []
          },
          "execution_count": 116
        }
      ]
    },
    {
      "cell_type": "code",
      "metadata": {
        "id": "OaDdKOuN8OxC",
        "colab_type": "code",
        "colab": {}
      },
      "source": [
        "VOCABULARY_SIZE = 10000"
      ],
      "execution_count": 0,
      "outputs": []
    },
    {
      "cell_type": "code",
      "metadata": {
        "id": "cYvTB8bs8SLn",
        "colab_type": "code",
        "colab": {}
      },
      "source": [
        "truncated_vocabulary = [\n",
        "    word for word, count in vocabulary.most_common()[:VOCABULARY_SIZE]\n",
        "]"
      ],
      "execution_count": 0,
      "outputs": []
    },
    {
      "cell_type": "code",
      "metadata": {
        "id": "HIPd-jjf8SRC",
        "colab_type": "code",
        "outputId": "6d70aef0-4f5f-4aaf-c31b-913c70aeba19",
        "colab": {
          "base_uri": "https://localhost:8080/",
          "height": 34
        }
      },
      "source": [
        "len(truncated_vocabulary)"
      ],
      "execution_count": 0,
      "outputs": [
        {
          "output_type": "execute_result",
          "data": {
            "text/plain": [
              "10000"
            ]
          },
          "metadata": {
            "tags": []
          },
          "execution_count": 119
        }
      ]
    },
    {
      "cell_type": "code",
      "metadata": {
        "id": "K0UoNSHj8SUx",
        "colab_type": "code",
        "colab": {}
      },
      "source": [
        "word_to_id = {word: index for index, word in enumerate(truncated_vocabulary)}"
      ],
      "execution_count": 0,
      "outputs": []
    },
    {
      "cell_type": "code",
      "metadata": {
        "id": "pOB3E4bS8Yu7",
        "colab_type": "code",
        "outputId": "3384d7ef-1eac-413a-c1d3-ee6309daea5d",
        "colab": {
          "base_uri": "https://localhost:8080/",
          "height": 70
        }
      },
      "source": [
        "for word in b\"This shirt is\".split():\n",
        "    print(word_to_id.get(word) or VOCABULARY_SIZE)"
      ],
      "execution_count": 0,
      "outputs": [
        {
          "output_type": "stream",
          "text": [
            "50\n",
            "77\n",
            "6\n"
          ],
          "name": "stdout"
        }
      ]
    },
    {
      "cell_type": "code",
      "metadata": {
        "id": "3GmQE1cf8e7p",
        "colab_type": "code",
        "outputId": "9fd3cc01-297f-4054-fdba-cdc81cb1a019",
        "colab": {
          "base_uri": "https://localhost:8080/",
          "height": 70
        }
      },
      "source": [
        "for word in b\"This banana is\".split():\n",
        "    print(word_to_id.get(word) or VOCABULARY_SIZE)"
      ],
      "execution_count": 0,
      "outputs": [
        {
          "output_type": "stream",
          "text": [
            "50\n",
            "10000\n",
            "6\n"
          ],
          "name": "stdout"
        }
      ]
    },
    {
      "cell_type": "code",
      "metadata": {
        "id": "SGd0flSe8im_",
        "colab_type": "code",
        "colab": {}
      },
      "source": [
        "words = tf.constant(truncated_vocabulary)"
      ],
      "execution_count": 0,
      "outputs": []
    },
    {
      "cell_type": "code",
      "metadata": {
        "id": "JWcZxzCf8pKy",
        "colab_type": "code",
        "colab": {}
      },
      "source": [
        "word_ids = tf.range(len(truncated_vocabulary), dtype=tf.int64)"
      ],
      "execution_count": 0,
      "outputs": []
    },
    {
      "cell_type": "code",
      "metadata": {
        "id": "o7xF4o658pU_",
        "colab_type": "code",
        "colab": {}
      },
      "source": [
        "vocab_init = tf.lookup.KeyValueTensorInitializer(words, word_ids)"
      ],
      "execution_count": 0,
      "outputs": []
    },
    {
      "cell_type": "code",
      "metadata": {
        "id": "gqQDBFSj8sB2",
        "colab_type": "code",
        "colab": {}
      },
      "source": [
        "n_oov_buckets = 500"
      ],
      "execution_count": 0,
      "outputs": []
    },
    {
      "cell_type": "code",
      "metadata": {
        "id": "MnlY7mTa8sKX",
        "colab_type": "code",
        "colab": {}
      },
      "source": [
        "table = tf.lookup.StaticVocabularyTable(vocab_init, n_oov_buckets)"
      ],
      "execution_count": 0,
      "outputs": []
    },
    {
      "cell_type": "code",
      "metadata": {
        "id": "b-I4bHuM8z1r",
        "colab_type": "code",
        "outputId": "083c5636-b830-4ff9-90ce-346ea5e68dfd",
        "colab": {
          "base_uri": "https://localhost:8080/",
          "height": 34
        }
      },
      "source": [
        "table.lookup(tf.constant([b\"This shirt is\".split()]))\n"
      ],
      "execution_count": 0,
      "outputs": [
        {
          "output_type": "execute_result",
          "data": {
            "text/plain": [
              "<tf.Tensor: id=347549, shape=(1, 3), dtype=int64, numpy=array([[50, 77,  6]])>"
            ]
          },
          "metadata": {
            "tags": []
          },
          "execution_count": 128
        }
      ]
    },
    {
      "cell_type": "code",
      "metadata": {
        "id": "s9MhQPK28z-n",
        "colab_type": "code",
        "colab": {}
      },
      "source": [
        "def encode_words(x, y):\n",
        "    return table.lookup(x), y"
      ],
      "execution_count": 0,
      "outputs": []
    },
    {
      "cell_type": "code",
      "metadata": {
        "id": "e5PQyqcI9XQJ",
        "colab_type": "code",
        "colab": {}
      },
      "source": [
        "AUTOTUNE = tf.data.experimental.AUTOTUNE"
      ],
      "execution_count": 0,
      "outputs": []
    },
    {
      "cell_type": "code",
      "metadata": {
        "id": "iKhew2Re89TH",
        "colab_type": "code",
        "colab": {}
      },
      "source": [
        "train_dataset = (\n",
        "    data_container.train.dataset.repeat()\n",
        "    .batch(BATCH_SIZE)\n",
        "    .map(preprocess)\n",
        "    .map(encode_words)\n",
        "    .prefetch(AUTOTUNE)\n",
        ")"
      ],
      "execution_count": 0,
      "outputs": []
    },
    {
      "cell_type": "code",
      "metadata": {
        "id": "JQmfWQ559daA",
        "colab_type": "code",
        "colab": {}
      },
      "source": [
        "validation_dataset = (\n",
        "    data_container.validation.dataset.batch(BATCH_SIZE)\n",
        "    .map(preprocess)\n",
        "    .map(encode_words)\n",
        ")"
      ],
      "execution_count": 0,
      "outputs": []
    },
    {
      "cell_type": "code",
      "metadata": {
        "id": "TrZ4a4B79f-F",
        "colab_type": "code",
        "colab": {}
      },
      "source": [
        "test_dataset = (\n",
        "    data_container.test.dataset.batch(BATCH_SIZE)\n",
        "    .map(preprocess)\n",
        "    .map(encode_words)\n",
        ")"
      ],
      "execution_count": 0,
      "outputs": []
    },
    {
      "cell_type": "code",
      "metadata": {
        "id": "Dg-LWweQ9ivC",
        "colab_type": "code",
        "outputId": "77696cf4-deb7-4ab3-9199-cc0b1662222c",
        "colab": {
          "base_uri": "https://localhost:8080/",
          "height": 230
        }
      },
      "source": [
        "for x, y in train_dataset.take(1):\n",
        "    print(x.shape)\n",
        "    print(y.shape)\n",
        "    print(x[0])\n",
        "    print(y[0])"
      ],
      "execution_count": 0,
      "outputs": [
        {
          "output_type": "stream",
          "text": [
            "(32, 105)\n",
            "(32,)\n",
            "tf.Tensor(\n",
            "[1164  545  911    3  630    3   69    0    0    0    0    0    0    0\n",
            "    0    0    0    0    0    0    0    0    0    0    0    0    0    0\n",
            "    0    0    0    0    0    0    0    0    0    0    0    0    0    0\n",
            "    0    0    0    0    0    0    0    0    0    0    0    0    0    0\n",
            "    0    0    0    0    0    0    0    0    0    0    0    0    0    0\n",
            "    0    0    0    0    0    0    0    0    0    0    0    0    0    0\n",
            "    0    0    0    0    0    0    0    0    0    0    0    0    0    0\n",
            "    0    0    0    0    0    0    0], shape=(105,), dtype=int64)\n",
            "tf.Tensor(3, shape=(), dtype=int64)\n"
          ],
          "name": "stdout"
        }
      ]
    },
    {
      "cell_type": "code",
      "metadata": {
        "id": "icvB5iq89nPc",
        "colab_type": "code",
        "colab": {}
      },
      "source": [
        "train_dataset_steps = len(data_container.train) // BATCH_SIZE"
      ],
      "execution_count": 0,
      "outputs": []
    },
    {
      "cell_type": "code",
      "metadata": {
        "id": "w6PuCjnL9nqS",
        "colab_type": "code",
        "colab": {}
      },
      "source": [
        "validation_dataset_steps = len(data_container.validation) // BATCH_SIZE"
      ],
      "execution_count": 0,
      "outputs": []
    },
    {
      "cell_type": "code",
      "metadata": {
        "id": "bPuLtiSd9r_9",
        "colab_type": "code",
        "colab": {}
      },
      "source": [
        "test_dataset_steps = len(data_container.test) // BATCH_SIZE"
      ],
      "execution_count": 0,
      "outputs": []
    },
    {
      "cell_type": "markdown",
      "metadata": {
        "id": "s_SP_Ihx_3tv",
        "colab_type": "text"
      },
      "source": [
        "### Bidirectional LSTM - Emb256 2xBidLSTM256 Dropout 0.5 0.5"
      ]
    },
    {
      "cell_type": "code",
      "metadata": {
        "id": "kGYfYQNq_7Hn",
        "colab_type": "code",
        "colab": {}
      },
      "source": [
        "def make_sequential_lstm_model(\n",
        "    n_categories, embedding_size, lstm_size, lstm_dropout, dropout\n",
        "):\n",
        "    return keras.models.Sequential(\n",
        "        [\n",
        "            keras.layers.Embedding(\n",
        "                VOCABULARY_SIZE + n_oov_buckets,\n",
        "                embedding_size,\n",
        "                mask_zero=True,\n",
        "                input_shape=[None],\n",
        "            ),\n",
        "            keras.layers.Bidirectional(\n",
        "                keras.layers.LSTM(\n",
        "                    lstm_size, dropout=lstm_dropout, return_sequences=True\n",
        "                )\n",
        "            ),\n",
        "            keras.layers.Bidirectional(\n",
        "                keras.layers.LSTM(\n",
        "                    lstm_size, dropout=lstm_dropout, return_sequences=True\n",
        "                )\n",
        "            ),\n",
        "            keras.layers.GlobalMaxPool1D(),\n",
        "            keras.layers.Dropout(dropout),\n",
        "            keras.layers.Dense(n_categories, activation=keras.activations.softmax),\n",
        "        ]\n",
        "    )"
      ],
      "execution_count": 0,
      "outputs": []
    },
    {
      "cell_type": "code",
      "metadata": {
        "id": "gy3Hfnrx_97E",
        "colab_type": "code",
        "colab": {}
      },
      "source": [
        "model = make_sequential_lstm_model(\n",
        "    n_categories=n_categories,\n",
        "    embedding_size=256,\n",
        "    lstm_size=256,\n",
        "    lstm_dropout=0.5,\n",
        "    dropout=0.5,\n",
        ")"
      ],
      "execution_count": 0,
      "outputs": []
    },
    {
      "cell_type": "code",
      "metadata": {
        "id": "IgDZLyMx_-D7",
        "colab_type": "code",
        "colab": {}
      },
      "source": [
        "model.compile(\n",
        "    loss=keras.losses.sparse_categorical_crossentropy,\n",
        "    optimizer=keras.optimizers.Adam(lr=1e-4),\n",
        "    metrics=[\n",
        "        keras.metrics.sparse_categorical_accuracy,\n",
        "        sparse_top_2_categorical_accuracy,\n",
        "    ],\n",
        ")"
      ],
      "execution_count": 0,
      "outputs": []
    },
    {
      "cell_type": "code",
      "metadata": {
        "id": "tN0acQm4AUOS",
        "colab_type": "code",
        "outputId": "189353a1-b01f-46cd-b79e-410a6829d4e2",
        "colab": {
          "base_uri": "https://localhost:8080/",
          "height": 338
        }
      },
      "source": [
        "history = model.fit(\n",
        "    train_dataset,\n",
        "    steps_per_epoch=train_dataset_steps,\n",
        "    validation_data=validation_dataset,\n",
        "    validation_steps=validation_dataset_steps,\n",
        "    epochs=15,\n",
        "    callbacks=[\n",
        "        keras.callbacks.ModelCheckpoint(str(TEMP_DIR/'model_cl_2lstm256_emb_256_dr_05.h5'), save_best_only=True),\n",
        "        keras.callbacks.ReduceLROnPlateau(patience=2, factor=0.3),\n",
        "        keras.callbacks.EarlyStopping(patience=4, restore_best_weights=True),\n",
        "    ],\n",
        "    class_weight=class_weights,\n",
        ")"
      ],
      "execution_count": 0,
      "outputs": [
        {
          "output_type": "stream",
          "text": [
            "Train for 495 steps, validate for 106 steps\n",
            "Epoch 1/15\n",
            "495/495 [==============================] - 118s 239ms/step - loss: 1.0938 - sparse_categorical_accuracy: 0.5821 - sparse_top_2_categorical_accuracy: 0.8037 - val_loss: 0.9854 - val_sparse_categorical_accuracy: 0.5940 - val_sparse_top_2_categorical_accuracy: 0.8334\n",
            "Epoch 2/15\n",
            "495/495 [==============================] - 97s 196ms/step - loss: 0.8930 - sparse_categorical_accuracy: 0.6295 - sparse_top_2_categorical_accuracy: 0.8614 - val_loss: 0.9337 - val_sparse_categorical_accuracy: 0.6070 - val_sparse_top_2_categorical_accuracy: 0.8426\n",
            "Epoch 3/15\n",
            "495/495 [==============================] - 97s 195ms/step - loss: 0.8416 - sparse_categorical_accuracy: 0.6474 - sparse_top_2_categorical_accuracy: 0.8768 - val_loss: 0.9300 - val_sparse_categorical_accuracy: 0.6117 - val_sparse_top_2_categorical_accuracy: 0.8461\n",
            "Epoch 4/15\n",
            "495/495 [==============================] - 100s 201ms/step - loss: 0.8044 - sparse_categorical_accuracy: 0.6598 - sparse_top_2_categorical_accuracy: 0.8850 - val_loss: 0.9234 - val_sparse_categorical_accuracy: 0.6123 - val_sparse_top_2_categorical_accuracy: 0.8461\n",
            "Epoch 5/15\n",
            "495/495 [==============================] - 98s 198ms/step - loss: 0.7656 - sparse_categorical_accuracy: 0.6778 - sparse_top_2_categorical_accuracy: 0.8970 - val_loss: 0.9246 - val_sparse_categorical_accuracy: 0.6150 - val_sparse_top_2_categorical_accuracy: 0.8452\n",
            "Epoch 6/15\n",
            "495/495 [==============================] - 95s 191ms/step - loss: 0.7266 - sparse_categorical_accuracy: 0.6963 - sparse_top_2_categorical_accuracy: 0.9095 - val_loss: 0.9567 - val_sparse_categorical_accuracy: 0.6147 - val_sparse_top_2_categorical_accuracy: 0.8449\n",
            "Epoch 7/15\n",
            "495/495 [==============================] - 95s 191ms/step - loss: 0.6682 - sparse_categorical_accuracy: 0.7223 - sparse_top_2_categorical_accuracy: 0.9242 - val_loss: 0.9509 - val_sparse_categorical_accuracy: 0.6250 - val_sparse_top_2_categorical_accuracy: 0.8523\n",
            "Epoch 8/15\n",
            "495/495 [==============================] - 95s 192ms/step - loss: 0.6567 - sparse_categorical_accuracy: 0.7315 - sparse_top_2_categorical_accuracy: 0.9287 - val_loss: 0.9648 - val_sparse_categorical_accuracy: 0.6279 - val_sparse_top_2_categorical_accuracy: 0.8508\n"
          ],
          "name": "stdout"
        }
      ]
    },
    {
      "cell_type": "code",
      "metadata": {
        "id": "Dl5Y9jJpAXg-",
        "colab_type": "code",
        "outputId": "878418c7-aba3-413d-875f-42c8e09e0cd0",
        "colab": {
          "base_uri": "https://localhost:8080/",
          "height": 372
        }
      },
      "source": [
        "model.summary()"
      ],
      "execution_count": 0,
      "outputs": [
        {
          "output_type": "stream",
          "text": [
            "Model: \"sequential\"\n",
            "_________________________________________________________________\n",
            "Layer (type)                 Output Shape              Param #   \n",
            "=================================================================\n",
            "embedding_2 (Embedding)      (None, None, 256)         2688000   \n",
            "_________________________________________________________________\n",
            "bidirectional_4 (Bidirection (None, None, 512)         1050624   \n",
            "_________________________________________________________________\n",
            "bidirectional_5 (Bidirection (None, None, 512)         1574912   \n",
            "_________________________________________________________________\n",
            "global_max_pooling1d_2 (Glob (None, 512)               0         \n",
            "_________________________________________________________________\n",
            "dropout_6 (Dropout)          (None, 512)               0         \n",
            "_________________________________________________________________\n",
            "dense_2 (Dense)              (None, 5)                 2565      \n",
            "=================================================================\n",
            "Total params: 5,316,101\n",
            "Trainable params: 5,316,101\n",
            "Non-trainable params: 0\n",
            "_________________________________________________________________\n"
          ],
          "name": "stdout"
        }
      ]
    },
    {
      "cell_type": "code",
      "metadata": {
        "id": "BbNawDY7AaFK",
        "colab_type": "code",
        "outputId": "d237cc95-7caf-437d-f4f8-e06d59759012",
        "colab": {
          "base_uri": "https://localhost:8080/",
          "height": 72
        }
      },
      "source": [
        "model.evaluate(validation_dataset, steps=validation_dataset_steps)"
      ],
      "execution_count": 0,
      "outputs": [
        {
          "output_type": "stream",
          "text": [
            "106/106 [==============================] - 6s 59ms/step - loss: 0.9234 - sparse_categorical_accuracy: 0.6123 - sparse_top_2_categorical_accuracy: 0.8461\n"
          ],
          "name": "stdout"
        },
        {
          "output_type": "execute_result",
          "data": {
            "text/plain": [
              "[0.9234453023604627, 0.6123231, 0.8461085]"
            ]
          },
          "metadata": {
            "tags": []
          },
          "execution_count": 153
        }
      ]
    },
    {
      "cell_type": "code",
      "metadata": {
        "id": "Icki7GcZAdVz",
        "colab_type": "code",
        "outputId": "d3779552-f38f-4e8f-c708-e9e010df7546",
        "colab": {
          "base_uri": "https://localhost:8080/",
          "height": 285
        }
      },
      "source": [
        "print(\n",
        "    classification_report(\n",
        "        data_container.validation.y, model.predict(validation_dataset).argmax(axis=1)\n",
        "    )\n",
        ")"
      ],
      "execution_count": 0,
      "outputs": [
        {
          "output_type": "stream",
          "text": [
            "              precision    recall  f1-score   support\n",
            "\n",
            "           0       0.00      0.00      0.00       140\n",
            "           1       0.00      0.00      0.00       244\n",
            "           2       0.36      0.57      0.44       468\n",
            "           3       0.36      0.21      0.26       735\n",
            "           4       0.74      0.92      0.82      1810\n",
            "\n",
            "    accuracy                           0.61      3397\n",
            "   macro avg       0.29      0.34      0.31      3397\n",
            "weighted avg       0.52      0.61      0.56      3397\n",
            "\n"
          ],
          "name": "stdout"
        },
        {
          "output_type": "stream",
          "text": [
            "/usr/local/lib/python3.6/dist-packages/sklearn/metrics/classification.py:1437: UndefinedMetricWarning: Precision and F-score are ill-defined and being set to 0.0 in labels with no predicted samples.\n",
            "  'precision', 'predicted', average, warn_for)\n"
          ],
          "name": "stderr"
        }
      ]
    },
    {
      "cell_type": "markdown",
      "metadata": {
        "id": "joXucQ1WAlvU",
        "colab_type": "text"
      },
      "source": [
        "### 1d convolutional - Emb256 2xConv1D256 Dropout 0.5"
      ]
    },
    {
      "cell_type": "code",
      "metadata": {
        "id": "gzkNPBFbAqDk",
        "colab_type": "code",
        "colab": {}
      },
      "source": [
        "def make_cnn_model(\n",
        "    n_categories, embedding_size, conv_size, kernel_size, dropout, stride=2\n",
        "):\n",
        "    input_layer = keras.layers.Input(shape=[None])\n",
        "    mask = keras.layers.Lambda(lambda inputs: keras.backend.not_equal(inputs, 0))(\n",
        "        input_layer\n",
        "    )\n",
        "    embedding_layer = keras.layers.Embedding(\n",
        "        VOCABULARY_SIZE + n_oov_buckets, embedding_size\n",
        "    )(input_layer)\n",
        "    cnn1_layer = keras.layers.Conv1D(\n",
        "        conv_size,\n",
        "        kernel_size=kernel_size,\n",
        "        strides=stride,\n",
        "        activation=keras.activations.relu,\n",
        "        kernel_initializer=keras.initializers.he_uniform(),\n",
        "    )(embedding_layer)\n",
        "    cnn1_dropout = keras.layers.Dropout(dropout)(cnn1_layer)\n",
        "    cnn2_layer = keras.layers.Conv1D(\n",
        "        conv_size,\n",
        "        kernel_size=kernel_size,\n",
        "        strides=stride,\n",
        "        activation=keras.activations.relu,\n",
        "        kernel_initializer=keras.initializers.he_uniform(),\n",
        "    )(cnn1_dropout)\n",
        "    cnn2_dropout = keras.layers.Dropout(dropout)(cnn2_layer)\n",
        "    max_pool_layer = keras.layers.GlobalMaxPool1D()(cnn2_dropout)\n",
        "    dropout_layer = keras.layers.Dropout(dropout)(max_pool_layer)\n",
        "    output_layer = keras.layers.Dense(\n",
        "        n_categories, activation=keras.activations.softmax\n",
        "    )(dropout_layer)\n",
        "    return keras.Model(inputs=input_layer, outputs=output_layer)"
      ],
      "execution_count": 0,
      "outputs": []
    },
    {
      "cell_type": "code",
      "metadata": {
        "id": "b3eq9hvkAsWD",
        "colab_type": "code",
        "colab": {}
      },
      "source": [
        "model = make_cnn_model(\n",
        "    n_categories=n_categories,\n",
        "    embedding_size=256,\n",
        "    conv_size=256,\n",
        "    kernel_size=3,\n",
        "    dropout=0.5,\n",
        ")"
      ],
      "execution_count": 0,
      "outputs": []
    },
    {
      "cell_type": "code",
      "metadata": {
        "id": "YSj71_D7A8Em",
        "colab_type": "code",
        "colab": {}
      },
      "source": [
        "model.compile(\n",
        "    loss=keras.losses.sparse_categorical_crossentropy,\n",
        "    optimizer=keras.optimizers.Adam(lr=1e-4),\n",
        "    metrics=[\n",
        "        keras.metrics.sparse_categorical_accuracy,\n",
        "        sparse_top_2_categorical_accuracy,\n",
        "    ],\n",
        ")"
      ],
      "execution_count": 0,
      "outputs": []
    },
    {
      "cell_type": "code",
      "metadata": {
        "id": "CF0i8626A-jV",
        "colab_type": "code",
        "outputId": "f919cf87-39c1-4b6f-a575-054ff20e2160",
        "colab": {
          "base_uri": "https://localhost:8080/",
          "height": 623
        }
      },
      "source": [
        "history = model.fit(\n",
        "    train_dataset,\n",
        "    steps_per_epoch=train_dataset_steps,\n",
        "    validation_data=validation_dataset,\n",
        "    validation_steps=validation_dataset_steps,\n",
        "    epochs=20,\n",
        "    callbacks=[\n",
        "        keras.callbacks.ModelCheckpoint(str(TEMP_DIR/'model_cl_cnn_256_dr05.h5'), save_best_only=True),\n",
        "        keras.callbacks.ReduceLROnPlateau(patience=2, factor=0.3),\n",
        "        keras.callbacks.EarlyStopping(patience=4, restore_best_weights=True),\n",
        "    ],\n",
        "    class_weight=class_weights,\n",
        ")"
      ],
      "execution_count": 0,
      "outputs": [
        {
          "output_type": "stream",
          "text": [
            "Train for 495 steps, validate for 106 steps\n",
            "Epoch 1/20\n",
            "495/495 [==============================] - 23s 46ms/step - loss: 1.2479 - sparse_categorical_accuracy: 0.5509 - sparse_top_2_categorical_accuracy: 0.7633 - val_loss: 1.3430 - val_sparse_categorical_accuracy: 0.5333 - val_sparse_top_2_categorical_accuracy: 0.7497\n",
            "Epoch 2/20\n",
            "495/495 [==============================] - 25s 51ms/step - loss: 1.2144 - sparse_categorical_accuracy: 0.5579 - sparse_top_2_categorical_accuracy: 0.7686 - val_loss: 1.3219 - val_sparse_categorical_accuracy: 0.5333 - val_sparse_top_2_categorical_accuracy: 0.7497\n",
            "Epoch 3/20\n",
            "495/495 [==============================] - 25s 50ms/step - loss: 1.1644 - sparse_categorical_accuracy: 0.5592 - sparse_top_2_categorical_accuracy: 0.7721 - val_loss: 1.2260 - val_sparse_categorical_accuracy: 0.5360 - val_sparse_top_2_categorical_accuracy: 0.7544\n",
            "Epoch 4/20\n",
            "495/495 [==============================] - 26s 52ms/step - loss: 1.0506 - sparse_categorical_accuracy: 0.5845 - sparse_top_2_categorical_accuracy: 0.7954 - val_loss: 1.1175 - val_sparse_categorical_accuracy: 0.5705 - val_sparse_top_2_categorical_accuracy: 0.7842\n",
            "Epoch 5/20\n",
            "495/495 [==============================] - 25s 51ms/step - loss: 0.9644 - sparse_categorical_accuracy: 0.6121 - sparse_top_2_categorical_accuracy: 0.8301 - val_loss: 1.0652 - val_sparse_categorical_accuracy: 0.5840 - val_sparse_top_2_categorical_accuracy: 0.8107\n",
            "Epoch 6/20\n",
            "495/495 [==============================] - 25s 51ms/step - loss: 0.9132 - sparse_categorical_accuracy: 0.6282 - sparse_top_2_categorical_accuracy: 0.8460 - val_loss: 1.0342 - val_sparse_categorical_accuracy: 0.5940 - val_sparse_top_2_categorical_accuracy: 0.8175\n",
            "Epoch 7/20\n",
            "495/495 [==============================] - 25s 50ms/step - loss: 0.8644 - sparse_categorical_accuracy: 0.6480 - sparse_top_2_categorical_accuracy: 0.8617 - val_loss: 1.0140 - val_sparse_categorical_accuracy: 0.6008 - val_sparse_top_2_categorical_accuracy: 0.8231\n",
            "Epoch 8/20\n",
            "495/495 [==============================] - 25s 51ms/step - loss: 0.8305 - sparse_categorical_accuracy: 0.6588 - sparse_top_2_categorical_accuracy: 0.8716 - val_loss: 0.9978 - val_sparse_categorical_accuracy: 0.6047 - val_sparse_top_2_categorical_accuracy: 0.8261\n",
            "Epoch 9/20\n",
            "495/495 [==============================] - 23s 47ms/step - loss: 0.7982 - sparse_categorical_accuracy: 0.6727 - sparse_top_2_categorical_accuracy: 0.8835 - val_loss: 0.9881 - val_sparse_categorical_accuracy: 0.6067 - val_sparse_top_2_categorical_accuracy: 0.8284\n",
            "Epoch 10/20\n",
            "495/495 [==============================] - 23s 46ms/step - loss: 0.7631 - sparse_categorical_accuracy: 0.6821 - sparse_top_2_categorical_accuracy: 0.8888 - val_loss: 0.9813 - val_sparse_categorical_accuracy: 0.6076 - val_sparse_top_2_categorical_accuracy: 0.8284\n",
            "Epoch 11/20\n",
            "495/495 [==============================] - 22s 44ms/step - loss: 0.7317 - sparse_categorical_accuracy: 0.6931 - sparse_top_2_categorical_accuracy: 0.8975 - val_loss: 0.9800 - val_sparse_categorical_accuracy: 0.6073 - val_sparse_top_2_categorical_accuracy: 0.8284\n",
            "Epoch 12/20\n",
            "495/495 [==============================] - 22s 45ms/step - loss: 0.7011 - sparse_categorical_accuracy: 0.7110 - sparse_top_2_categorical_accuracy: 0.9064 - val_loss: 0.9786 - val_sparse_categorical_accuracy: 0.6047 - val_sparse_top_2_categorical_accuracy: 0.8261\n",
            "Epoch 13/20\n",
            "495/495 [==============================] - 22s 44ms/step - loss: 0.6677 - sparse_categorical_accuracy: 0.7220 - sparse_top_2_categorical_accuracy: 0.9107 - val_loss: 0.9894 - val_sparse_categorical_accuracy: 0.5982 - val_sparse_top_2_categorical_accuracy: 0.8275\n",
            "Epoch 14/20\n",
            "495/495 [==============================] - 22s 44ms/step - loss: 0.6381 - sparse_categorical_accuracy: 0.7334 - sparse_top_2_categorical_accuracy: 0.9194 - val_loss: 0.9995 - val_sparse_categorical_accuracy: 0.5985 - val_sparse_top_2_categorical_accuracy: 0.8240\n",
            "Epoch 15/20\n",
            "495/495 [==============================] - 22s 44ms/step - loss: 0.5992 - sparse_categorical_accuracy: 0.7567 - sparse_top_2_categorical_accuracy: 0.9278 - val_loss: 1.0020 - val_sparse_categorical_accuracy: 0.5932 - val_sparse_top_2_categorical_accuracy: 0.8264\n",
            "Epoch 16/20\n",
            "495/495 [==============================] - 22s 44ms/step - loss: 0.5900 - sparse_categorical_accuracy: 0.7540 - sparse_top_2_categorical_accuracy: 0.9283 - val_loss: 1.0069 - val_sparse_categorical_accuracy: 0.5893 - val_sparse_top_2_categorical_accuracy: 0.8269\n"
          ],
          "name": "stdout"
        }
      ]
    },
    {
      "cell_type": "code",
      "metadata": {
        "id": "nss-mkQ-BAqw",
        "colab_type": "code",
        "outputId": "ae75e321-e030-472a-c823-75ef590fe415",
        "colab": {
          "base_uri": "https://localhost:8080/",
          "height": 478
        }
      },
      "source": [
        "model.summary()"
      ],
      "execution_count": 0,
      "outputs": [
        {
          "output_type": "stream",
          "text": [
            "Model: \"model_2\"\n",
            "_________________________________________________________________\n",
            "Layer (type)                 Output Shape              Param #   \n",
            "=================================================================\n",
            "input_3 (InputLayer)         [(None, None)]            0         \n",
            "_________________________________________________________________\n",
            "embedding_3 (Embedding)      (None, None, 256)         2688000   \n",
            "_________________________________________________________________\n",
            "conv1d_4 (Conv1D)            (None, None, 256)         196864    \n",
            "_________________________________________________________________\n",
            "dropout_7 (Dropout)          (None, None, 256)         0         \n",
            "_________________________________________________________________\n",
            "conv1d_5 (Conv1D)            (None, None, 256)         196864    \n",
            "_________________________________________________________________\n",
            "dropout_8 (Dropout)          (None, None, 256)         0         \n",
            "_________________________________________________________________\n",
            "global_max_pooling1d_3 (Glob (None, 256)               0         \n",
            "_________________________________________________________________\n",
            "dropout_9 (Dropout)          (None, 256)               0         \n",
            "_________________________________________________________________\n",
            "dense_3 (Dense)              (None, 5)                 1285      \n",
            "=================================================================\n",
            "Total params: 3,083,013\n",
            "Trainable params: 3,083,013\n",
            "Non-trainable params: 0\n",
            "_________________________________________________________________\n"
          ],
          "name": "stdout"
        }
      ]
    },
    {
      "cell_type": "code",
      "metadata": {
        "id": "CgPWktI1BCui",
        "colab_type": "code",
        "outputId": "6e410d4e-0de9-4444-c600-a191b3a15dc8",
        "colab": {
          "base_uri": "https://localhost:8080/",
          "height": 72
        }
      },
      "source": [
        "model.evaluate(validation_dataset, steps=validation_dataset_steps)"
      ],
      "execution_count": 0,
      "outputs": [
        {
          "output_type": "stream",
          "text": [
            "106/106 [==============================] - 1s 10ms/step - loss: 0.9786 - sparse_categorical_accuracy: 0.6047 - sparse_top_2_categorical_accuracy: 0.8261\n"
          ],
          "name": "stdout"
        },
        {
          "output_type": "execute_result",
          "data": {
            "text/plain": [
              "[0.9785997406491693, 0.604658, 0.8260613]"
            ]
          },
          "metadata": {
            "tags": []
          },
          "execution_count": 161
        }
      ]
    },
    {
      "cell_type": "code",
      "metadata": {
        "id": "hkZ7VY5vBIB2",
        "colab_type": "code",
        "outputId": "deb90aa5-6ac4-4fe0-f9d9-1432ae64df84",
        "colab": {
          "base_uri": "https://localhost:8080/",
          "height": 72
        }
      },
      "source": [
        "model.evaluate(test_dataset, steps=test_dataset_steps)"
      ],
      "execution_count": 0,
      "outputs": [
        {
          "output_type": "stream",
          "text": [
            "106/106 [==============================] - 1s 10ms/step - loss: 0.9361 - sparse_categorical_accuracy: 0.6132 - sparse_top_2_categorical_accuracy: 0.8405\n"
          ],
          "name": "stdout"
        },
        {
          "output_type": "execute_result",
          "data": {
            "text/plain": [
              "[0.9360947263128353, 0.6132075, 0.8405071]"
            ]
          },
          "metadata": {
            "tags": []
          },
          "execution_count": 162
        }
      ]
    },
    {
      "cell_type": "code",
      "metadata": {
        "id": "rsWUfubpBPUI",
        "colab_type": "code",
        "outputId": "2253578f-2d9c-4edc-e35f-458bf48e61ab",
        "colab": {
          "base_uri": "https://localhost:8080/",
          "height": 285
        }
      },
      "source": [
        "print(\n",
        "    classification_report(\n",
        "        data_container.validation.y, model.predict(validation_dataset).argmax(axis=1)\n",
        "    )\n",
        ")"
      ],
      "execution_count": 0,
      "outputs": [
        {
          "output_type": "stream",
          "text": [
            "              precision    recall  f1-score   support\n",
            "\n",
            "           0       0.00      0.00      0.00       140\n",
            "           1       0.33      0.05      0.09       244\n",
            "           2       0.36      0.42      0.39       468\n",
            "           3       0.39      0.24      0.30       735\n",
            "           4       0.71      0.92      0.80      1810\n",
            "\n",
            "    accuracy                           0.60      3397\n",
            "   macro avg       0.36      0.33      0.32      3397\n",
            "weighted avg       0.53      0.60      0.55      3397\n",
            "\n"
          ],
          "name": "stdout"
        },
        {
          "output_type": "stream",
          "text": [
            "/usr/local/lib/python3.6/dist-packages/sklearn/metrics/classification.py:1437: UndefinedMetricWarning: Precision and F-score are ill-defined and being set to 0.0 in labels with no predicted samples.\n",
            "  'precision', 'predicted', average, warn_for)\n"
          ],
          "name": "stderr"
        }
      ]
    },
    {
      "cell_type": "markdown",
      "metadata": {
        "id": "w2S0Wdag-Lv6",
        "colab_type": "text"
      },
      "source": [
        "### Hybrid - Emb256 2xBidLSTM256 2xConv1D256 Dropout 0.5 0.5"
      ]
    },
    {
      "cell_type": "code",
      "metadata": {
        "id": "TJ2wvrkZ-EGK",
        "colab_type": "code",
        "colab": {}
      },
      "source": [
        "def make_lstm_cnn_model(n_categories, embedding_size, lstm_size, conv_size, kernel_size, dropouts, stride=2):\n",
        "    input_layer = keras.layers.Input(shape=[None])\n",
        "    mask = keras.layers.Lambda(lambda inputs: keras.backend.not_equal(inputs, 0))(\n",
        "        input_layer\n",
        "    )\n",
        "    embedding_layer = keras.layers.Embedding(\n",
        "        VOCABULARY_SIZE + n_oov_buckets, embedding_size\n",
        "    )(input_layer)\n",
        "    lstm1_layer = keras.layers.Bidirectional(\n",
        "        keras.layers.LSTM(lstm_size, dropout=dropouts[0], return_sequences=True)\n",
        "    )(embedding_layer, mask=mask)\n",
        "    lstm2_layer = keras.layers.Bidirectional(\n",
        "        keras.layers.LSTM(lstm_size, dropout=dropouts[0], return_sequences=True)\n",
        "    )(lstm1_layer, mask=mask)\n",
        "    cnn1_layer = keras.layers.Conv1D(\n",
        "        conv_size,\n",
        "        kernel_size=kernel_size,\n",
        "        strides=stride,\n",
        "        activation=keras.activations.relu,\n",
        "        kernel_initializer=keras.initializers.he_uniform(),\n",
        "    )(lstm2_layer)\n",
        "    cnn1_dropout = keras.layers.Dropout(dropouts[1])(cnn1_layer)\n",
        "    cnn2_layer = keras.layers.Conv1D(\n",
        "        conv_size,\n",
        "        kernel_size=kernel_size,\n",
        "        strides=stride,\n",
        "        activation=keras.activations.relu,\n",
        "        kernel_initializer=keras.initializers.he_uniform(),\n",
        "    )(cnn1_dropout)\n",
        "    cnn2_dropout = keras.layers.Dropout(dropouts[1])(cnn2_layer)\n",
        "    max_pool_layer = keras.layers.GlobalMaxPool1D()(cnn2_dropout)\n",
        "    dropout_layer = keras.layers.Dropout(dropouts[1])(max_pool_layer)\n",
        "    output_layer = keras.layers.Dense(\n",
        "        n_categories, activation=keras.activations.softmax\n",
        "    )(dropout_layer)\n",
        "    return keras.Model(inputs=input_layer, outputs=output_layer)"
      ],
      "execution_count": 0,
      "outputs": []
    },
    {
      "cell_type": "code",
      "metadata": {
        "id": "wPtt4T5C-Qz6",
        "colab_type": "code",
        "colab": {}
      },
      "source": [
        "model = make_lstm_cnn_model(\n",
        "    n_categories=n_categories,\n",
        "    embedding_size=256,\n",
        "    lstm_size=256,\n",
        "    conv_size=256,\n",
        "    kernel_size=3,\n",
        "    dropouts=[0.5, 0.5],\n",
        ")"
      ],
      "execution_count": 0,
      "outputs": []
    },
    {
      "cell_type": "code",
      "metadata": {
        "id": "9OS5zcjX-SsQ",
        "colab_type": "code",
        "colab": {}
      },
      "source": [
        "model.compile(\n",
        "    loss=keras.losses.sparse_categorical_crossentropy,\n",
        "    optimizer=keras.optimizers.Adam(lr=1e-4),\n",
        "    metrics=[\n",
        "        keras.metrics.sparse_categorical_accuracy,\n",
        "        sparse_top_2_categorical_accuracy,\n",
        "    ],\n",
        ")"
      ],
      "execution_count": 0,
      "outputs": []
    },
    {
      "cell_type": "code",
      "metadata": {
        "id": "24sCg2pb-WAa",
        "colab_type": "code",
        "outputId": "d394899a-0a4c-4044-df55-27f107f6deaf",
        "colab": {
          "base_uri": "https://localhost:8080/",
          "height": 481
        }
      },
      "source": [
        "history = model.fit(\n",
        "    train_dataset,\n",
        "    steps_per_epoch=train_dataset_steps,\n",
        "    validation_data=validation_dataset,\n",
        "    validation_steps=validation_dataset_steps,\n",
        "    epochs=12,\n",
        "    callbacks=[\n",
        "        keras.callbacks.ModelCheckpoint(str(TEMP_DIR/'model_cl_lstm_cnn_256_dr05.h5'), save_best_only=True),\n",
        "        keras.callbacks.ReduceLROnPlateau(patience=2, factor=0.3),\n",
        "        keras.callbacks.EarlyStopping(patience=4, restore_best_weights=True),\n",
        "    ],\n",
        "    class_weight=class_weights,\n",
        ")"
      ],
      "execution_count": 0,
      "outputs": [
        {
          "output_type": "stream",
          "text": [
            "Train for 495 steps, validate for 106 steps\n",
            "Epoch 1/12\n",
            "495/495 [==============================] - 124s 250ms/step - loss: 1.0962 - sparse_categorical_accuracy: 0.5794 - sparse_top_2_categorical_accuracy: 0.7934 - val_loss: 1.1102 - val_sparse_categorical_accuracy: 0.5849 - val_sparse_top_2_categorical_accuracy: 0.8222\n",
            "Epoch 2/12\n",
            "495/495 [==============================] - 102s 206ms/step - loss: 0.9143 - sparse_categorical_accuracy: 0.6261 - sparse_top_2_categorical_accuracy: 0.8537 - val_loss: 1.0483 - val_sparse_categorical_accuracy: 0.6064 - val_sparse_top_2_categorical_accuracy: 0.8411\n",
            "Epoch 3/12\n",
            "495/495 [==============================] - 100s 203ms/step - loss: 0.8389 - sparse_categorical_accuracy: 0.6504 - sparse_top_2_categorical_accuracy: 0.8744 - val_loss: 1.0138 - val_sparse_categorical_accuracy: 0.6079 - val_sparse_top_2_categorical_accuracy: 0.8435\n",
            "Epoch 4/12\n",
            "495/495 [==============================] - 98s 198ms/step - loss: 0.7863 - sparse_categorical_accuracy: 0.6708 - sparse_top_2_categorical_accuracy: 0.8924 - val_loss: 0.9702 - val_sparse_categorical_accuracy: 0.6165 - val_sparse_top_2_categorical_accuracy: 0.8505\n",
            "Epoch 5/12\n",
            "495/495 [==============================] - 100s 202ms/step - loss: 0.7380 - sparse_categorical_accuracy: 0.6921 - sparse_top_2_categorical_accuracy: 0.9042 - val_loss: 0.9585 - val_sparse_categorical_accuracy: 0.6291 - val_sparse_top_2_categorical_accuracy: 0.8494\n",
            "Epoch 6/12\n",
            "495/495 [==============================] - 100s 202ms/step - loss: 0.7053 - sparse_categorical_accuracy: 0.7055 - sparse_top_2_categorical_accuracy: 0.9121 - val_loss: 0.9367 - val_sparse_categorical_accuracy: 0.6256 - val_sparse_top_2_categorical_accuracy: 0.8529\n",
            "Epoch 7/12\n",
            "495/495 [==============================] - 101s 205ms/step - loss: 0.6677 - sparse_categorical_accuracy: 0.7201 - sparse_top_2_categorical_accuracy: 0.9229 - val_loss: 0.9304 - val_sparse_categorical_accuracy: 0.6265 - val_sparse_top_2_categorical_accuracy: 0.8482\n",
            "Epoch 8/12\n",
            "495/495 [==============================] - 100s 201ms/step - loss: 0.6388 - sparse_categorical_accuracy: 0.7352 - sparse_top_2_categorical_accuracy: 0.9308 - val_loss: 0.9157 - val_sparse_categorical_accuracy: 0.6221 - val_sparse_top_2_categorical_accuracy: 0.8526\n",
            "Epoch 9/12\n",
            "495/495 [==============================] - 98s 197ms/step - loss: 0.6097 - sparse_categorical_accuracy: 0.7509 - sparse_top_2_categorical_accuracy: 0.9359 - val_loss: 0.9195 - val_sparse_categorical_accuracy: 0.6288 - val_sparse_top_2_categorical_accuracy: 0.8505\n",
            "Epoch 10/12\n",
            "495/495 [==============================] - 98s 198ms/step - loss: 0.5798 - sparse_categorical_accuracy: 0.7618 - sparse_top_2_categorical_accuracy: 0.9419 - val_loss: 0.9212 - val_sparse_categorical_accuracy: 0.6268 - val_sparse_top_2_categorical_accuracy: 0.8517\n",
            "Epoch 11/12\n",
            "495/495 [==============================] - 99s 201ms/step - loss: 0.5363 - sparse_categorical_accuracy: 0.7809 - sparse_top_2_categorical_accuracy: 0.9510 - val_loss: 0.9188 - val_sparse_categorical_accuracy: 0.6250 - val_sparse_top_2_categorical_accuracy: 0.8523\n",
            "Epoch 12/12\n",
            "495/495 [==============================] - 100s 202ms/step - loss: 0.5130 - sparse_categorical_accuracy: 0.7924 - sparse_top_2_categorical_accuracy: 0.9566 - val_loss: 0.9181 - val_sparse_categorical_accuracy: 0.6223 - val_sparse_top_2_categorical_accuracy: 0.8529\n"
          ],
          "name": "stdout"
        }
      ]
    },
    {
      "cell_type": "code",
      "metadata": {
        "id": "3KglW8zC--3S",
        "colab_type": "code",
        "outputId": "57d6753b-36a7-485e-a17f-4add3884e874",
        "colab": {
          "base_uri": "https://localhost:8080/",
          "height": 72
        }
      },
      "source": [
        "model.evaluate(validation_dataset, steps=validation_dataset_steps)"
      ],
      "execution_count": 0,
      "outputs": [
        {
          "output_type": "stream",
          "text": [
            "106/106 [==============================] - 7s 63ms/step - loss: 0.9157 - sparse_categorical_accuracy: 0.6221 - sparse_top_2_categorical_accuracy: 0.8526\n"
          ],
          "name": "stdout"
        },
        {
          "output_type": "execute_result",
          "data": {
            "text/plain": [
              "[0.9157461287840357, 0.6220519, 0.8525943]"
            ]
          },
          "metadata": {
            "tags": []
          },
          "execution_count": 143
        }
      ]
    },
    {
      "cell_type": "code",
      "metadata": {
        "id": "LSYbqeZO_BFE",
        "colab_type": "code",
        "outputId": "c2bb46e2-99a1-41c6-8e6a-4f9f77c20e4f",
        "colab": {
          "base_uri": "https://localhost:8080/",
          "height": 230
        }
      },
      "source": [
        "print(\n",
        "    classification_report(\n",
        "        data_container.validation.y, model.predict(validation_dataset).argmax(axis=1)\n",
        "    )\n",
        ")"
      ],
      "execution_count": 0,
      "outputs": [
        {
          "output_type": "stream",
          "text": [
            "              precision    recall  f1-score   support\n",
            "\n",
            "           0       0.47      0.12      0.19       140\n",
            "           1       0.38      0.14      0.20       244\n",
            "           2       0.41      0.44      0.42       468\n",
            "           3       0.42      0.26      0.32       735\n",
            "           4       0.72      0.92      0.81      1810\n",
            "\n",
            "    accuracy                           0.62      3397\n",
            "   macro avg       0.48      0.37      0.39      3397\n",
            "weighted avg       0.58      0.62      0.58      3397\n",
            "\n"
          ],
          "name": "stdout"
        }
      ]
    },
    {
      "cell_type": "markdown",
      "metadata": {
        "id": "zOQr4O3vxw-g",
        "colab_type": "text"
      },
      "source": [
        "### Hybrid - Emb256 2xBidLSTM256 2xConv1D256 Dropout 0.1 0.5 - oversmpl"
      ]
    },
    {
      "cell_type": "markdown",
      "metadata": {
        "colab_type": "text",
        "id": "p-6KHhPeIB74"
      },
      "source": [
        "Increasing train data.\n",
        "\n",
        "Using oversampling of small classes.\n",
        "\n",
        "Using class_weights of oversampled train dataset.\n",
        "\n",
        "\n",
        "\n",
        "    epochs=[15]\n",
        "    lrs=[1e-4]\n",
        "    dropouts=[0.1, 0.5]"
      ]
    },
    {
      "cell_type": "code",
      "metadata": {
        "colab_type": "code",
        "id": "7EQHB1-EjCkL",
        "colab": {}
      },
      "source": [
        "train_data_bundle, validation_data_bundle, test_data_bundle = DataBundle.split(\n",
        "    data_bundle=all_data_bundle, fracs=[0.8, 0.1, 0.1], random=False\n",
        ")"
      ],
      "execution_count": 0,
      "outputs": []
    },
    {
      "cell_type": "code",
      "metadata": {
        "colab_type": "code",
        "id": "1B_gegFIjCkO",
        "colab": {}
      },
      "source": [
        "data_container = DataContainer(\n",
        "    train_data_bundle, validation_data_bundle, test_data_bundle\n",
        ")"
      ],
      "execution_count": 0,
      "outputs": []
    },
    {
      "cell_type": "code",
      "metadata": {
        "colab_type": "code",
        "id": "4GQ6cgkQjCkT",
        "colab": {}
      },
      "source": [
        "data_container.train = DataBundle.from_unbalanced(data_container.train)"
      ],
      "execution_count": 0,
      "outputs": []
    },
    {
      "cell_type": "code",
      "metadata": {
        "id": "9JFAAV9f-6YZ",
        "colab_type": "code",
        "outputId": "aba07f01-de06-4e0f-b0e3-a3c8c2331d1e",
        "colab": {
          "base_uri": "https://localhost:8080/",
          "height": 34
        }
      },
      "source": [
        "data_container.train.value_counts()"
      ],
      "execution_count": 0,
      "outputs": [
        {
          "output_type": "execute_result",
          "data": {
            "text/plain": [
              "{0: 9795, 1: 9928, 2: 9112, 3: 7722, 4: 10080}"
            ]
          },
          "metadata": {
            "tags": []
          },
          "execution_count": 39
        }
      ]
    },
    {
      "cell_type": "code",
      "metadata": {
        "colab_type": "code",
        "id": "MnQTiTYHjCkQ",
        "colab": {}
      },
      "source": [
        "class_weights = dict(\n",
        "    enumerate(\n",
        "        sk.utils.class_weight.compute_class_weight(\n",
        "            \"balanced\", np.unique(data_container.train.y), data_container.train.y\n",
        "        )\n",
        "    )\n",
        ")"
      ],
      "execution_count": 0,
      "outputs": []
    },
    {
      "cell_type": "code",
      "metadata": {
        "colab_type": "code",
        "outputId": "48258c73-b93a-4fcf-dfdf-79900c56caf1",
        "id": "5JDiFW-qjCkR",
        "colab": {
          "base_uri": "https://localhost:8080/",
          "height": 105
        }
      },
      "source": [
        "class_weights"
      ],
      "execution_count": 0,
      "outputs": [
        {
          "output_type": "execute_result",
          "data": {
            "text/plain": [
              "{0: 0.9522613578356304,\n",
              " 1: 0.9395044319097502,\n",
              " 2: 1.0236391571553995,\n",
              " 3: 1.2078995078995078,\n",
              " 4: 0.9253373015873015}"
            ]
          },
          "metadata": {
            "tags": []
          },
          "execution_count": 38
        }
      ]
    },
    {
      "cell_type": "code",
      "metadata": {
        "colab_type": "code",
        "outputId": "e3ad0711-e239-46eb-f818-acbae2c4994f",
        "id": "ZJZNx8PEjCkV",
        "colab": {
          "base_uri": "https://localhost:8080/",
          "height": 34
        }
      },
      "source": [
        "len(data_container.train), len(data_container.validation), len(data_container.test)"
      ],
      "execution_count": 0,
      "outputs": [
        {
          "output_type": "execute_result",
          "data": {
            "text/plain": [
              "(46637, 2265, 2263)"
            ]
          },
          "metadata": {
            "tags": []
          },
          "execution_count": 40
        }
      ]
    },
    {
      "cell_type": "code",
      "metadata": {
        "colab_type": "code",
        "id": "_Z4FfuBjjCkZ",
        "colab": {}
      },
      "source": [
        "data_container.train.dataset = make_dataset(data_container.train)\n",
        "data_container.validation.dataset = make_dataset(data_container.validation)\n",
        "data_container.test.dataset = make_dataset(data_container.test)"
      ],
      "execution_count": 0,
      "outputs": []
    },
    {
      "cell_type": "code",
      "metadata": {
        "colab_type": "code",
        "id": "wPpNQYnTjCkl",
        "colab": {}
      },
      "source": [
        "vocabulary = make_vocabulary(data_container.train.dataset)"
      ],
      "execution_count": 0,
      "outputs": []
    },
    {
      "cell_type": "code",
      "metadata": {
        "colab_type": "code",
        "outputId": "4b22cee8-328c-4d6a-9482-7d5a762dc833",
        "id": "Wq_QPaitjCkq",
        "colab": {
          "base_uri": "https://localhost:8080/",
          "height": 34
        }
      },
      "source": [
        "len(vocabulary)"
      ],
      "execution_count": 0,
      "outputs": [
        {
          "output_type": "execute_result",
          "data": {
            "text/plain": [
              "13391"
            ]
          },
          "metadata": {
            "tags": []
          },
          "execution_count": 51
        }
      ]
    },
    {
      "cell_type": "code",
      "metadata": {
        "colab_type": "code",
        "id": "CMUGjC5rjCks",
        "colab": {}
      },
      "source": [
        "VOCABULARY_SIZE = 10000"
      ],
      "execution_count": 0,
      "outputs": []
    },
    {
      "cell_type": "code",
      "metadata": {
        "colab_type": "code",
        "id": "Cr02wBM_jCkv",
        "colab": {}
      },
      "source": [
        "truncated_vocabulary = [\n",
        "    word for word, count in vocabulary.most_common()[:VOCABULARY_SIZE]\n",
        "]"
      ],
      "execution_count": 0,
      "outputs": []
    },
    {
      "cell_type": "code",
      "metadata": {
        "colab_type": "code",
        "outputId": "2ff869d6-0d9f-4cc4-846d-828c01beb53a",
        "id": "BdKlj07tjCkw",
        "colab": {
          "base_uri": "https://localhost:8080/",
          "height": 34
        }
      },
      "source": [
        "len(truncated_vocabulary)"
      ],
      "execution_count": 0,
      "outputs": [
        {
          "output_type": "execute_result",
          "data": {
            "text/plain": [
              "10000"
            ]
          },
          "metadata": {
            "tags": []
          },
          "execution_count": 54
        }
      ]
    },
    {
      "cell_type": "code",
      "metadata": {
        "colab_type": "code",
        "id": "S8pdsDg8jCky",
        "colab": {}
      },
      "source": [
        "word_to_id = {word: index for index, word in enumerate(truncated_vocabulary)}\n"
      ],
      "execution_count": 0,
      "outputs": []
    },
    {
      "cell_type": "code",
      "metadata": {
        "colab_type": "code",
        "id": "Mzlf9K8ijCk4",
        "colab": {}
      },
      "source": [
        "words = tf.constant(truncated_vocabulary)"
      ],
      "execution_count": 0,
      "outputs": []
    },
    {
      "cell_type": "code",
      "metadata": {
        "colab_type": "code",
        "id": "IjHOru6GjCk5",
        "colab": {}
      },
      "source": [
        "word_ids = tf.range(len(truncated_vocabulary), dtype=tf.int64)"
      ],
      "execution_count": 0,
      "outputs": []
    },
    {
      "cell_type": "code",
      "metadata": {
        "colab_type": "code",
        "id": "cc2dFrJNjCk6",
        "colab": {}
      },
      "source": [
        "vocab_init = tf.lookup.KeyValueTensorInitializer(words, word_ids)"
      ],
      "execution_count": 0,
      "outputs": []
    },
    {
      "cell_type": "code",
      "metadata": {
        "colab_type": "code",
        "id": "nY66bANGjCk7",
        "colab": {}
      },
      "source": [
        "n_oov_buckets = 500"
      ],
      "execution_count": 0,
      "outputs": []
    },
    {
      "cell_type": "code",
      "metadata": {
        "colab_type": "code",
        "id": "gTwqDB32jCk9",
        "colab": {}
      },
      "source": [
        "table = tf.lookup.StaticVocabularyTable(vocab_init, n_oov_buckets)"
      ],
      "execution_count": 0,
      "outputs": []
    },
    {
      "cell_type": "code",
      "metadata": {
        "colab_type": "code",
        "id": "B4Ye_etpjClD",
        "colab": {}
      },
      "source": [
        "train_dataset = (\n",
        "    data_container.train.dataset.repeat()\n",
        "    .batch(BATCH_SIZE)\n",
        "    .map(preprocess)\n",
        "    .map(encode_words)\n",
        "    .prefetch(AUTOTUNE)\n",
        ")"
      ],
      "execution_count": 0,
      "outputs": []
    },
    {
      "cell_type": "code",
      "metadata": {
        "colab_type": "code",
        "id": "NWDWyoVsjClE",
        "colab": {}
      },
      "source": [
        "validation_dataset = (\n",
        "    data_container.validation.dataset.batch(BATCH_SIZE)\n",
        "    .map(preprocess)\n",
        "    .map(encode_words)\n",
        ")"
      ],
      "execution_count": 0,
      "outputs": []
    },
    {
      "cell_type": "code",
      "metadata": {
        "colab_type": "code",
        "id": "lngIsdovjClF",
        "colab": {}
      },
      "source": [
        "test_dataset = (\n",
        "    data_container.test.dataset.batch(BATCH_SIZE)\n",
        "    .map(preprocess)\n",
        "    .map(encode_words)\n",
        ")"
      ],
      "execution_count": 0,
      "outputs": []
    },
    {
      "cell_type": "code",
      "metadata": {
        "colab_type": "code",
        "id": "5ac02GzljClI",
        "colab": {}
      },
      "source": [
        "train_dataset_steps = len(data_container.train) // BATCH_SIZE"
      ],
      "execution_count": 0,
      "outputs": []
    },
    {
      "cell_type": "code",
      "metadata": {
        "colab_type": "code",
        "id": "fQoDRhQCjClJ",
        "colab": {}
      },
      "source": [
        "validation_dataset_steps = len(data_container.validation) // BATCH_SIZE"
      ],
      "execution_count": 0,
      "outputs": []
    },
    {
      "cell_type": "code",
      "metadata": {
        "colab_type": "code",
        "id": "A0HCDfj5jClM",
        "colab": {}
      },
      "source": [
        "test_dataset_steps = len(data_container.test) // BATCH_SIZE"
      ],
      "execution_count": 0,
      "outputs": []
    },
    {
      "cell_type": "code",
      "metadata": {
        "colab_type": "code",
        "id": "L8if4C-XinvY",
        "colab": {}
      },
      "source": [
        "model = make_lstm_cnn_model(\n",
        "    n_categories=n_categories,\n",
        "    embedding_size=256,\n",
        "    lstm_size=256,\n",
        "    conv_size=256,\n",
        "    kernel_size=3,\n",
        "    dropouts=[0.1, 0.5],\n",
        ")"
      ],
      "execution_count": 0,
      "outputs": []
    },
    {
      "cell_type": "code",
      "metadata": {
        "colab_type": "code",
        "id": "K5-MX662inve",
        "colab": {}
      },
      "source": [
        "model.compile(\n",
        "    loss=keras.losses.sparse_categorical_crossentropy,\n",
        "    optimizer=keras.optimizers.Adam(lr=1e-4),\n",
        "    metrics=[\n",
        "        keras.metrics.sparse_categorical_accuracy,\n",
        "        sparse_top_2_categorical_accuracy,\n",
        "    ],\n",
        ")"
      ],
      "execution_count": 0,
      "outputs": []
    },
    {
      "cell_type": "code",
      "metadata": {
        "colab_type": "code",
        "outputId": "2260fe7e-1641-47d9-ba86-b6526ffe4b42",
        "id": "a0HRRz0vinvg",
        "colab": {
          "base_uri": "https://localhost:8080/",
          "height": 232
        }
      },
      "source": [
        "history = model.fit(\n",
        "    train_dataset,\n",
        "    steps_per_epoch=train_dataset_steps,\n",
        "    validation_data=validation_dataset,\n",
        "    validation_steps=validation_dataset_steps,\n",
        "    epochs=15,\n",
        "    callbacks=[\n",
        "        keras.callbacks.ModelCheckpoint(str(TEMP_DIR/'model_cl_lstm_cnn_256_dr01_5.h5'), save_best_only=True),\n",
        "        keras.callbacks.ReduceLROnPlateau(patience=2, factor=0.3),\n",
        "        keras.callbacks.EarlyStopping(patience=4, restore_best_weights=True),\n",
        "    ],\n",
        "    class_weight=class_weights,\n",
        ")"
      ],
      "execution_count": 0,
      "outputs": [
        {
          "output_type": "stream",
          "text": [
            "Train for 1457 steps, validate for 70 steps\n",
            "Epoch 1/15\n",
            "1457/1457 [==============================] - 289s 198ms/step - loss: 0.6799 - sparse_categorical_accuracy: 0.8988 - sparse_top_2_categorical_accuracy: 0.9356 - val_loss: 2.0982 - val_sparse_categorical_accuracy: 0.5281 - val_sparse_top_2_categorical_accuracy: 0.7661\n",
            "Epoch 2/15\n",
            "1457/1457 [==============================] - 268s 184ms/step - loss: 0.3862 - sparse_categorical_accuracy: 0.8985 - sparse_top_2_categorical_accuracy: 0.9605 - val_loss: 2.5059 - val_sparse_categorical_accuracy: 0.5281 - val_sparse_top_2_categorical_accuracy: 0.7661\n",
            "Epoch 3/15\n",
            "1457/1457 [==============================] - 269s 184ms/step - loss: 0.2827 - sparse_categorical_accuracy: 0.9312 - sparse_top_2_categorical_accuracy: 0.9889 - val_loss: 2.9872 - val_sparse_categorical_accuracy: 0.5281 - val_sparse_top_2_categorical_accuracy: 0.5799\n",
            "Epoch 4/15\n",
            "1457/1457 [==============================] - 269s 185ms/step - loss: 0.4008 - sparse_categorical_accuracy: 0.9038 - sparse_top_2_categorical_accuracy: 0.9852 - val_loss: 2.3020 - val_sparse_categorical_accuracy: 0.5281 - val_sparse_top_2_categorical_accuracy: 0.5679\n",
            "Epoch 5/15\n",
            "1457/1457 [==============================] - 269s 184ms/step - loss: 0.3258 - sparse_categorical_accuracy: 0.9224 - sparse_top_2_categorical_accuracy: 0.9852 - val_loss: 2.4986 - val_sparse_categorical_accuracy: 0.5281 - val_sparse_top_2_categorical_accuracy: 0.5674\n"
          ],
          "name": "stdout"
        }
      ]
    },
    {
      "cell_type": "code",
      "metadata": {
        "colab_type": "code",
        "outputId": "05e1bf11-eb08-489e-d02c-e7ad64d0480e",
        "id": "kMN_ONnUinvj",
        "colab": {
          "base_uri": "https://localhost:8080/",
          "height": 52
        }
      },
      "source": [
        "model.evaluate(validation_dataset, steps=validation_dataset_steps)"
      ],
      "execution_count": 0,
      "outputs": [
        {
          "output_type": "stream",
          "text": [
            "70/70 [==============================] - 4s 59ms/step - loss: 2.0982 - sparse_categorical_accuracy: 0.5281 - sparse_top_2_categorical_accuracy: 0.7661\n"
          ],
          "name": "stdout"
        },
        {
          "output_type": "execute_result",
          "data": {
            "text/plain": [
              "[2.098231497832707, 0.528125, 0.76607144]"
            ]
          },
          "metadata": {
            "tags": []
          },
          "execution_count": 80
        }
      ]
    },
    {
      "cell_type": "code",
      "metadata": {
        "colab_type": "code",
        "outputId": "12f82480-643f-4a00-88d1-b62ae4a0b176",
        "id": "xfsvoUVFinvo",
        "colab": {
          "base_uri": "https://localhost:8080/",
          "height": 285
        }
      },
      "source": [
        "print(\n",
        "    classification_report(\n",
        "        data_container.validation.y, model.predict(validation_dataset).argmax(axis=1)\n",
        "    )\n",
        ")"
      ],
      "execution_count": 0,
      "outputs": [
        {
          "output_type": "stream",
          "text": [
            "              precision    recall  f1-score   support\n",
            "\n",
            "           0       0.00      0.00      0.00        89\n",
            "           1       0.00      0.00      0.00       159\n",
            "           2       0.00      0.00      0.00       280\n",
            "           3       0.00      0.00      0.00       538\n",
            "           4       0.53      1.00      0.69      1199\n",
            "\n",
            "    accuracy                           0.53      2265\n",
            "   macro avg       0.11      0.20      0.14      2265\n",
            "weighted avg       0.28      0.53      0.37      2265\n",
            "\n"
          ],
          "name": "stdout"
        },
        {
          "output_type": "stream",
          "text": [
            "/usr/local/lib/python3.6/dist-packages/sklearn/metrics/classification.py:1437: UndefinedMetricWarning: Precision and F-score are ill-defined and being set to 0.0 in labels with no predicted samples.\n",
            "  'precision', 'predicted', average, warn_for)\n"
          ],
          "name": "stderr"
        }
      ]
    },
    {
      "cell_type": "markdown",
      "metadata": {
        "id": "23oYCpIWS0tU",
        "colab_type": "text"
      },
      "source": [
        "### Hybrid - Emb256 2xBidLSTM256 2xConv1D256 Dropout 0.1 0.5 - oversmpl, init class weights"
      ]
    },
    {
      "cell_type": "markdown",
      "metadata": {
        "colab_type": "text",
        "id": "pbZFmMZ-TAPe"
      },
      "source": [
        "Using class_weights of initial train dataset(before oversampling).\n",
        "\n",
        "    epochs=[25]\n",
        "    lrs=[1e-4]\n",
        "    dropouts=[0.1, 0.5]"
      ]
    },
    {
      "cell_type": "code",
      "metadata": {
        "colab_type": "code",
        "id": "3hoiZXtsS4Y-",
        "colab": {}
      },
      "source": [
        "data_container = DataContainer(\n",
        "    train_data_bundle, validation_data_bundle, test_data_bundle\n",
        ")"
      ],
      "execution_count": 0,
      "outputs": []
    },
    {
      "cell_type": "code",
      "metadata": {
        "colab_type": "code",
        "id": "fz99B6yMS4ZE",
        "colab": {}
      },
      "source": [
        "class_weights = dict(\n",
        "    enumerate(\n",
        "        sk.utils.class_weight.compute_class_weight(\n",
        "            \"balanced\", np.unique(data_container.train.y), data_container.train.y\n",
        "        )\n",
        "    )\n",
        ")"
      ],
      "execution_count": 0,
      "outputs": []
    },
    {
      "cell_type": "code",
      "metadata": {
        "colab_type": "code",
        "outputId": "c148d407-8d4c-49bc-df11-588f6b06fb1a",
        "id": "nw_WwNAFS4ZH",
        "colab": {
          "base_uri": "https://localhost:8080/",
          "height": 106
        }
      },
      "source": [
        "class_weights"
      ],
      "execution_count": 0,
      "outputs": [
        {
          "output_type": "execute_result",
          "data": {
            "text/plain": [
              "{0: 5.547626339969372,\n",
              " 1: 2.9190975020145045,\n",
              " 2: 1.5902546093064092,\n",
              " 3: 0.9382543382543382,\n",
              " 4: 0.3593849206349206}"
            ]
          },
          "metadata": {
            "tags": []
          },
          "execution_count": 24
        }
      ]
    },
    {
      "cell_type": "code",
      "metadata": {
        "colab_type": "code",
        "id": "E2Y7a6U6S4ZK",
        "colab": {}
      },
      "source": [
        "data_container.train = DataBundle.from_unbalanced(data_container.train)"
      ],
      "execution_count": 0,
      "outputs": []
    },
    {
      "cell_type": "code",
      "metadata": {
        "colab_type": "code",
        "outputId": "28c25d6e-aa56-4390-d94c-b24b7e48551c",
        "id": "qR5lhZphS4ZO",
        "colab": {
          "base_uri": "https://localhost:8080/",
          "height": 35
        }
      },
      "source": [
        "data_container.train.value_counts()"
      ],
      "execution_count": 0,
      "outputs": [
        {
          "output_type": "execute_result",
          "data": {
            "text/plain": [
              "{0: 9795, 1: 9928, 2: 9112, 3: 7722, 4: 10080}"
            ]
          },
          "metadata": {
            "tags": []
          },
          "execution_count": 26
        }
      ]
    },
    {
      "cell_type": "code",
      "metadata": {
        "colab_type": "code",
        "outputId": "d404e509-aefa-4b26-e53c-e92c1e7d5a23",
        "id": "av-3gJ7_S4ZQ",
        "colab": {
          "base_uri": "https://localhost:8080/",
          "height": 35
        }
      },
      "source": [
        "len(data_container.train), len(data_container.validation), len(data_container.test)"
      ],
      "execution_count": 0,
      "outputs": [
        {
          "output_type": "execute_result",
          "data": {
            "text/plain": [
              "(46637, 2265, 2263)"
            ]
          },
          "metadata": {
            "tags": []
          },
          "execution_count": 27
        }
      ]
    },
    {
      "cell_type": "code",
      "metadata": {
        "colab_type": "code",
        "id": "vYMPQT9XS4ZV",
        "colab": {}
      },
      "source": [
        "data_container.train.dataset = make_dataset(data_container.train)\n",
        "data_container.validation.dataset = make_dataset(data_container.validation)\n",
        "data_container.test.dataset = make_dataset(data_container.test)"
      ],
      "execution_count": 0,
      "outputs": []
    },
    {
      "cell_type": "code",
      "metadata": {
        "colab_type": "code",
        "id": "cRXvSJW8S4Zm",
        "colab": {}
      },
      "source": [
        "vocabulary = make_vocabulary(data_container.train.dataset)"
      ],
      "execution_count": 0,
      "outputs": []
    },
    {
      "cell_type": "code",
      "metadata": {
        "colab_type": "code",
        "outputId": "2d1db286-c6e3-4cdc-f4bd-0876cce5ad1e",
        "id": "rSv0aYnnS4Zt",
        "colab": {
          "base_uri": "https://localhost:8080/",
          "height": 35
        }
      },
      "source": [
        "len(vocabulary)"
      ],
      "execution_count": 0,
      "outputs": [
        {
          "output_type": "execute_result",
          "data": {
            "text/plain": [
              "13391"
            ]
          },
          "metadata": {
            "tags": []
          },
          "execution_count": 38
        }
      ]
    },
    {
      "cell_type": "code",
      "metadata": {
        "colab_type": "code",
        "id": "NLpaiD1cS4Zw",
        "colab": {}
      },
      "source": [
        "VOCABULARY_SIZE = 10000"
      ],
      "execution_count": 0,
      "outputs": []
    },
    {
      "cell_type": "code",
      "metadata": {
        "colab_type": "code",
        "id": "hDNISrQpS4Z3",
        "colab": {}
      },
      "source": [
        "truncated_vocabulary = [\n",
        "    word for word, count in vocabulary.most_common()[:VOCABULARY_SIZE]\n",
        "]"
      ],
      "execution_count": 0,
      "outputs": []
    },
    {
      "cell_type": "code",
      "metadata": {
        "colab_type": "code",
        "outputId": "76cd0829-d485-4f83-cbc1-7d39cf0b2de1",
        "id": "wFaJB60vS4Z7",
        "colab": {
          "base_uri": "https://localhost:8080/",
          "height": 35
        }
      },
      "source": [
        "len(truncated_vocabulary)"
      ],
      "execution_count": 0,
      "outputs": [
        {
          "output_type": "execute_result",
          "data": {
            "text/plain": [
              "10000"
            ]
          },
          "metadata": {
            "tags": []
          },
          "execution_count": 41
        }
      ]
    },
    {
      "cell_type": "code",
      "metadata": {
        "colab_type": "code",
        "id": "mXehQ5h4S4Z9",
        "colab": {}
      },
      "source": [
        "word_to_id = {word: index for index, word in enumerate(truncated_vocabulary)}\n"
      ],
      "execution_count": 0,
      "outputs": []
    },
    {
      "cell_type": "code",
      "metadata": {
        "colab_type": "code",
        "id": "vCpO6oIPS4aH",
        "colab": {}
      },
      "source": [
        "words = tf.constant(truncated_vocabulary)"
      ],
      "execution_count": 0,
      "outputs": []
    },
    {
      "cell_type": "code",
      "metadata": {
        "colab_type": "code",
        "id": "Xc4jNqD7S4aJ",
        "colab": {}
      },
      "source": [
        "word_ids = tf.range(len(truncated_vocabulary), dtype=tf.int64)"
      ],
      "execution_count": 0,
      "outputs": []
    },
    {
      "cell_type": "code",
      "metadata": {
        "colab_type": "code",
        "id": "4l3O-H45S4aL",
        "colab": {}
      },
      "source": [
        "vocab_init = tf.lookup.KeyValueTensorInitializer(words, word_ids)"
      ],
      "execution_count": 0,
      "outputs": []
    },
    {
      "cell_type": "code",
      "metadata": {
        "colab_type": "code",
        "id": "gOze7bj_S4aN",
        "colab": {}
      },
      "source": [
        "n_oov_buckets = 1000"
      ],
      "execution_count": 0,
      "outputs": []
    },
    {
      "cell_type": "code",
      "metadata": {
        "colab_type": "code",
        "id": "mPeZuNUJS4aP",
        "colab": {}
      },
      "source": [
        "table = tf.lookup.StaticVocabularyTable(vocab_init, n_oov_buckets)"
      ],
      "execution_count": 0,
      "outputs": []
    },
    {
      "cell_type": "code",
      "metadata": {
        "colab_type": "code",
        "id": "K6rphrM4S4aZ",
        "colab": {}
      },
      "source": [
        "train_dataset = (\n",
        "    data_container.train.dataset.repeat()\n",
        "    .batch(BATCH_SIZE)\n",
        "    .map(preprocess)\n",
        "    .map(encode_words)\n",
        "    .prefetch(AUTOTUNE)\n",
        ")"
      ],
      "execution_count": 0,
      "outputs": []
    },
    {
      "cell_type": "code",
      "metadata": {
        "colab_type": "code",
        "id": "AgzTZRtaS4ac",
        "colab": {}
      },
      "source": [
        "validation_dataset = (\n",
        "    data_container.validation.dataset.batch(BATCH_SIZE)\n",
        "    .map(preprocess)\n",
        "    .map(encode_words)\n",
        ")"
      ],
      "execution_count": 0,
      "outputs": []
    },
    {
      "cell_type": "code",
      "metadata": {
        "colab_type": "code",
        "id": "ifos724FS4ad",
        "colab": {}
      },
      "source": [
        "test_dataset = (\n",
        "    data_container.test.dataset.batch(BATCH_SIZE)\n",
        "    .map(preprocess)\n",
        "    .map(encode_words)\n",
        ")"
      ],
      "execution_count": 0,
      "outputs": []
    },
    {
      "cell_type": "code",
      "metadata": {
        "colab_type": "code",
        "outputId": "bf43aef0-548b-41ac-967c-67e943342954",
        "id": "jwJaVwkajClG",
        "colab": {
          "base_uri": "https://localhost:8080/",
          "height": 230
        }
      },
      "source": [
        "for x, y in train_dataset.take(1):\n",
        "    print(x.shape)\n",
        "    print(y.shape)\n",
        "    print(x[0])\n",
        "    print(y[0])"
      ],
      "execution_count": 0,
      "outputs": [
        {
          "output_type": "stream",
          "text": [
            "(32, 102)\n",
            "(32,)\n",
            "tf.Tensor(\n",
            "[2051  600    9   43  119  787  109    3  191  119  787  974  787   23\n",
            "  424   15    2  106   76   57  207    1  840  697  943   11 4232    3\n",
            "   77   58  424  178  101   40  197   60 4233  414   19  311  424 2051\n",
            "   16  126   38   63   71    2   35 3621    3   39   76   63    1  192\n",
            " 1488    7   97    2   41    5  415  733  114    8   59    6   15  147\n",
            "    3  792   20    4  799  112  999   77    7    5  415  733   15   14\n",
            "   27    8   33  133   29    5 1858 2300   47    4  230   15  424    0\n",
            "    0    0    0    0], shape=(102,), dtype=int64)\n",
            "tf.Tensor(0, shape=(), dtype=int64)\n"
          ],
          "name": "stdout"
        }
      ]
    },
    {
      "cell_type": "code",
      "metadata": {
        "colab_type": "code",
        "id": "TSe9TDpDS4au",
        "colab": {}
      },
      "source": [
        "model = make_lstm_cnn_model(\n",
        "    n_categories=n_categories,\n",
        "    embedding_size=256,\n",
        "    lstm_size=256,\n",
        "    conv_size=256,\n",
        "    kernel_size=3,\n",
        "    dropouts=[0.1, 0.5],\n",
        ")"
      ],
      "execution_count": 0,
      "outputs": []
    },
    {
      "cell_type": "code",
      "metadata": {
        "colab_type": "code",
        "id": "tS2_Ip7iS4av",
        "colab": {}
      },
      "source": [
        "model.compile(\n",
        "    loss=keras.losses.sparse_categorical_crossentropy,\n",
        "    optimizer=keras.optimizers.Adam(lr=1e-4),\n",
        "    metrics=[\n",
        "        keras.metrics.sparse_categorical_accuracy,\n",
        "        sparse_top_2_categorical_accuracy,\n",
        "    ],\n",
        ")"
      ],
      "execution_count": 0,
      "outputs": []
    },
    {
      "cell_type": "code",
      "metadata": {
        "colab_type": "code",
        "outputId": "71c38aeb-a59e-45a1-8fe8-614c34d89717",
        "id": "hHW39KccS4ax",
        "colab": {
          "base_uri": "https://localhost:8080/",
          "height": 944
        }
      },
      "source": [
        "history = model.fit(\n",
        "    train_dataset,\n",
        "    steps_per_epoch=train_dataset_steps,\n",
        "    validation_data=validation_dataset,\n",
        "    validation_steps=validation_dataset_steps,\n",
        "    epochs=25,\n",
        "    callbacks=[\n",
        "        keras.callbacks.ModelCheckpoint(str(TEMP_DIR/'model_cl_lstm_cnn_256_dr01_5.h5'), save_best_only=True),\n",
        "        keras.callbacks.ReduceLROnPlateau(patience=2, factor=0.3),\n",
        "        keras.callbacks.EarlyStopping(patience=4, restore_best_weights=True),\n",
        "    ],\n",
        "    class_weight=class_weights,\n",
        ")"
      ],
      "execution_count": 0,
      "outputs": [
        {
          "output_type": "stream",
          "text": [
            "Train for 1457 steps, validate for 70 steps\n",
            "Epoch 1/25\n",
            "1457/1457 [==============================] - 306s 210ms/step - loss: 0.6718 - sparse_categorical_accuracy: 0.9074 - sparse_top_2_categorical_accuracy: 0.9391 - val_loss: 2.3351 - val_sparse_categorical_accuracy: 0.5281 - val_sparse_top_2_categorical_accuracy: 0.7661\n",
            "Epoch 2/25\n",
            "1457/1457 [==============================] - 277s 190ms/step - loss: 0.3746 - sparse_categorical_accuracy: 0.9026 - sparse_top_2_categorical_accuracy: 0.9634 - val_loss: 2.6472 - val_sparse_categorical_accuracy: 0.5281 - val_sparse_top_2_categorical_accuracy: 0.5679\n",
            "Epoch 3/25\n",
            "1457/1457 [==============================] - 278s 191ms/step - loss: 0.2646 - sparse_categorical_accuracy: 0.9355 - sparse_top_2_categorical_accuracy: 0.9937 - val_loss: 2.8950 - val_sparse_categorical_accuracy: 0.5281 - val_sparse_top_2_categorical_accuracy: 0.5679\n",
            "Epoch 4/25\n",
            "1457/1457 [==============================] - 279s 191ms/step - loss: 0.3903 - sparse_categorical_accuracy: 0.8978 - sparse_top_2_categorical_accuracy: 0.9899 - val_loss: 2.2745 - val_sparse_categorical_accuracy: 0.5281 - val_sparse_top_2_categorical_accuracy: 0.5696\n",
            "Epoch 5/25\n",
            "1457/1457 [==============================] - 275s 189ms/step - loss: 0.3212 - sparse_categorical_accuracy: 0.9197 - sparse_top_2_categorical_accuracy: 0.9902 - val_loss: 2.3912 - val_sparse_categorical_accuracy: 0.5281 - val_sparse_top_2_categorical_accuracy: 0.5679\n",
            "Epoch 6/25\n",
            "1457/1457 [==============================] - 275s 189ms/step - loss: 0.2873 - sparse_categorical_accuracy: 0.9307 - sparse_top_2_categorical_accuracy: 0.9922 - val_loss: 2.5803 - val_sparse_categorical_accuracy: 0.5281 - val_sparse_top_2_categorical_accuracy: 0.5692\n",
            "Epoch 7/25\n",
            "1457/1457 [==============================] - 277s 190ms/step - loss: 0.5271 - sparse_categorical_accuracy: 0.8481 - sparse_top_2_categorical_accuracy: 0.9752 - val_loss: 1.8099 - val_sparse_categorical_accuracy: 0.5281 - val_sparse_top_2_categorical_accuracy: 0.5906\n",
            "Epoch 8/25\n",
            "1457/1457 [==============================] - 276s 190ms/step - loss: 0.4826 - sparse_categorical_accuracy: 0.8594 - sparse_top_2_categorical_accuracy: 0.9724 - val_loss: 1.8877 - val_sparse_categorical_accuracy: 0.5281 - val_sparse_top_2_categorical_accuracy: 0.6058\n",
            "Epoch 9/25\n",
            "1457/1457 [==============================] - 277s 190ms/step - loss: 0.4423 - sparse_categorical_accuracy: 0.8773 - sparse_top_2_categorical_accuracy: 0.9765 - val_loss: 1.9362 - val_sparse_categorical_accuracy: 0.5281 - val_sparse_top_2_categorical_accuracy: 0.5920\n",
            "Epoch 10/25\n",
            "1457/1457 [==============================] - 277s 190ms/step - loss: 0.9555 - sparse_categorical_accuracy: 0.6426 - sparse_top_2_categorical_accuracy: 0.9057 - val_loss: 1.3715 - val_sparse_categorical_accuracy: 0.5317 - val_sparse_top_2_categorical_accuracy: 0.6710\n",
            "Epoch 11/25\n",
            "1457/1457 [==============================] - 276s 189ms/step - loss: 0.8601 - sparse_categorical_accuracy: 0.6695 - sparse_top_2_categorical_accuracy: 0.9070 - val_loss: 1.3574 - val_sparse_categorical_accuracy: 0.5330 - val_sparse_top_2_categorical_accuracy: 0.6888\n",
            "Epoch 12/25\n",
            "1457/1457 [==============================] - 274s 188ms/step - loss: 0.7985 - sparse_categorical_accuracy: 0.6990 - sparse_top_2_categorical_accuracy: 0.9162 - val_loss: 1.3918 - val_sparse_categorical_accuracy: 0.5299 - val_sparse_top_2_categorical_accuracy: 0.6884\n",
            "Epoch 13/25\n",
            "1457/1457 [==============================] - 274s 188ms/step - loss: 0.7683 - sparse_categorical_accuracy: 0.7170 - sparse_top_2_categorical_accuracy: 0.9195 - val_loss: 1.4159 - val_sparse_categorical_accuracy: 0.5317 - val_sparse_top_2_categorical_accuracy: 0.6871\n",
            "Epoch 14/25\n",
            "1457/1457 [==============================] - 275s 189ms/step - loss: 1.5752 - sparse_categorical_accuracy: 0.2951 - sparse_top_2_categorical_accuracy: 0.6171 - val_loss: 1.2496 - val_sparse_categorical_accuracy: 0.5420 - val_sparse_top_2_categorical_accuracy: 0.7308\n",
            "Epoch 15/25\n",
            "1457/1457 [==============================] - 275s 189ms/step - loss: 1.4112 - sparse_categorical_accuracy: 0.3576 - sparse_top_2_categorical_accuracy: 0.6497 - val_loss: 1.2186 - val_sparse_categorical_accuracy: 0.5518 - val_sparse_top_2_categorical_accuracy: 0.7446\n",
            "Epoch 16/25\n",
            "1457/1457 [==============================] - 279s 192ms/step - loss: 1.3544 - sparse_categorical_accuracy: 0.3816 - sparse_top_2_categorical_accuracy: 0.6754 - val_loss: 1.1948 - val_sparse_categorical_accuracy: 0.5562 - val_sparse_top_2_categorical_accuracy: 0.7589\n",
            "Epoch 17/25\n",
            "1457/1457 [==============================] - 278s 191ms/step - loss: 1.3209 - sparse_categorical_accuracy: 0.3998 - sparse_top_2_categorical_accuracy: 0.6925 - val_loss: 1.1785 - val_sparse_categorical_accuracy: 0.5580 - val_sparse_top_2_categorical_accuracy: 0.7741\n",
            "Epoch 18/25\n",
            "1457/1457 [==============================] - 279s 192ms/step - loss: 1.2973 - sparse_categorical_accuracy: 0.4142 - sparse_top_2_categorical_accuracy: 0.7060 - val_loss: 1.1673 - val_sparse_categorical_accuracy: 0.5598 - val_sparse_top_2_categorical_accuracy: 0.7812\n",
            "Epoch 19/25\n",
            "1457/1457 [==============================] - 278s 191ms/step - loss: 1.2792 - sparse_categorical_accuracy: 0.4198 - sparse_top_2_categorical_accuracy: 0.7136 - val_loss: 1.1597 - val_sparse_categorical_accuracy: 0.5643 - val_sparse_top_2_categorical_accuracy: 0.7884\n",
            "Epoch 20/25\n",
            "1457/1457 [==============================] - 278s 191ms/step - loss: 1.2691 - sparse_categorical_accuracy: 0.4276 - sparse_top_2_categorical_accuracy: 0.7227 - val_loss: 1.1545 - val_sparse_categorical_accuracy: 0.5656 - val_sparse_top_2_categorical_accuracy: 0.7929\n",
            "Epoch 21/25\n",
            "1457/1457 [==============================] - 278s 191ms/step - loss: 1.2595 - sparse_categorical_accuracy: 0.4339 - sparse_top_2_categorical_accuracy: 0.7271 - val_loss: 1.1509 - val_sparse_categorical_accuracy: 0.5665 - val_sparse_top_2_categorical_accuracy: 0.7969\n",
            "Epoch 22/25\n",
            "1457/1457 [==============================] - 277s 190ms/step - loss: 1.2559 - sparse_categorical_accuracy: 0.4376 - sparse_top_2_categorical_accuracy: 0.7334 - val_loss: 1.1485 - val_sparse_categorical_accuracy: 0.5656 - val_sparse_top_2_categorical_accuracy: 0.7987\n",
            "Epoch 23/25\n",
            "1457/1457 [==============================] - 278s 191ms/step - loss: 1.2496 - sparse_categorical_accuracy: 0.4417 - sparse_top_2_categorical_accuracy: 0.7341 - val_loss: 1.1455 - val_sparse_categorical_accuracy: 0.5643 - val_sparse_top_2_categorical_accuracy: 0.7982\n",
            "Epoch 24/25\n",
            "1457/1457 [==============================] - 278s 191ms/step - loss: 1.2424 - sparse_categorical_accuracy: 0.4467 - sparse_top_2_categorical_accuracy: 0.7399 - val_loss: 1.1430 - val_sparse_categorical_accuracy: 0.5638 - val_sparse_top_2_categorical_accuracy: 0.8000\n",
            "Epoch 25/25\n",
            "1457/1457 [==============================] - 278s 191ms/step - loss: 1.2425 - sparse_categorical_accuracy: 0.4479 - sparse_top_2_categorical_accuracy: 0.7408 - val_loss: 1.1414 - val_sparse_categorical_accuracy: 0.5634 - val_sparse_top_2_categorical_accuracy: 0.8004\n"
          ],
          "name": "stdout"
        }
      ]
    },
    {
      "cell_type": "code",
      "metadata": {
        "colab_type": "code",
        "outputId": "26ff2cb5-ddb1-4fb7-8863-4c007f09f808",
        "id": "tqIqm4VPS4a0",
        "colab": {
          "base_uri": "https://localhost:8080/",
          "height": 72
        }
      },
      "source": [
        "model.evaluate(validation_dataset, steps=validation_dataset_steps)"
      ],
      "execution_count": 0,
      "outputs": [
        {
          "output_type": "stream",
          "text": [
            "70/70 [==============================] - 4s 62ms/step - loss: 1.1414 - sparse_categorical_accuracy: 0.5634 - sparse_top_2_categorical_accuracy: 0.8004\n"
          ],
          "name": "stdout"
        },
        {
          "output_type": "execute_result",
          "data": {
            "text/plain": [
              "[1.1413757477487836, 0.5633929, 0.80044645]"
            ]
          },
          "metadata": {
            "tags": []
          },
          "execution_count": 64
        }
      ]
    },
    {
      "cell_type": "code",
      "metadata": {
        "colab_type": "code",
        "outputId": "7fd0583b-e1b1-4b31-8fd6-87700a1dcc51",
        "id": "k1LStWPAinvk",
        "colab": {
          "base_uri": "https://localhost:8080/",
          "height": 72
        }
      },
      "source": [
        "model.evaluate(test_dataset, steps=test_dataset_steps)"
      ],
      "execution_count": 0,
      "outputs": [
        {
          "output_type": "stream",
          "text": [
            "70/70 [==============================] - 4s 61ms/step - loss: 1.0951 - sparse_categorical_accuracy: 0.5893 - sparse_top_2_categorical_accuracy: 0.8192\n"
          ],
          "name": "stdout"
        },
        {
          "output_type": "execute_result",
          "data": {
            "text/plain": [
              "[1.0951216442244394, 0.58928573, 0.8191964]"
            ]
          },
          "metadata": {
            "tags": []
          },
          "execution_count": 65
        }
      ]
    },
    {
      "cell_type": "code",
      "metadata": {
        "colab_type": "code",
        "outputId": "fb94d8a9-ebd3-48cf-fb6e-94d8bd0f5777",
        "id": "dskVKrrYS4a6",
        "colab": {
          "base_uri": "https://localhost:8080/",
          "height": 286
        }
      },
      "source": [
        "print(\n",
        "    classification_report(\n",
        "        data_container.validation.y, model.predict(validation_dataset).argmax(axis=1)\n",
        "    )\n",
        ")"
      ],
      "execution_count": 0,
      "outputs": [
        {
          "output_type": "stream",
          "text": [
            "              precision    recall  f1-score   support\n",
            "\n",
            "           0       0.00      0.00      0.00        89\n",
            "           1       0.00      0.00      0.00       159\n",
            "           2       0.32      0.06      0.10       280\n",
            "           3       0.27      0.33      0.30       538\n",
            "           4       0.70      0.91      0.79      1199\n",
            "\n",
            "    accuracy                           0.57      2265\n",
            "   macro avg       0.26      0.26      0.24      2265\n",
            "weighted avg       0.47      0.57      0.50      2265\n",
            "\n"
          ],
          "name": "stdout"
        },
        {
          "output_type": "stream",
          "text": [
            "/usr/local/lib/python3.6/dist-packages/sklearn/metrics/classification.py:1437: UndefinedMetricWarning: Precision and F-score are ill-defined and being set to 0.0 in labels with no predicted samples.\n",
            "  'precision', 'predicted', average, warn_for)\n"
          ],
          "name": "stderr"
        }
      ]
    },
    {
      "cell_type": "markdown",
      "metadata": {
        "id": "gyEXWjY7Zk_t",
        "colab_type": "text"
      },
      "source": [
        "### Hybrid - Emb256 2xBidLSTM256 2xConv1D256 Dropout 0.1 0.5"
      ]
    },
    {
      "cell_type": "markdown",
      "metadata": {
        "colab_type": "text",
        "id": "WPF3Tj1mJ1_v"
      },
      "source": [
        "No oversampling of small classes.\n",
        "\n",
        "Using class_weights of initial train dataset.\n",
        "\n",
        "\n",
        "\n",
        "    epochs=[25]\n",
        "    lrs=[1e-4]\n",
        "    dropouts=[0.1, 0.5]"
      ]
    },
    {
      "cell_type": "code",
      "metadata": {
        "colab_type": "code",
        "id": "eZS4MPUkmVpO",
        "colab": {}
      },
      "source": [
        "data_container = DataContainer(\n",
        "    train_data_bundle, validation_data_bundle, test_data_bundle\n",
        ")"
      ],
      "execution_count": 0,
      "outputs": []
    },
    {
      "cell_type": "code",
      "metadata": {
        "colab_type": "code",
        "outputId": "c8cc0f0a-cba8-4619-9e8f-d807a6a2f17e",
        "id": "uCfl1KYbmVpo",
        "colab": {
          "base_uri": "https://localhost:8080/",
          "height": 34
        }
      },
      "source": [
        "data_container.train.value_counts()"
      ],
      "execution_count": 0,
      "outputs": [
        {
          "output_type": "execute_result",
          "data": {
            "text/plain": [
              "{0: 653, 1: 1241, 2: 2278, 3: 3861, 4: 10080}"
            ]
          },
          "metadata": {
            "tags": []
          },
          "execution_count": 149
        }
      ]
    },
    {
      "cell_type": "code",
      "metadata": {
        "colab_type": "code",
        "id": "Hjct4j5VmVpu",
        "colab": {}
      },
      "source": [
        "class_weights = dict(\n",
        "    enumerate(\n",
        "        sk.utils.class_weight.compute_class_weight(\n",
        "            \"balanced\", np.unique(data_container.train.y), data_container.train.y\n",
        "        )\n",
        "    )\n",
        ")"
      ],
      "execution_count": 0,
      "outputs": []
    },
    {
      "cell_type": "code",
      "metadata": {
        "colab_type": "code",
        "outputId": "b9169cf1-d7b2-4eea-ee9c-6328d34bec95",
        "id": "Y0KUGm60mVpx",
        "colab": {
          "base_uri": "https://localhost:8080/",
          "height": 105
        }
      },
      "source": [
        "class_weights"
      ],
      "execution_count": 0,
      "outputs": [
        {
          "output_type": "execute_result",
          "data": {
            "text/plain": [
              "{0: 5.547626339969372,\n",
              " 1: 2.9190975020145045,\n",
              " 2: 1.5902546093064092,\n",
              " 3: 0.9382543382543382,\n",
              " 4: 0.3593849206349206}"
            ]
          },
          "metadata": {
            "tags": []
          },
          "execution_count": 151
        }
      ]
    },
    {
      "cell_type": "code",
      "metadata": {
        "colab_type": "code",
        "outputId": "a4c71289-32d5-493d-ff01-99fea421760c",
        "id": "eaVGOthymVp0",
        "colab": {
          "base_uri": "https://localhost:8080/",
          "height": 34
        }
      },
      "source": [
        "len(data_container.train), len(data_container.validation), len(data_container.test)"
      ],
      "execution_count": 0,
      "outputs": [
        {
          "output_type": "execute_result",
          "data": {
            "text/plain": [
              "(18113, 2265, 2263)"
            ]
          },
          "metadata": {
            "tags": []
          },
          "execution_count": 152
        }
      ]
    },
    {
      "cell_type": "code",
      "metadata": {
        "colab_type": "code",
        "id": "Iyg1ZWkSmVp8",
        "colab": {}
      },
      "source": [
        "data_container.train.dataset = make_dataset(data_container.train)\n",
        "data_container.validation.dataset = make_dataset(data_container.validation)\n",
        "data_container.test.dataset = make_dataset(data_container.test)"
      ],
      "execution_count": 0,
      "outputs": []
    },
    {
      "cell_type": "code",
      "metadata": {
        "colab_type": "code",
        "outputId": "fa5cacc5-42e8-4056-8faa-833a280cc26d",
        "id": "e_zYc_98mVp-",
        "colab": {
          "base_uri": "https://localhost:8080/",
          "height": 34
        }
      },
      "source": [
        "data_container.train.x[0]"
      ],
      "execution_count": 0,
      "outputs": [
        {
          "output_type": "execute_result",
          "data": {
            "text/plain": [
              "'Absolutely wonderful - silky and sexy and comfortable'"
            ]
          },
          "metadata": {
            "tags": []
          },
          "execution_count": 155
        }
      ]
    },
    {
      "cell_type": "code",
      "metadata": {
        "colab_type": "code",
        "outputId": "1c7abd61-1f26-4220-9ce3-74cd3a3409b2",
        "id": "rr_VmmmpmVqA",
        "colab": {
          "base_uri": "https://localhost:8080/",
          "height": 34
        }
      },
      "source": [
        "data_container.train.y[0]"
      ],
      "execution_count": 0,
      "outputs": [
        {
          "output_type": "execute_result",
          "data": {
            "text/plain": [
              "3"
            ]
          },
          "metadata": {
            "tags": []
          },
          "execution_count": 156
        }
      ]
    },
    {
      "cell_type": "code",
      "metadata": {
        "colab_type": "code",
        "outputId": "5239c042-79d7-4e21-d3a8-ec643e4dfc82",
        "id": "CEbZUaPemVqH",
        "colab": {
          "base_uri": "https://localhost:8080/",
          "height": 318
        }
      },
      "source": [
        "for x, y in data_container.train.dataset.batch(BATCH_SIZE).map(preprocess).take(1):\n",
        "    print(x.shape)\n",
        "    print(y.shape)\n",
        "    print(x[4])\n",
        "    print(y[4])"
      ],
      "execution_count": 0,
      "outputs": [
        {
          "output_type": "stream",
          "text": [
            "(32, 105)\n",
            "(32,)\n",
            "tf.Tensor(\n",
            "[b'This' b'shirt' b'is' b'very' b'flattering' b'to' b'all' b'due' b'to'\n",
            " b'the' b'adjustable' b'front' b'tie' b'it' b'is' b'the' b'perfect'\n",
            " b'length' b'to' b'wear' b'with' b'leggings' b'and' b'it' b'is'\n",
            " b'sleeveless' b'so' b'it' b'pairs' b'well' b'with' b'any' b'cardigan'\n",
            " b'love' b'this' b'shirt' b'<pad>' b'<pad>' b'<pad>' b'<pad>' b'<pad>'\n",
            " b'<pad>' b'<pad>' b'<pad>' b'<pad>' b'<pad>' b'<pad>' b'<pad>' b'<pad>'\n",
            " b'<pad>' b'<pad>' b'<pad>' b'<pad>' b'<pad>' b'<pad>' b'<pad>' b'<pad>'\n",
            " b'<pad>' b'<pad>' b'<pad>' b'<pad>' b'<pad>' b'<pad>' b'<pad>' b'<pad>'\n",
            " b'<pad>' b'<pad>' b'<pad>' b'<pad>' b'<pad>' b'<pad>' b'<pad>' b'<pad>'\n",
            " b'<pad>' b'<pad>' b'<pad>' b'<pad>' b'<pad>' b'<pad>' b'<pad>' b'<pad>'\n",
            " b'<pad>' b'<pad>' b'<pad>' b'<pad>' b'<pad>' b'<pad>' b'<pad>' b'<pad>'\n",
            " b'<pad>' b'<pad>' b'<pad>' b'<pad>' b'<pad>' b'<pad>' b'<pad>' b'<pad>'\n",
            " b'<pad>' b'<pad>' b'<pad>' b'<pad>' b'<pad>' b'<pad>' b'<pad>' b'<pad>'], shape=(105,), dtype=string)\n",
            "tf.Tensor(4, shape=(), dtype=int64)\n"
          ],
          "name": "stdout"
        }
      ]
    },
    {
      "cell_type": "code",
      "metadata": {
        "colab_type": "code",
        "id": "qo8hNVxLmVqM",
        "colab": {}
      },
      "source": [
        "vocabulary = make_vocabulary(data_container.train.dataset)"
      ],
      "execution_count": 0,
      "outputs": []
    },
    {
      "cell_type": "code",
      "metadata": {
        "colab_type": "code",
        "outputId": "8f1af8b0-f7a2-4c2f-d65e-2ad1494aea5b",
        "id": "2facqpcVmVqZ",
        "colab": {
          "base_uri": "https://localhost:8080/",
          "height": 34
        }
      },
      "source": [
        "len(vocabulary)"
      ],
      "execution_count": 0,
      "outputs": [
        {
          "output_type": "execute_result",
          "data": {
            "text/plain": [
              "13391"
            ]
          },
          "metadata": {
            "tags": []
          },
          "execution_count": 163
        }
      ]
    },
    {
      "cell_type": "code",
      "metadata": {
        "colab_type": "code",
        "id": "49A1jSAWmVqc",
        "colab": {}
      },
      "source": [
        "VOCABULARY_SIZE = 10000"
      ],
      "execution_count": 0,
      "outputs": []
    },
    {
      "cell_type": "code",
      "metadata": {
        "colab_type": "code",
        "id": "ptUURAFMmVqh",
        "colab": {}
      },
      "source": [
        "truncated_vocabulary = [\n",
        "    word for word, count in vocabulary.most_common()[:VOCABULARY_SIZE]\n",
        "]"
      ],
      "execution_count": 0,
      "outputs": []
    },
    {
      "cell_type": "code",
      "metadata": {
        "colab_type": "code",
        "outputId": "1be54121-6a4f-42a2-b569-28dc12ecca72",
        "id": "Jy1CmIntmVqk",
        "colab": {
          "base_uri": "https://localhost:8080/",
          "height": 34
        }
      },
      "source": [
        "len(truncated_vocabulary)"
      ],
      "execution_count": 0,
      "outputs": [
        {
          "output_type": "execute_result",
          "data": {
            "text/plain": [
              "10000"
            ]
          },
          "metadata": {
            "tags": []
          },
          "execution_count": 166
        }
      ]
    },
    {
      "cell_type": "code",
      "metadata": {
        "colab_type": "code",
        "id": "EW5vPk9UmVqo",
        "colab": {}
      },
      "source": [
        "word_to_id = {word: index for index, word in enumerate(truncated_vocabulary)}"
      ],
      "execution_count": 0,
      "outputs": []
    },
    {
      "cell_type": "code",
      "metadata": {
        "colab_type": "code",
        "id": "2_nckO_HmVqv",
        "colab": {}
      },
      "source": [
        "words = tf.constant(truncated_vocabulary)"
      ],
      "execution_count": 0,
      "outputs": []
    },
    {
      "cell_type": "code",
      "metadata": {
        "colab_type": "code",
        "id": "LTRvjRmRmVqx",
        "colab": {}
      },
      "source": [
        "word_ids = tf.range(len(truncated_vocabulary), dtype=tf.int64)"
      ],
      "execution_count": 0,
      "outputs": []
    },
    {
      "cell_type": "code",
      "metadata": {
        "colab_type": "code",
        "id": "Xu6AzQW0mVq1",
        "colab": {}
      },
      "source": [
        "vocab_init = tf.lookup.KeyValueTensorInitializer(words, word_ids)"
      ],
      "execution_count": 0,
      "outputs": []
    },
    {
      "cell_type": "code",
      "metadata": {
        "colab_type": "code",
        "id": "VUwXHuG3mVq4",
        "colab": {}
      },
      "source": [
        "n_oov_buckets = 500"
      ],
      "execution_count": 0,
      "outputs": []
    },
    {
      "cell_type": "code",
      "metadata": {
        "colab_type": "code",
        "id": "qeBurPp6mVq6",
        "colab": {}
      },
      "source": [
        "table = tf.lookup.StaticVocabularyTable(vocab_init, n_oov_buckets)"
      ],
      "execution_count": 0,
      "outputs": []
    },
    {
      "cell_type": "code",
      "metadata": {
        "colab_type": "code",
        "id": "J7lDcHUJmVrG",
        "colab": {}
      },
      "source": [
        "train_dataset = (\n",
        "    data_container.train.dataset.repeat()\n",
        "    .batch(BATCH_SIZE)\n",
        "    .map(preprocess)\n",
        "    .map(encode_words)\n",
        "    .prefetch(AUTOTUNE)\n",
        ")"
      ],
      "execution_count": 0,
      "outputs": []
    },
    {
      "cell_type": "code",
      "metadata": {
        "colab_type": "code",
        "id": "CQWlfgCTmVrI",
        "colab": {}
      },
      "source": [
        "validation_dataset = (\n",
        "    data_container.validation.dataset.batch(BATCH_SIZE)\n",
        "    .map(preprocess)\n",
        "    .map(encode_words)\n",
        ")"
      ],
      "execution_count": 0,
      "outputs": []
    },
    {
      "cell_type": "code",
      "metadata": {
        "colab_type": "code",
        "id": "aKekFGlzmVrM",
        "colab": {}
      },
      "source": [
        "test_dataset = (\n",
        "    data_container.test.dataset.batch(BATCH_SIZE)\n",
        "    .map(preprocess)\n",
        "    .map(encode_words)\n",
        ")"
      ],
      "execution_count": 0,
      "outputs": []
    },
    {
      "cell_type": "code",
      "metadata": {
        "colab_type": "code",
        "outputId": "6c158336-52c7-4c08-80f7-6cb41962797b",
        "id": "EucLZx63mVrT",
        "colab": {
          "base_uri": "https://localhost:8080/",
          "height": 230
        }
      },
      "source": [
        "for x, y in train_dataset.take(1):\n",
        "    print(x.shape)\n",
        "    print(y.shape)\n",
        "    print(x[0])\n",
        "    print(y[0])"
      ],
      "execution_count": 0,
      "outputs": [
        {
          "output_type": "stream",
          "text": [
            "(32, 105)\n",
            "(32,)\n",
            "tf.Tensor(\n",
            "[1187  540  887    3  640    3   69    0    0    0    0    0    0    0\n",
            "    0    0    0    0    0    0    0    0    0    0    0    0    0    0\n",
            "    0    0    0    0    0    0    0    0    0    0    0    0    0    0\n",
            "    0    0    0    0    0    0    0    0    0    0    0    0    0    0\n",
            "    0    0    0    0    0    0    0    0    0    0    0    0    0    0\n",
            "    0    0    0    0    0    0    0    0    0    0    0    0    0    0\n",
            "    0    0    0    0    0    0    0    0    0    0    0    0    0    0\n",
            "    0    0    0    0    0    0    0], shape=(105,), dtype=int64)\n",
            "tf.Tensor(3, shape=(), dtype=int64)\n"
          ],
          "name": "stdout"
        }
      ]
    },
    {
      "cell_type": "code",
      "metadata": {
        "colab_type": "code",
        "id": "klzSzJ6fmVrb",
        "colab": {}
      },
      "source": [
        "train_dataset_steps = len(data_container.train) // BATCH_SIZE"
      ],
      "execution_count": 0,
      "outputs": []
    },
    {
      "cell_type": "code",
      "metadata": {
        "colab_type": "code",
        "id": "brMsLLUzmVrd",
        "colab": {}
      },
      "source": [
        "validation_dataset_steps = len(data_container.validation) // BATCH_SIZE"
      ],
      "execution_count": 0,
      "outputs": []
    },
    {
      "cell_type": "code",
      "metadata": {
        "colab_type": "code",
        "id": "57qspVYcmVri",
        "colab": {}
      },
      "source": [
        "test_dataset_steps = len(data_container.test) // BATCH_SIZE"
      ],
      "execution_count": 0,
      "outputs": []
    },
    {
      "cell_type": "code",
      "metadata": {
        "colab_type": "code",
        "id": "2Z26gQL3ZmHH",
        "colab": {}
      },
      "source": [
        "model = make_lstm_cnn_model(\n",
        "    n_categories=n_categories,\n",
        "    embedding_size=256,\n",
        "    lstm_size=256,\n",
        "    conv_size=256,\n",
        "    kernel_size=3,\n",
        "    dropouts=[0.1, 0.5],\n",
        ")"
      ],
      "execution_count": 0,
      "outputs": []
    },
    {
      "cell_type": "code",
      "metadata": {
        "colab_type": "code",
        "id": "ZAWrY67XZmHN",
        "colab": {}
      },
      "source": [
        "model.compile(\n",
        "    loss=keras.losses.sparse_categorical_crossentropy,\n",
        "    optimizer=keras.optimizers.Adam(lr=1e-4),\n",
        "    metrics=[\n",
        "        keras.metrics.sparse_categorical_accuracy,\n",
        "        sparse_top_2_categorical_accuracy,\n",
        "    ],\n",
        ")"
      ],
      "execution_count": 0,
      "outputs": []
    },
    {
      "cell_type": "code",
      "metadata": {
        "colab_type": "code",
        "outputId": "c0fd9dff-3c71-4384-f860-1630e74018cf",
        "id": "slpsDMnVZmHQ",
        "colab": {
          "base_uri": "https://localhost:8080/",
          "height": 374
        }
      },
      "source": [
        "history = model.fit(\n",
        "    train_dataset,\n",
        "    steps_per_epoch=train_dataset_steps,\n",
        "    validation_data=validation_dataset,\n",
        "    validation_steps=validation_dataset_steps,\n",
        "    epochs=25,\n",
        "    callbacks=[\n",
        "        keras.callbacks.ModelCheckpoint(str(TEMP_DIR/'model_cl_lstm_cnn_256_dr01_05.h5'), save_best_only=True),\n",
        "        keras.callbacks.ReduceLROnPlateau(patience=2, factor=0.3),\n",
        "        keras.callbacks.EarlyStopping(patience=4, restore_best_weights=True),\n",
        "    ],\n",
        "    class_weight=class_weights,\n",
        ")"
      ],
      "execution_count": 0,
      "outputs": [
        {
          "output_type": "stream",
          "text": [
            "Train for 566 steps, validate for 70 steps\n",
            "Epoch 1/25\n",
            "566/566 [==============================] - 131s 231ms/step - loss: 1.0525 - sparse_categorical_accuracy: 0.5896 - sparse_top_2_categorical_accuracy: 0.8102 - val_loss: 1.0834 - val_sparse_categorical_accuracy: 0.5996 - val_sparse_top_2_categorical_accuracy: 0.8397\n",
            "Epoch 2/25\n",
            "566/566 [==============================] - 108s 191ms/step - loss: 0.8684 - sparse_categorical_accuracy: 0.6416 - sparse_top_2_categorical_accuracy: 0.8628 - val_loss: 1.0119 - val_sparse_categorical_accuracy: 0.6116 - val_sparse_top_2_categorical_accuracy: 0.8438\n",
            "Epoch 3/25\n",
            "566/566 [==============================] - 108s 192ms/step - loss: 0.7766 - sparse_categorical_accuracy: 0.6711 - sparse_top_2_categorical_accuracy: 0.8920 - val_loss: 0.9569 - val_sparse_categorical_accuracy: 0.6192 - val_sparse_top_2_categorical_accuracy: 0.8451\n",
            "Epoch 4/25\n",
            "566/566 [==============================] - 108s 191ms/step - loss: 0.7076 - sparse_categorical_accuracy: 0.7054 - sparse_top_2_categorical_accuracy: 0.9124 - val_loss: 0.9325 - val_sparse_categorical_accuracy: 0.6107 - val_sparse_top_2_categorical_accuracy: 0.8513\n",
            "Epoch 5/25\n",
            "566/566 [==============================] - 108s 191ms/step - loss: 0.6486 - sparse_categorical_accuracy: 0.7311 - sparse_top_2_categorical_accuracy: 0.9267 - val_loss: 0.9265 - val_sparse_categorical_accuracy: 0.6076 - val_sparse_top_2_categorical_accuracy: 0.8518\n",
            "Epoch 6/25\n",
            "566/566 [==============================] - 107s 189ms/step - loss: 0.5954 - sparse_categorical_accuracy: 0.7580 - sparse_top_2_categorical_accuracy: 0.9409 - val_loss: 0.9423 - val_sparse_categorical_accuracy: 0.6036 - val_sparse_top_2_categorical_accuracy: 0.8469\n",
            "Epoch 7/25\n",
            "566/566 [==============================] - 107s 188ms/step - loss: 0.5457 - sparse_categorical_accuracy: 0.7782 - sparse_top_2_categorical_accuracy: 0.9484 - val_loss: 0.9585 - val_sparse_categorical_accuracy: 0.5996 - val_sparse_top_2_categorical_accuracy: 0.8335\n",
            "Epoch 8/25\n",
            "566/566 [==============================] - 106s 187ms/step - loss: 0.4769 - sparse_categorical_accuracy: 0.8081 - sparse_top_2_categorical_accuracy: 0.9624 - val_loss: 0.9858 - val_sparse_categorical_accuracy: 0.5978 - val_sparse_top_2_categorical_accuracy: 0.8446\n",
            "Epoch 9/25\n",
            "566/566 [==============================] - 106s 188ms/step - loss: 0.4384 - sparse_categorical_accuracy: 0.8267 - sparse_top_2_categorical_accuracy: 0.9656 - val_loss: 1.0313 - val_sparse_categorical_accuracy: 0.5960 - val_sparse_top_2_categorical_accuracy: 0.8411\n"
          ],
          "name": "stdout"
        }
      ]
    },
    {
      "cell_type": "code",
      "metadata": {
        "colab_type": "code",
        "outputId": "0a484f14-a9e4-419e-c338-8c059e8f8846",
        "id": "ydMr4AHFZmHU",
        "colab": {
          "base_uri": "https://localhost:8080/",
          "height": 52
        }
      },
      "source": [
        "model.evaluate(validation_dataset, steps=validation_dataset_steps)"
      ],
      "execution_count": 0,
      "outputs": [
        {
          "output_type": "stream",
          "text": [
            "70/70 [==============================] - 4s 59ms/step - loss: 0.9265 - sparse_categorical_accuracy: 0.6076 - sparse_top_2_categorical_accuracy: 0.8518\n"
          ],
          "name": "stdout"
        },
        {
          "output_type": "execute_result",
          "data": {
            "text/plain": [
              "[0.926451506784984, 0.6075893, 0.8517857]"
            ]
          },
          "metadata": {
            "tags": []
          },
          "execution_count": 192
        }
      ]
    },
    {
      "cell_type": "code",
      "metadata": {
        "colab_type": "code",
        "outputId": "23f5beda-e604-4a32-d038-218216af2a5a",
        "id": "Ckj7nY6hZmHb",
        "colab": {
          "base_uri": "https://localhost:8080/",
          "height": 230
        }
      },
      "source": [
        "print(\n",
        "    classification_report(\n",
        "        data_container.validation.y, model.predict(validation_dataset).argmax(axis=1)\n",
        "    )\n",
        ")"
      ],
      "execution_count": 0,
      "outputs": [
        {
          "output_type": "stream",
          "text": [
            "              precision    recall  f1-score   support\n",
            "\n",
            "           0       0.45      0.21      0.29        89\n",
            "           1       0.33      0.25      0.29       159\n",
            "           2       0.35      0.34      0.34       280\n",
            "           3       0.43      0.35      0.38       538\n",
            "           4       0.74      0.86      0.80      1199\n",
            "\n",
            "    accuracy                           0.61      2265\n",
            "   macro avg       0.46      0.40      0.42      2265\n",
            "weighted avg       0.58      0.61      0.59      2265\n",
            "\n"
          ],
          "name": "stdout"
        }
      ]
    },
    {
      "cell_type": "markdown",
      "metadata": {
        "id": "UwP0Eyry0V3y",
        "colab_type": "text"
      },
      "source": [
        "## Models using Transformers"
      ]
    },
    {
      "cell_type": "code",
      "metadata": {
        "id": "NeIHHrMV0xO-",
        "colab_type": "code",
        "colab": {}
      },
      "source": [
        "BATCH_SIZE = 16"
      ],
      "execution_count": 0,
      "outputs": []
    },
    {
      "cell_type": "code",
      "metadata": {
        "colab_type": "code",
        "id": "OeI6cK210kLq",
        "colab": {}
      },
      "source": [
        "train_data_bundle, validation_data_bundle, test_data_bundle = DataBundle.split(\n",
        "    data_bundle=all_data_bundle, fracs=[0.7, 0.15, 0.15], random=False\n",
        ")"
      ],
      "execution_count": 0,
      "outputs": []
    },
    {
      "cell_type": "code",
      "metadata": {
        "colab_type": "code",
        "id": "9bB5qzFL0kLs",
        "colab": {}
      },
      "source": [
        "data_container = DataContainer(\n",
        "    train_data_bundle, validation_data_bundle, test_data_bundle\n",
        ")"
      ],
      "execution_count": 0,
      "outputs": []
    },
    {
      "cell_type": "code",
      "metadata": {
        "colab_type": "code",
        "outputId": "6ee453cf-b1f7-4d3d-f5ee-9499a00be0e5",
        "id": "Hfv7lvL50kLt",
        "colab": {
          "base_uri": "https://localhost:8080/",
          "height": 35
        }
      },
      "source": [
        "data_container.train.value_counts()"
      ],
      "execution_count": 0,
      "outputs": [
        {
          "output_type": "execute_result",
          "data": {
            "text/plain": [
              "{0: 560, 1: 1070, 2: 1973, 3: 3394, 4: 8852}"
            ]
          },
          "metadata": {
            "tags": []
          },
          "execution_count": 31
        }
      ]
    },
    {
      "cell_type": "code",
      "metadata": {
        "colab_type": "code",
        "outputId": "93225d97-4b95-4a46-f3cf-fb2847ea244f",
        "id": "dluAaEa30kLv",
        "colab": {
          "base_uri": "https://localhost:8080/",
          "height": 35
        }
      },
      "source": [
        "data_container.validation.value_counts()"
      ],
      "execution_count": 0,
      "outputs": [
        {
          "output_type": "execute_result",
          "data": {
            "text/plain": [
              "{0: 140, 1: 244, 2: 468, 3: 735, 4: 1810}"
            ]
          },
          "metadata": {
            "tags": []
          },
          "execution_count": 32
        }
      ]
    },
    {
      "cell_type": "code",
      "metadata": {
        "colab_type": "code",
        "outputId": "46419678-438f-459a-c0d9-9bffe825722d",
        "id": "6mo4DZff0kLw",
        "colab": {
          "base_uri": "https://localhost:8080/",
          "height": 35
        }
      },
      "source": [
        "data_container.test.value_counts()"
      ],
      "execution_count": 0,
      "outputs": [
        {
          "output_type": "execute_result",
          "data": {
            "text/plain": [
              "{0: 121, 1: 235, 2: 382, 3: 779, 4: 1878}"
            ]
          },
          "metadata": {
            "tags": []
          },
          "execution_count": 33
        }
      ]
    },
    {
      "cell_type": "code",
      "metadata": {
        "colab_type": "code",
        "id": "QxmFrWRd0kLy",
        "colab": {}
      },
      "source": [
        "data_container.train = DataBundle.from_unbalanced(data_container.train)"
      ],
      "execution_count": 0,
      "outputs": []
    },
    {
      "cell_type": "code",
      "metadata": {
        "colab_type": "code",
        "id": "EMsDM4tO0kLz",
        "colab": {}
      },
      "source": [
        "class_weights = dict(\n",
        "    enumerate(\n",
        "        sk.utils.class_weight.compute_class_weight(\n",
        "            \"balanced\", np.unique(data_container.train.y), data_container.train.y\n",
        "        )\n",
        "    )\n",
        ")"
      ],
      "execution_count": 0,
      "outputs": []
    },
    {
      "cell_type": "code",
      "metadata": {
        "colab_type": "code",
        "outputId": "0713c21f-ad8f-486d-a4ad-b86a94b96faf",
        "id": "Do2GBqGF0kL0",
        "colab": {
          "base_uri": "https://localhost:8080/",
          "height": 105
        }
      },
      "source": [
        "class_weights"
      ],
      "execution_count": 0,
      "outputs": [
        {
          "output_type": "execute_result",
          "data": {
            "text/plain": [
              "{0: 0.9640952380952381,\n",
              " 1: 0.9460747663551402,\n",
              " 2: 1.0261530663963507,\n",
              " 3: 1.1930465527401297,\n",
              " 4: 0.9148666967916855}"
            ]
          },
          "metadata": {
            "tags": []
          },
          "execution_count": 41
        }
      ]
    },
    {
      "cell_type": "code",
      "metadata": {
        "colab_type": "code",
        "outputId": "aa0d5859-89b4-4574-cb03-0cc04ef99fd4",
        "id": "vbEkfBNx0kL3",
        "colab": {
          "base_uri": "https://localhost:8080/",
          "height": 34
        }
      },
      "source": [
        "len(data_container.train), len(data_container.validation), len(data_container.test)"
      ],
      "execution_count": 0,
      "outputs": [
        {
          "output_type": "execute_result",
          "data": {
            "text/plain": [
              "(40492, 3397, 3395)"
            ]
          },
          "metadata": {
            "tags": []
          },
          "execution_count": 28
        }
      ]
    },
    {
      "cell_type": "code",
      "metadata": {
        "colab_type": "code",
        "outputId": "f5b85609-0237-4012-fafd-95df7f0e932b",
        "id": "QWqoIuIX0kL4",
        "colab": {
          "base_uri": "https://localhost:8080/",
          "height": 54
        }
      },
      "source": [
        "data_container.train.x[0]"
      ],
      "execution_count": 0,
      "outputs": [
        {
          "output_type": "execute_result",
          "data": {
            "text/plain": [
              "\"3 tags sewn in, 2 small (about 1'' long) and 1 huge (about 2'' x 3''). very itchy so i cut them out. then the thread left behind was plasticy and even more itchy! how can you make an intimates item with such itchy tags? not comfortable at all! also - i love bralettes and wear them all the time including to work. i am a b cup. however, this one is so thin and flimsy that it gives no support even to a b cup - so for me this would only be a lounging bralette - if it wasn't so itchy!\""
            ]
          },
          "metadata": {
            "tags": []
          },
          "execution_count": 31
        }
      ]
    },
    {
      "cell_type": "code",
      "metadata": {
        "colab_type": "code",
        "outputId": "234f5a97-e32f-4382-be21-d136f7117dd9",
        "id": "gBf7mQo_0kL5",
        "colab": {
          "base_uri": "https://localhost:8080/",
          "height": 34
        }
      },
      "source": [
        "data_container.train.y[0]"
      ],
      "execution_count": 0,
      "outputs": [
        {
          "output_type": "execute_result",
          "data": {
            "text/plain": [
              "0"
            ]
          },
          "metadata": {
            "tags": []
          },
          "execution_count": 32
        }
      ]
    },
    {
      "cell_type": "code",
      "metadata": {
        "id": "25NXGKBLsBpv",
        "colab_type": "code",
        "colab": {}
      },
      "source": [
        "def make_bert_dataset(data_bundle, tokenizer, sequence_length):\n",
        "    features = tf.data.Dataset.from_tensor_slices(\n",
        "        [\n",
        "            np.pad(\n",
        "                tokenizer.encode(x, add_special_tokens=True),\n",
        "                (0, sequence_length),\n",
        "                \"constant\",\n",
        "                constant_values=tokenizer.pad_token_id,\n",
        "            )[:sequence_length]\n",
        "            for x in data_bundle.x\n",
        "        ]\n",
        "    )\n",
        "    labels = tf.data.Dataset.from_tensor_slices(data_bundle.y)\n",
        "    dataset = tf.data.Dataset.zip((features, labels)).map(\n",
        "        lambda x, y: (\n",
        "            {\n",
        "                \"input_ids\": x,\n",
        "                \"attention_mask\": int(x != tokenizer.pad_token_id),\n",
        "                \"token_type_ids\": int(x >= tokenizer.pad_token_id),\n",
        "            },\n",
        "            y,\n",
        "        )\n",
        "    )\n",
        "    return dataset"
      ],
      "execution_count": 0,
      "outputs": []
    },
    {
      "cell_type": "code",
      "metadata": {
        "id": "j4zBQLGmsMnb",
        "colab_type": "code",
        "colab": {}
      },
      "source": [
        "def train_bert_model(\n",
        "    model,\n",
        "    epochs,\n",
        "    train_dataset,\n",
        "    train_dataset_steps,\n",
        "    validation_dataset,\n",
        "    lrs=None,\n",
        "    optimizers=None,\n",
        "    patience=5,\n",
        "    verbose=1,\n",
        "    log_dir=str(TEMP_DIR / \"logs\"),\n",
        "):\n",
        "    if optimizers is None:\n",
        "        optimizers = [keras.optimizers.Adam(lr) for lr in lrs]\n",
        "    model.layers[0].trainable = False\n",
        "    model.compile(\n",
        "        loss=keras.losses.SparseCategoricalCrossentropy(from_logits=True),\n",
        "        optimizer=optimizers[0],\n",
        "        metrics=[\n",
        "            keras.metrics.sparse_categorical_accuracy,\n",
        "            sparse_top_2_categorical_accuracy,\n",
        "        ],\n",
        "    )\n",
        "    model.fit(\n",
        "        train_dataset,\n",
        "        steps_per_epoch=train_dataset_steps,\n",
        "        validation_data=validation_dataset,\n",
        "        epochs=epochs[0],\n",
        "        callbacks=[\n",
        "            keras.callbacks.ReduceLROnPlateau(patience=1, factor=0.3),\n",
        "            keras.callbacks.EarlyStopping(patience=2, restore_best_weights=True),\n",
        "        ],\n",
        "        class_weight=class_weights,\n",
        "        verbose=verbose,\n",
        "    )\n",
        "    model.layers[0].trainable = True\n",
        "    model.compile(\n",
        "        loss=keras.losses.SparseCategoricalCrossentropy(from_logits=True),\n",
        "        optimizer=optimizers[1],\n",
        "        metrics=[\n",
        "            keras.metrics.sparse_categorical_accuracy,\n",
        "            sparse_top_2_categorical_accuracy,\n",
        "        ],\n",
        "    )\n",
        "    model.fit(\n",
        "        train_dataset,\n",
        "        steps_per_epoch=train_dataset_steps,\n",
        "        validation_data=validation_dataset,\n",
        "        epochs=epochs[1],\n",
        "        callbacks=[\n",
        "            keras.callbacks.ReduceLROnPlateau(patience=patience // 2, factor=0.3),\n",
        "            keras.callbacks.EarlyStopping(patience=patience, restore_best_weights=True),\n",
        "            keras.callbacks.TensorBoard(log_dir=log_dir),\n",
        "        ],\n",
        "        class_weight=class_weights,\n",
        "        verbose=verbose,\n",
        "    )"
      ],
      "execution_count": 0,
      "outputs": []
    },
    {
      "cell_type": "markdown",
      "metadata": {
        "id": "dw8xxjbA1S5X",
        "colab_type": "text"
      },
      "source": [
        "### bert-base-cased_v1"
      ]
    },
    {
      "cell_type": "markdown",
      "metadata": {
        "colab_type": "text",
        "id": "gJBqk5tEOVli"
      },
      "source": [
        "    epochs=[2, 8]\n",
        "    lrs=[1e-5, 1e-6]"
      ]
    },
    {
      "cell_type": "code",
      "metadata": {
        "id": "FRQOpE-ssfU6",
        "colab_type": "code",
        "colab": {}
      },
      "source": [
        "train_dataset_steps = len(data_container.train) // BATCH_SIZE"
      ],
      "execution_count": 0,
      "outputs": []
    },
    {
      "cell_type": "code",
      "metadata": {
        "id": "7Z8K8O9_sXia",
        "colab_type": "code",
        "outputId": "bab86d62-cff8-4a1d-97fd-95303f38fdf5",
        "colab": {
          "base_uri": "https://localhost:8080/",
          "height": 35
        }
      },
      "source": [
        "config = transformers.BertConfig.from_pretrained(\n",
        "    \"bert-base-cased\",\n",
        "    num_labels=n_categories,\n",
        ")"
      ],
      "execution_count": 0,
      "outputs": [
        {
          "output_type": "stream",
          "text": [
            "100%|██████████| 313/313 [00:00<00:00, 71232.62B/s]\n"
          ],
          "name": "stderr"
        }
      ]
    },
    {
      "cell_type": "code",
      "metadata": {
        "id": "VSvh3oujsaMk",
        "colab_type": "code",
        "outputId": "2424e56d-3af6-4304-e8bc-ac8892a40108",
        "colab": {
          "base_uri": "https://localhost:8080/",
          "height": 35
        }
      },
      "source": [
        "tokenizer = transformers.BertTokenizer.from_pretrained(\"bert-base-cased\")\n"
      ],
      "execution_count": 0,
      "outputs": [
        {
          "output_type": "stream",
          "text": [
            "100%|██████████| 213450/213450 [00:00<00:00, 1071865.02B/s]\n"
          ],
          "name": "stderr"
        }
      ]
    },
    {
      "cell_type": "code",
      "metadata": {
        "id": "5b2kOXLQscoc",
        "colab_type": "code",
        "colab": {}
      },
      "source": [
        "train_bert_dataset = (\n",
        "    make_bert_dataset(data_container.train, tokenizer, 128)\n",
        "    .repeat()\n",
        "    .shuffle(len(data_container.train))\n",
        "    .batch(BATCH_SIZE)\n",
        "    .prefetch(AUTOTUNE)\n",
        ")"
      ],
      "execution_count": 0,
      "outputs": []
    },
    {
      "cell_type": "code",
      "metadata": {
        "id": "5VPm7Hbasfj-",
        "colab_type": "code",
        "colab": {}
      },
      "source": [
        "validation_bert_dataset = (\n",
        "    make_bert_dataset(data_container.validation, tokenizer, 128)\n",
        "    .batch(BATCH_SIZE)\n",
        "    .prefetch(AUTOTUNE)\n",
        ")"
      ],
      "execution_count": 0,
      "outputs": []
    },
    {
      "cell_type": "code",
      "metadata": {
        "id": "LJ6osZzas5MG",
        "colab_type": "code",
        "outputId": "18d16d01-b77b-4e89-b835-d9db2f0daec2",
        "colab": {
          "base_uri": "https://localhost:8080/",
          "height": 35
        }
      },
      "source": [
        "model = transformers.TFBertForSequenceClassification.from_pretrained(\n",
        "    \"bert-base-cased\", config=config\n",
        ")"
      ],
      "execution_count": 0,
      "outputs": [
        {
          "output_type": "stream",
          "text": [
            "100%|██████████| 526681800/526681800 [00:15<00:00, 34736548.56B/s]\n"
          ],
          "name": "stderr"
        }
      ]
    },
    {
      "cell_type": "code",
      "metadata": {
        "id": "17DOhGX1tA6W",
        "colab_type": "code",
        "outputId": "457a1c0f-7534-4379-d73b-d6153512d67d",
        "colab": {
          "base_uri": "https://localhost:8080/",
          "height": 265
        }
      },
      "source": [
        "model.summary()"
      ],
      "execution_count": 0,
      "outputs": [
        {
          "output_type": "stream",
          "text": [
            "Model: \"tf_bert_for_sequence_classification\"\n",
            "_________________________________________________________________\n",
            "Layer (type)                 Output Shape              Param #   \n",
            "=================================================================\n",
            "bert (TFBertMainLayer)       multiple                  108310272 \n",
            "_________________________________________________________________\n",
            "dropout_37 (Dropout)         multiple                  0         \n",
            "_________________________________________________________________\n",
            "classifier (Dense)           multiple                  3845      \n",
            "=================================================================\n",
            "Total params: 108,314,117\n",
            "Trainable params: 108,314,117\n",
            "Non-trainable params: 0\n",
            "_________________________________________________________________\n"
          ],
          "name": "stdout"
        }
      ]
    },
    {
      "cell_type": "code",
      "metadata": {
        "id": "ozC4emMNs-36",
        "colab_type": "code",
        "colab": {}
      },
      "source": [
        "model_name = \"bert-base-cased_v1\""
      ],
      "execution_count": 0,
      "outputs": []
    },
    {
      "cell_type": "code",
      "metadata": {
        "id": "rdysjYDStEJ3",
        "colab_type": "code",
        "outputId": "399d4bb1-8b55-4192-af9f-7a85853fbfd7",
        "colab": {
          "base_uri": "https://localhost:8080/",
          "height": 285
        }
      },
      "source": [
        "train_bert_model(\n",
        "    model=model,\n",
        "    epochs=[2, 8],\n",
        "    train_dataset=train_bert_dataset,\n",
        "    train_dataset_steps=train_dataset_steps,\n",
        "    validation_dataset=validation_bert_dataset,\n",
        "    optimizers=[keras.optimizers.Adam(lr=1e-5), keras.optimizers.Adam(lr=1e-6)],\n",
        "    patience=2,\n",
        "    verbose=1,\n",
        "    log_dir=str(TEMP_DIR / model_name),\n",
        ")"
      ],
      "execution_count": 0,
      "outputs": [
        {
          "output_type": "stream",
          "text": [
            "Train for 2530 steps, validate for 213 steps\n",
            "Epoch 1/2\n",
            "2530/2530 [==============================] - 916s 362ms/step - loss: 1.5565 - sparse_categorical_accuracy: 0.2878 - sparse_top_2_categorical_accuracy: 0.5235 - val_loss: 1.4650 - val_sparse_categorical_accuracy: 0.5122 - val_sparse_top_2_categorical_accuracy: 0.6997\n",
            "Epoch 2/2\n",
            "2530/2530 [==============================] - 891s 352ms/step - loss: 1.5474 - sparse_categorical_accuracy: 0.2969 - sparse_top_2_categorical_accuracy: 0.5336 - val_loss: 1.4252 - val_sparse_categorical_accuracy: 0.5216 - val_sparse_top_2_categorical_accuracy: 0.7295\n",
            "Train for 2530 steps, validate for 213 steps\n",
            "Epoch 1/8\n",
            "2530/2530 [==============================] - 2225s 879ms/step - loss: 1.1386 - sparse_categorical_accuracy: 0.5043 - sparse_top_2_categorical_accuracy: 0.8036 - val_loss: 0.9324 - val_sparse_categorical_accuracy: 0.6197 - val_sparse_top_2_categorical_accuracy: 0.8537\n",
            "Epoch 2/8\n",
            "2530/2530 [==============================] - 2195s 868ms/step - loss: 0.9011 - sparse_categorical_accuracy: 0.6286 - sparse_top_2_categorical_accuracy: 0.8960 - val_loss: 0.8851 - val_sparse_categorical_accuracy: 0.6412 - val_sparse_top_2_categorical_accuracy: 0.8696\n",
            "Epoch 3/8\n",
            "2530/2530 [==============================] - 2187s 864ms/step - loss: 0.7598 - sparse_categorical_accuracy: 0.7014 - sparse_top_2_categorical_accuracy: 0.9320 - val_loss: 0.8873 - val_sparse_categorical_accuracy: 0.6515 - val_sparse_top_2_categorical_accuracy: 0.8790\n",
            "Epoch 4/8\n",
            "2530/2530 [==============================] - 2183s 863ms/step - loss: 0.6742 - sparse_categorical_accuracy: 0.7420 - sparse_top_2_categorical_accuracy: 0.9485 - val_loss: 0.8989 - val_sparse_categorical_accuracy: 0.6479 - val_sparse_top_2_categorical_accuracy: 0.8822\n"
          ],
          "name": "stdout"
        }
      ]
    },
    {
      "cell_type": "code",
      "metadata": {
        "id": "nD5Mi36EtdWc",
        "colab_type": "code",
        "outputId": "871be39b-dd67-40b9-f105-d007d187929a",
        "colab": {
          "base_uri": "https://localhost:8080/",
          "height": 230
        }
      },
      "source": [
        "print(\n",
        "    classification_report(\n",
        "        data_container.validation.y,\n",
        "        model.predict(validation_bert_dataset).argmax(axis=1),\n",
        "    )\n",
        ")"
      ],
      "execution_count": 0,
      "outputs": [
        {
          "output_type": "stream",
          "text": [
            "              precision    recall  f1-score   support\n",
            "\n",
            "           0       0.39      0.55      0.46       140\n",
            "           1       0.31      0.39      0.34       244\n",
            "           2       0.42      0.41      0.41       468\n",
            "           3       0.47      0.36      0.40       735\n",
            "           4       0.83      0.86      0.84      1810\n",
            "\n",
            "    accuracy                           0.64      3397\n",
            "   macro avg       0.48      0.51      0.49      3397\n",
            "weighted avg       0.64      0.64      0.64      3397\n",
            "\n"
          ],
          "name": "stdout"
        }
      ]
    },
    {
      "cell_type": "markdown",
      "metadata": {
        "id": "6bg8JuZlnibi",
        "colab_type": "text"
      },
      "source": [
        "### distilbert-base-uncased_v1"
      ]
    },
    {
      "cell_type": "markdown",
      "metadata": {
        "colab_type": "text",
        "id": "6XbxX-eMONtl"
      },
      "source": [
        "    epochs=[2, 8]\n",
        "    lrs=[1e-5, 1e-6]"
      ]
    },
    {
      "cell_type": "code",
      "metadata": {
        "colab_type": "code",
        "id": "RfjA_oPF33qn",
        "colab": {}
      },
      "source": [
        "config = transformers.DistilBertConfig.from_pretrained(\n",
        "    \"distilbert-base-uncased\",\n",
        "    num_labels=n_categories,\n",
        ")"
      ],
      "execution_count": 0,
      "outputs": []
    },
    {
      "cell_type": "code",
      "metadata": {
        "colab_type": "code",
        "outputId": "a2e01055-f4cf-4cad-c0de-dd7ab33761d3",
        "id": "5-g678Fz33qq",
        "colab": {
          "base_uri": "https://localhost:8080/",
          "height": 34
        }
      },
      "source": [
        "tokenizer = transformers.DistilBertTokenizer.from_pretrained(\"distilbert-base-uncased\")\n"
      ],
      "execution_count": 0,
      "outputs": [
        {
          "output_type": "stream",
          "text": [
            "100%|██████████| 231508/231508 [00:00<00:00, 937552.74B/s]\n"
          ],
          "name": "stderr"
        }
      ]
    },
    {
      "cell_type": "code",
      "metadata": {
        "colab_type": "code",
        "id": "7u-iXxHv33qt",
        "colab": {}
      },
      "source": [
        "train_bert_dataset = (\n",
        "    make_bert_dataset(data_container.train, tokenizer, 128)\n",
        "    .repeat()\n",
        "    .shuffle(len(data_container.train))\n",
        "    .batch(BATCH_SIZE)\n",
        "    .prefetch(AUTOTUNE)\n",
        ")"
      ],
      "execution_count": 0,
      "outputs": []
    },
    {
      "cell_type": "code",
      "metadata": {
        "colab_type": "code",
        "id": "wJLG2J5Q33qr",
        "colab": {}
      },
      "source": [
        "validation_bert_dataset = (\n",
        "    make_bert_dataset(data_container.validation, tokenizer, 128)\n",
        "    .batch(BATCH_SIZE)\n",
        "    .prefetch(AUTOTUNE)\n",
        ")"
      ],
      "execution_count": 0,
      "outputs": []
    },
    {
      "cell_type": "code",
      "metadata": {
        "colab_type": "code",
        "outputId": "9f3f8480-030e-4d14-cb13-2fd9f819bf9c",
        "id": "bQDa0Isv33qw",
        "colab": {
          "base_uri": "https://localhost:8080/",
          "height": 34
        }
      },
      "source": [
        "model = transformers.TFDistilBertForSequenceClassification.from_pretrained(\n",
        "    \"distilbert-base-uncased\", config=config\n",
        ")"
      ],
      "execution_count": 0,
      "outputs": [
        {
          "output_type": "stream",
          "text": [
            "100%|██████████| 363423424/363423424 [00:14<00:00, 25859826.85B/s]\n"
          ],
          "name": "stderr"
        }
      ]
    },
    {
      "cell_type": "code",
      "metadata": {
        "colab_type": "code",
        "outputId": "f80a0500-a992-4e62-abce-70fc6aa24f37",
        "id": "_0YQ2Y0S33qx",
        "colab": {
          "base_uri": "https://localhost:8080/",
          "height": 289
        }
      },
      "source": [
        "model.summary()"
      ],
      "execution_count": 0,
      "outputs": [
        {
          "output_type": "stream",
          "text": [
            "Model: \"tf_distil_bert_for_sequence_classification\"\n",
            "_________________________________________________________________\n",
            "Layer (type)                 Output Shape              Param #   \n",
            "=================================================================\n",
            "distilbert (TFDistilBertMain multiple                  66362880  \n",
            "_________________________________________________________________\n",
            "pre_classifier (Dense)       multiple                  590592    \n",
            "_________________________________________________________________\n",
            "classifier (Dense)           multiple                  3845      \n",
            "_________________________________________________________________\n",
            "dropout_19 (Dropout)         multiple                  0         \n",
            "=================================================================\n",
            "Total params: 66,957,317\n",
            "Trainable params: 66,957,317\n",
            "Non-trainable params: 0\n",
            "_________________________________________________________________\n"
          ],
          "name": "stdout"
        }
      ]
    },
    {
      "cell_type": "code",
      "metadata": {
        "colab_type": "code",
        "id": "-YUIYCFv33qz",
        "colab": {}
      },
      "source": [
        "model_name = \"distilbert-base-uncased_v1\""
      ],
      "execution_count": 0,
      "outputs": []
    },
    {
      "cell_type": "code",
      "metadata": {
        "colab_type": "code",
        "outputId": "bd2103b9-499a-45c7-f4e4-d655dcfa8c5e",
        "id": "qDYuwlMv33q0",
        "colab": {
          "base_uri": "https://localhost:8080/",
          "height": 275
        }
      },
      "source": [
        "train_bert_model(\n",
        "    model=model,\n",
        "    epochs=[2, 8],\n",
        "    train_dataset=train_bert_dataset,\n",
        "    train_dataset_steps=train_dataset_steps,\n",
        "    validation_dataset=validation_bert_dataset,\n",
        "    optimizers=[keras.optimizers.Adam(lr=1e-5), keras.optimizers.Adam(lr=1e-6)],\n",
        "    patience=2,\n",
        "    verbose=1,\n",
        "    log_dir=str(TEMP_DIR / model_name),\n",
        ")"
      ],
      "execution_count": 0,
      "outputs": [
        {
          "output_type": "stream",
          "text": [
            "Train for 2530 steps, validate for 213 steps\n",
            "Epoch 1/2\n",
            "2530/2530 [==============================] - 436s 172ms/step - loss: 1.4867 - sparse_categorical_accuracy: 0.3399 - sparse_top_2_categorical_accuracy: 0.6123 - val_loss: 1.2458 - val_sparse_categorical_accuracy: 0.5637 - val_sparse_top_2_categorical_accuracy: 0.7775\n",
            "Epoch 2/2\n",
            "2530/2530 [==============================] - 425s 168ms/step - loss: 1.3380 - sparse_categorical_accuracy: 0.4363 - sparse_top_2_categorical_accuracy: 0.6984 - val_loss: 1.1233 - val_sparse_categorical_accuracy: 0.5708 - val_sparse_top_2_categorical_accuracy: 0.7860\n",
            "Train for 2530 steps, validate for 213 steps\n",
            "Epoch 1/8\n",
            "2530/2530 [==============================] - 1090s 431ms/step - loss: 1.0897 - sparse_categorical_accuracy: 0.5195 - sparse_top_2_categorical_accuracy: 0.8063 - val_loss: 0.8769 - val_sparse_categorical_accuracy: 0.6314 - val_sparse_top_2_categorical_accuracy: 0.8552\n",
            "Epoch 2/8\n",
            "2530/2530 [==============================] - 1076s 425ms/step - loss: 0.9324 - sparse_categorical_accuracy: 0.5935 - sparse_top_2_categorical_accuracy: 0.8743 - val_loss: 0.8603 - val_sparse_categorical_accuracy: 0.6370 - val_sparse_top_2_categorical_accuracy: 0.8687\n",
            "Epoch 3/8\n",
            "2530/2530 [==============================] - 1076s 425ms/step - loss: 0.8349 - sparse_categorical_accuracy: 0.6415 - sparse_top_2_categorical_accuracy: 0.9066 - val_loss: 0.8789 - val_sparse_categorical_accuracy: 0.6367 - val_sparse_top_2_categorical_accuracy: 0.8714\n",
            "Epoch 4/8\n",
            "2530/2530 [==============================] - 1074s 425ms/step - loss: 0.7663 - sparse_categorical_accuracy: 0.6774 - sparse_top_2_categorical_accuracy: 0.9275 - val_loss: 0.8827 - val_sparse_categorical_accuracy: 0.6359 - val_sparse_top_2_categorical_accuracy: 0.8746\n"
          ],
          "name": "stdout"
        }
      ]
    },
    {
      "cell_type": "code",
      "metadata": {
        "colab_type": "code",
        "outputId": "269a6f8e-5c05-435b-d27c-c0d570937769",
        "id": "ibAR02hF33q1",
        "colab": {
          "base_uri": "https://localhost:8080/",
          "height": 221
        }
      },
      "source": [
        "print(\n",
        "    classification_report(\n",
        "        data_container.validation.y,\n",
        "        model.predict(validation_bert_dataset).argmax(axis=1),\n",
        "    )\n",
        ")"
      ],
      "execution_count": 0,
      "outputs": [
        {
          "output_type": "stream",
          "text": [
            "              precision    recall  f1-score   support\n",
            "\n",
            "           0       0.35      0.58      0.44       140\n",
            "           1       0.30      0.30      0.30       244\n",
            "           2       0.41      0.41      0.41       468\n",
            "           3       0.47      0.39      0.43       735\n",
            "           4       0.83      0.85      0.84      1810\n",
            "\n",
            "    accuracy                           0.64      3397\n",
            "   macro avg       0.47      0.51      0.48      3397\n",
            "weighted avg       0.64      0.64      0.63      3397\n",
            "\n"
          ],
          "name": "stdout"
        }
      ]
    },
    {
      "cell_type": "markdown",
      "metadata": {
        "id": "uFzfLVgcsitG",
        "colab_type": "text"
      },
      "source": [
        "### bert-base-cased_v2"
      ]
    },
    {
      "cell_type": "markdown",
      "metadata": {
        "colab_type": "text",
        "id": "Et2fB9WZNbas"
      },
      "source": [
        "Increasing patience, number of epochs.\n",
        "\n",
        "    epochs=[5, 10]\n",
        "    lrs=[1e-5, 1e-6]"
      ]
    },
    {
      "cell_type": "code",
      "metadata": {
        "colab_type": "code",
        "id": "WiHxsQVFsmPV",
        "colab": {}
      },
      "source": [
        "model_name = \"bert-base-cased_v2\""
      ],
      "execution_count": 0,
      "outputs": []
    },
    {
      "cell_type": "code",
      "metadata": {
        "colab_type": "code",
        "outputId": "70cc7813-225e-455f-9db2-a849698a56d6",
        "id": "8EZx-sQYsmPZ",
        "colab": {
          "base_uri": "https://localhost:8080/",
          "height": 498
        }
      },
      "source": [
        "train_bert_model(\n",
        "    model=model,\n",
        "    epochs=[5, 10],\n",
        "    train_dataset=train_bert_dataset,\n",
        "    train_dataset_steps=train_dataset_steps,\n",
        "    validation_dataset=validation_bert_dataset,\n",
        "    optimizers=[keras.optimizers.Adam(lr=1e-5), keras.optimizers.Adam(lr=1e-6)],\n",
        "    patience=4,\n",
        "    verbose=1,\n",
        "    log_dir=str(TEMP_DIR / model_name),\n",
        ")"
      ],
      "execution_count": 0,
      "outputs": [
        {
          "output_type": "stream",
          "text": [
            "Train for 2530 steps, validate for 213 steps\n",
            "Epoch 1/5\n",
            "2530/2530 [==============================] - 451s 178ms/step - loss: 1.5600 - sparse_categorical_accuracy: 0.2831 - sparse_top_2_categorical_accuracy: 0.5226 - val_loss: 1.4873 - val_sparse_categorical_accuracy: 0.5019 - val_sparse_top_2_categorical_accuracy: 0.6656\n",
            "Epoch 2/5\n",
            "2530/2530 [==============================] - 445s 176ms/step - loss: 1.5516 - sparse_categorical_accuracy: 0.2962 - sparse_top_2_categorical_accuracy: 0.5315 - val_loss: 1.4156 - val_sparse_categorical_accuracy: 0.5146 - val_sparse_top_2_categorical_accuracy: 0.6924\n",
            "Epoch 3/5\n",
            "2530/2530 [==============================] - 445s 176ms/step - loss: 1.5371 - sparse_categorical_accuracy: 0.3100 - sparse_top_2_categorical_accuracy: 0.5483 - val_loss: 1.3842 - val_sparse_categorical_accuracy: 0.5252 - val_sparse_top_2_categorical_accuracy: 0.6944\n",
            "Epoch 4/5\n",
            "2530/2530 [==============================] - 445s 176ms/step - loss: 1.5249 - sparse_categorical_accuracy: 0.3165 - sparse_top_2_categorical_accuracy: 0.5593 - val_loss: 1.3785 - val_sparse_categorical_accuracy: 0.5137 - val_sparse_top_2_categorical_accuracy: 0.7162\n",
            "Epoch 5/5\n",
            "2530/2530 [==============================] - 444s 176ms/step - loss: 1.5168 - sparse_categorical_accuracy: 0.3271 - sparse_top_2_categorical_accuracy: 0.5653 - val_loss: 1.3654 - val_sparse_categorical_accuracy: 0.5205 - val_sparse_top_2_categorical_accuracy: 0.7127\n",
            "Train for 2530 steps, validate for 213 steps\n",
            "Epoch 1/10\n",
            "2530/2530 [==============================] - 1177s 465ms/step - loss: 1.1188 - sparse_categorical_accuracy: 0.5054 - sparse_top_2_categorical_accuracy: 0.8063 - val_loss: 0.8791 - val_sparse_categorical_accuracy: 0.6361 - val_sparse_top_2_categorical_accuracy: 0.8666\n",
            "Epoch 2/10\n",
            "2530/2530 [==============================] - 1158s 458ms/step - loss: 0.8987 - sparse_categorical_accuracy: 0.6238 - sparse_top_2_categorical_accuracy: 0.8976 - val_loss: 0.9071 - val_sparse_categorical_accuracy: 0.6270 - val_sparse_top_2_categorical_accuracy: 0.8611\n",
            "Epoch 3/10\n",
            "2530/2530 [==============================] - 1158s 458ms/step - loss: 0.7678 - sparse_categorical_accuracy: 0.6935 - sparse_top_2_categorical_accuracy: 0.9326 - val_loss: 0.8583 - val_sparse_categorical_accuracy: 0.6553 - val_sparse_top_2_categorical_accuracy: 0.8846\n",
            "Epoch 4/10\n",
            "2530/2530 [==============================] - 1158s 458ms/step - loss: 0.6505 - sparse_categorical_accuracy: 0.7405 - sparse_top_2_categorical_accuracy: 0.9541 - val_loss: 0.9057 - val_sparse_categorical_accuracy: 0.6473 - val_sparse_top_2_categorical_accuracy: 0.8772\n",
            "Epoch 5/10\n",
            "2530/2530 [==============================] - 1158s 458ms/step - loss: 0.5693 - sparse_categorical_accuracy: 0.7819 - sparse_top_2_categorical_accuracy: 0.9643 - val_loss: 0.9158 - val_sparse_categorical_accuracy: 0.6565 - val_sparse_top_2_categorical_accuracy: 0.8881\n",
            "Epoch 6/10\n",
            "2530/2530 [==============================] - 1158s 458ms/step - loss: 0.5074 - sparse_categorical_accuracy: 0.8083 - sparse_top_2_categorical_accuracy: 0.9733 - val_loss: 0.9446 - val_sparse_categorical_accuracy: 0.6488 - val_sparse_top_2_categorical_accuracy: 0.8849\n",
            "Epoch 7/10\n",
            "2530/2530 [==============================] - 1158s 458ms/step - loss: 0.4875 - sparse_categorical_accuracy: 0.8157 - sparse_top_2_categorical_accuracy: 0.9751 - val_loss: 0.9610 - val_sparse_categorical_accuracy: 0.6512 - val_sparse_top_2_categorical_accuracy: 0.8846\n"
          ],
          "name": "stdout"
        }
      ]
    },
    {
      "cell_type": "code",
      "metadata": {
        "colab_type": "code",
        "outputId": "3d708933-68ac-4c99-95c1-1657ca3fc71d",
        "id": "wsC05_8OsmPb",
        "colab": {
          "base_uri": "https://localhost:8080/",
          "height": 230
        }
      },
      "source": [
        "print(\n",
        "    classification_report(\n",
        "        data_container.validation.y,\n",
        "        model.predict(validation_bert_dataset).argmax(axis=1),\n",
        "    )\n",
        ")"
      ],
      "execution_count": 0,
      "outputs": [
        {
          "output_type": "stream",
          "text": [
            "              precision    recall  f1-score   support\n",
            "\n",
            "           0       0.41      0.43      0.42       140\n",
            "           1       0.34      0.38      0.36       244\n",
            "           2       0.43      0.43      0.43       468\n",
            "           3       0.48      0.40      0.44       735\n",
            "           4       0.83      0.87      0.85      1810\n",
            "\n",
            "    accuracy                           0.66      3397\n",
            "   macro avg       0.50      0.50      0.50      3397\n",
            "weighted avg       0.65      0.66      0.65      3397\n",
            "\n"
          ],
          "name": "stdout"
        }
      ]
    },
    {
      "cell_type": "markdown",
      "metadata": {
        "colab_type": "text",
        "id": "90-coDotoOOt"
      },
      "source": [
        "### bert-base-cased_v3"
      ]
    },
    {
      "cell_type": "markdown",
      "metadata": {
        "colab_type": "text",
        "id": "3F_kfpxuOo-M"
      },
      "source": [
        "Increasing train data.\n",
        "\n",
        "Using class_weights of initial train dataset (before oversampling).\n",
        "\n",
        "    epochs=[5, 10]\n",
        "    lrs=[1e-5, 1e-6]"
      ]
    },
    {
      "cell_type": "code",
      "metadata": {
        "colab_type": "code",
        "id": "84KVxx_Coib1",
        "colab": {}
      },
      "source": [
        "train_data_bundle, validation_data_bundle, test_data_bundle = DataBundle.split(\n",
        "    data_bundle=all_data_bundle, fracs=[0.8, 0.1, 0.1], random=False\n",
        ")"
      ],
      "execution_count": 0,
      "outputs": []
    },
    {
      "cell_type": "code",
      "metadata": {
        "colab_type": "code",
        "id": "mkSlL1sqoib_",
        "colab": {}
      },
      "source": [
        "data_container = DataContainer(\n",
        "    train_data_bundle, validation_data_bundle, test_data_bundle\n",
        ")"
      ],
      "execution_count": 0,
      "outputs": []
    },
    {
      "cell_type": "code",
      "metadata": {
        "colab_type": "code",
        "outputId": "501899b9-a1bb-4ae3-b8ad-8410b2c28631",
        "id": "giXjiXmWoicE",
        "colab": {
          "base_uri": "https://localhost:8080/",
          "height": 35
        }
      },
      "source": [
        "data_container.train.value_counts()"
      ],
      "execution_count": 0,
      "outputs": [
        {
          "output_type": "execute_result",
          "data": {
            "text/plain": [
              "{0: 653, 1: 1241, 2: 2278, 3: 3861, 4: 10080}"
            ]
          },
          "metadata": {
            "tags": []
          },
          "execution_count": 50
        }
      ]
    },
    {
      "cell_type": "code",
      "metadata": {
        "colab_type": "code",
        "outputId": "f23aa245-ccf5-480f-cb09-0e0b9f5e011c",
        "id": "qBAc9PF7oicK",
        "colab": {
          "base_uri": "https://localhost:8080/",
          "height": 35
        }
      },
      "source": [
        "data_container.validation.value_counts()"
      ],
      "execution_count": 0,
      "outputs": [
        {
          "output_type": "execute_result",
          "data": {
            "text/plain": [
              "{0: 89, 1: 159, 2: 280, 3: 538, 4: 1199}"
            ]
          },
          "metadata": {
            "tags": []
          },
          "execution_count": 51
        }
      ]
    },
    {
      "cell_type": "code",
      "metadata": {
        "colab_type": "code",
        "outputId": "24e006f7-0028-4ed4-beca-ee79ee6e7090",
        "id": "T7CablHxoicP",
        "colab": {
          "base_uri": "https://localhost:8080/",
          "height": 35
        }
      },
      "source": [
        "data_container.test.value_counts()"
      ],
      "execution_count": 0,
      "outputs": [
        {
          "output_type": "execute_result",
          "data": {
            "text/plain": [
              "{0: 79, 1: 149, 2: 265, 3: 509, 4: 1261}"
            ]
          },
          "metadata": {
            "tags": []
          },
          "execution_count": 52
        }
      ]
    },
    {
      "cell_type": "code",
      "metadata": {
        "colab_type": "code",
        "id": "F1nDjnouoicV",
        "colab": {}
      },
      "source": [
        "class_weights = dict(\n",
        "    enumerate(\n",
        "        sk.utils.class_weight.compute_class_weight(\n",
        "            \"balanced\", np.unique(data_container.train.y), data_container.train.y\n",
        "        )\n",
        "    )\n",
        ")"
      ],
      "execution_count": 0,
      "outputs": []
    },
    {
      "cell_type": "code",
      "metadata": {
        "colab_type": "code",
        "outputId": "5c21ea06-8b28-4d0a-9ee6-aca2df8905d8",
        "id": "LiraXsUnoicX",
        "colab": {
          "base_uri": "https://localhost:8080/",
          "height": 106
        }
      },
      "source": [
        "class_weights"
      ],
      "execution_count": 0,
      "outputs": [
        {
          "output_type": "execute_result",
          "data": {
            "text/plain": [
              "{0: 5.547626339969372,\n",
              " 1: 2.9190975020145045,\n",
              " 2: 1.5902546093064092,\n",
              " 3: 0.9382543382543382,\n",
              " 4: 0.3593849206349206}"
            ]
          },
          "metadata": {
            "tags": []
          },
          "execution_count": 69
        }
      ]
    },
    {
      "cell_type": "code",
      "metadata": {
        "colab_type": "code",
        "id": "8dX_7BT7oicS",
        "colab": {}
      },
      "source": [
        "data_container.train = DataBundle.from_unbalanced(data_container.train)"
      ],
      "execution_count": 0,
      "outputs": []
    },
    {
      "cell_type": "code",
      "metadata": {
        "id": "NWMPPHi_paet",
        "colab_type": "code",
        "outputId": "2bf69435-bd7d-4c97-e509-775fbd586238",
        "colab": {
          "base_uri": "https://localhost:8080/",
          "height": 35
        }
      },
      "source": [
        "data_container.train.value_counts()"
      ],
      "execution_count": 0,
      "outputs": [
        {
          "output_type": "execute_result",
          "data": {
            "text/plain": [
              "{0: 9795, 1: 9928, 2: 9112, 3: 7722, 4: 10080}"
            ]
          },
          "metadata": {
            "tags": []
          },
          "execution_count": 68
        }
      ]
    },
    {
      "cell_type": "code",
      "metadata": {
        "colab_type": "code",
        "outputId": "d22d8208-9178-4dd4-9980-45bf249a54dc",
        "id": "ot97xeInoicc",
        "colab": {
          "base_uri": "https://localhost:8080/",
          "height": 35
        }
      },
      "source": [
        "len(data_container.train), len(data_container.validation), len(data_container.test)"
      ],
      "execution_count": 0,
      "outputs": [
        {
          "output_type": "execute_result",
          "data": {
            "text/plain": [
              "(46637, 2265, 2263)"
            ]
          },
          "metadata": {
            "tags": []
          },
          "execution_count": 58
        }
      ]
    },
    {
      "cell_type": "code",
      "metadata": {
        "id": "A88V5h8IpxNP",
        "colab_type": "code",
        "colab": {}
      },
      "source": [
        "train_dataset_steps = len(data_container.train) // BATCH_SIZE\n"
      ],
      "execution_count": 0,
      "outputs": []
    },
    {
      "cell_type": "code",
      "metadata": {
        "colab_type": "code",
        "id": "XeH57c0EpxiJ",
        "colab": {}
      },
      "source": [
        "train_bert_dataset = (\n",
        "    make_bert_dataset(data_container.train, tokenizer, 128)\n",
        "    .repeat()\n",
        "    .shuffle(len(data_container.train))\n",
        "    .batch(BATCH_SIZE)\n",
        "    .prefetch(AUTOTUNE)\n",
        ")"
      ],
      "execution_count": 0,
      "outputs": []
    },
    {
      "cell_type": "code",
      "metadata": {
        "colab_type": "code",
        "id": "_2hhzJlqpxif",
        "colab": {}
      },
      "source": [
        "validation_bert_dataset = (\n",
        "    make_bert_dataset(data_container.validation, tokenizer, 128)\n",
        "    .batch(BATCH_SIZE)\n",
        "    .prefetch(AUTOTUNE)\n",
        ")"
      ],
      "execution_count": 0,
      "outputs": []
    },
    {
      "cell_type": "code",
      "metadata": {
        "id": "ZXc3QusYu2e9",
        "colab_type": "code",
        "colab": {}
      },
      "source": [
        "test_bert_dataset = (\n",
        "    make_bert_dataset(data_container.test, tokenizer, 128)\n",
        "    .batch(BATCH_SIZE)\n",
        "    .prefetch(AUTOTUNE)\n",
        ")"
      ],
      "execution_count": 0,
      "outputs": []
    },
    {
      "cell_type": "code",
      "metadata": {
        "colab_type": "code",
        "id": "kfqC6HbnoOOz",
        "colab": {}
      },
      "source": [
        "model_name = \"bert-base-cased_v3\""
      ],
      "execution_count": 0,
      "outputs": []
    },
    {
      "cell_type": "code",
      "metadata": {
        "colab_type": "code",
        "outputId": "2fa1330d-8353-4a1f-ac68-519bb362750c",
        "id": "0nkQsCO6oOO1",
        "colab": {
          "base_uri": "https://localhost:8080/",
          "height": 464
        }
      },
      "source": [
        "train_bert_model(\n",
        "    model=model,\n",
        "    epochs=[5, 10],\n",
        "    train_dataset=train_bert_dataset,\n",
        "    train_dataset_steps=train_dataset_steps,\n",
        "    validation_dataset=validation_bert_dataset,\n",
        "    optimizers=[keras.optimizers.Adam(lr=1e-5), keras.optimizers.Adam(lr=1e-6)],\n",
        "    patience=4,\n",
        "    verbose=1,\n",
        "    log_dir=str(TEMP_DIR / model_name),\n",
        ")"
      ],
      "execution_count": 0,
      "outputs": [
        {
          "output_type": "stream",
          "text": [
            "Train for 2914 steps, validate for 142 steps\n",
            "Epoch 1/5\n",
            "2914/2914 [==============================] - 336s 115ms/step - loss: 1.5536 - sparse_categorical_accuracy: 0.2868 - sparse_top_2_categorical_accuracy: 0.5239 - val_loss: 1.4790 - val_sparse_categorical_accuracy: 0.4932 - val_sparse_top_2_categorical_accuracy: 0.6901\n",
            "Epoch 2/5\n",
            "2914/2914 [==============================] - 320s 110ms/step - loss: 1.5461 - sparse_categorical_accuracy: 0.3035 - sparse_top_2_categorical_accuracy: 0.5373 - val_loss: 1.4009 - val_sparse_categorical_accuracy: 0.5117 - val_sparse_top_2_categorical_accuracy: 0.7227\n",
            "Epoch 3/5\n",
            "2914/2914 [==============================] - 319s 109ms/step - loss: 1.5320 - sparse_categorical_accuracy: 0.3158 - sparse_top_2_categorical_accuracy: 0.5524 - val_loss: 1.3806 - val_sparse_categorical_accuracy: 0.5139 - val_sparse_top_2_categorical_accuracy: 0.7311\n",
            "Epoch 4/5\n",
            "2914/2914 [==============================] - 319s 110ms/step - loss: 1.5202 - sparse_categorical_accuracy: 0.3239 - sparse_top_2_categorical_accuracy: 0.5624 - val_loss: 1.3844 - val_sparse_categorical_accuracy: 0.5020 - val_sparse_top_2_categorical_accuracy: 0.7258\n",
            "Epoch 5/5\n",
            "2914/2914 [==============================] - 319s 110ms/step - loss: 1.5204 - sparse_categorical_accuracy: 0.3265 - sparse_top_2_categorical_accuracy: 0.5636 - val_loss: 1.4475 - val_sparse_categorical_accuracy: 0.4556 - val_sparse_top_2_categorical_accuracy: 0.6455\n",
            "Train for 2914 steps, validate for 142 steps\n",
            "Epoch 1/10\n",
            "2914/2914 [==============================] - 807s 277ms/step - loss: 1.1161 - sparse_categorical_accuracy: 0.5080 - sparse_top_2_categorical_accuracy: 0.8074 - val_loss: 0.9216 - val_sparse_categorical_accuracy: 0.6172 - val_sparse_top_2_categorical_accuracy: 0.8609\n",
            "Epoch 2/10\n",
            "2914/2914 [==============================] - 782s 269ms/step - loss: 0.8960 - sparse_categorical_accuracy: 0.6252 - sparse_top_2_categorical_accuracy: 0.8995 - val_loss: 0.8645 - val_sparse_categorical_accuracy: 0.6486 - val_sparse_top_2_categorical_accuracy: 0.8870\n",
            "Epoch 3/10\n",
            "2914/2914 [==============================] - 782s 269ms/step - loss: 0.7556 - sparse_categorical_accuracy: 0.6968 - sparse_top_2_categorical_accuracy: 0.9347 - val_loss: 0.8795 - val_sparse_categorical_accuracy: 0.6477 - val_sparse_top_2_categorical_accuracy: 0.8896\n",
            "Epoch 4/10\n",
            "2914/2914 [==============================] - 783s 269ms/step - loss: 0.6431 - sparse_categorical_accuracy: 0.7493 - sparse_top_2_categorical_accuracy: 0.9535 - val_loss: 0.8876 - val_sparse_categorical_accuracy: 0.6570 - val_sparse_top_2_categorical_accuracy: 0.8936\n",
            "Epoch 5/10\n",
            "2914/2914 [==============================] - 779s 267ms/step - loss: 0.5813 - sparse_categorical_accuracy: 0.7766 - sparse_top_2_categorical_accuracy: 0.9629 - val_loss: 0.9257 - val_sparse_categorical_accuracy: 0.6446 - val_sparse_top_2_categorical_accuracy: 0.8870\n",
            "Epoch 6/10\n",
            "2914/2914 [==============================] - 779s 267ms/step - loss: 0.5581 - sparse_categorical_accuracy: 0.7887 - sparse_top_2_categorical_accuracy: 0.9661 - val_loss: 0.9205 - val_sparse_categorical_accuracy: 0.6494 - val_sparse_top_2_categorical_accuracy: 0.8896\n"
          ],
          "name": "stdout"
        }
      ]
    },
    {
      "cell_type": "code",
      "metadata": {
        "colab_type": "code",
        "outputId": "f244d8a4-86ca-4c00-ed07-3761e2258e40",
        "id": "KIoBBEtHoOO4",
        "colab": {
          "base_uri": "https://localhost:8080/",
          "height": 230
        }
      },
      "source": [
        "print(\n",
        "    classification_report(\n",
        "        data_container.validation.y,\n",
        "        model.predict(validation_bert_dataset).argmax(axis=1),\n",
        "    )\n",
        ")"
      ],
      "execution_count": 0,
      "outputs": [
        {
          "output_type": "stream",
          "text": [
            "              precision    recall  f1-score   support\n",
            "\n",
            "           0       0.47      0.57      0.52        89\n",
            "           1       0.38      0.42      0.40       159\n",
            "           2       0.41      0.44      0.43       280\n",
            "           3       0.49      0.36      0.41       538\n",
            "           4       0.80      0.86      0.83      1199\n",
            "\n",
            "    accuracy                           0.65      2265\n",
            "   macro avg       0.51      0.53      0.52      2265\n",
            "weighted avg       0.64      0.65      0.64      2265\n",
            "\n"
          ],
          "name": "stdout"
        }
      ]
    },
    {
      "cell_type": "markdown",
      "metadata": {
        "colab_type": "text",
        "id": "yPemSpZbLmu3"
      },
      "source": [
        "### distilbert-base-uncased_v2"
      ]
    },
    {
      "cell_type": "markdown",
      "metadata": {
        "colab_type": "text",
        "id": "S961-8dtPg0h"
      },
      "source": [
        "Using class_weights of initial train dataset (before oversampling).\n",
        "\n",
        "    epochs=[5, 10]\n",
        "    lrs=[1e-5, 1e-6]"
      ]
    },
    {
      "cell_type": "code",
      "metadata": {
        "colab_type": "code",
        "id": "rKYmV3LCLmu9",
        "outputId": "9c44b35f-fdab-4a22-aabc-537b2803f8f0",
        "colab": {
          "base_uri": "https://localhost:8080/",
          "height": 35
        }
      },
      "source": [
        "config = transformers.DistilBertConfig.from_pretrained(\n",
        "    \"distilbert-base-uncased\",\n",
        "    num_labels=n_categories,\n",
        ")"
      ],
      "execution_count": 0,
      "outputs": [
        {
          "output_type": "stream",
          "text": [
            "100%|██████████| 492/492 [00:00<00:00, 160528.79B/s]\n"
          ],
          "name": "stderr"
        }
      ]
    },
    {
      "cell_type": "code",
      "metadata": {
        "colab_type": "code",
        "outputId": "6e843691-734d-4d0f-90b2-1fc14520f30b",
        "id": "qS8mI0hXLmvE",
        "colab": {
          "base_uri": "https://localhost:8080/",
          "height": 35
        }
      },
      "source": [
        "tokenizer = transformers.DistilBertTokenizer.from_pretrained(\"distilbert-base-uncased\")"
      ],
      "execution_count": 0,
      "outputs": [
        {
          "output_type": "stream",
          "text": [
            "100%|██████████| 231508/231508 [00:00<00:00, 1194236.92B/s]\n"
          ],
          "name": "stderr"
        }
      ]
    },
    {
      "cell_type": "code",
      "metadata": {
        "colab_type": "code",
        "outputId": "1740366b-8b57-4799-ef5a-866c9f45c9e0",
        "id": "JJqWkZOyLmvX",
        "colab": {
          "base_uri": "https://localhost:8080/",
          "height": 35
        }
      },
      "source": [
        "model = transformers.TFDistilBertForSequenceClassification.from_pretrained(\n",
        "    \"distilbert-base-uncased\", config=config\n",
        ")"
      ],
      "execution_count": 0,
      "outputs": [
        {
          "output_type": "stream",
          "text": [
            "100%|██████████| 363423424/363423424 [00:10<00:00, 34659753.97B/s]\n"
          ],
          "name": "stderr"
        }
      ]
    },
    {
      "cell_type": "code",
      "metadata": {
        "colab_type": "code",
        "id": "ku5Gv5U4Lmvj",
        "colab": {}
      },
      "source": [
        "model_name = \"distilbert-base-uncased_v2\""
      ],
      "execution_count": 0,
      "outputs": []
    },
    {
      "cell_type": "code",
      "metadata": {
        "colab_type": "code",
        "outputId": "310ec9ff-86f1-4dbe-c2db-f15d14a0cb67",
        "id": "lNX1FdSFLmvs",
        "colab": {
          "base_uri": "https://localhost:8080/",
          "height": 499
        }
      },
      "source": [
        "train_bert_model(\n",
        "    model=model,\n",
        "    epochs=[5, 10],\n",
        "    train_dataset=train_bert_dataset,\n",
        "    train_dataset_steps=train_dataset_steps,\n",
        "    validation_dataset=validation_bert_dataset,\n",
        "    optimizers=[keras.optimizers.Adam(lr=1e-5), keras.optimizers.Adam(lr=1e-6)],\n",
        "    patience=4,\n",
        "    verbose=1,\n",
        "    log_dir=str(TEMP_DIR / model_name),\n",
        ")"
      ],
      "execution_count": 0,
      "outputs": [
        {
          "output_type": "stream",
          "text": [
            "Train for 2914 steps, validate for 142 steps\n",
            "Epoch 1/5\n",
            "2914/2914 [==============================] - 172s 59ms/step - loss: 1.4726 - sparse_categorical_accuracy: 0.3513 - sparse_top_2_categorical_accuracy: 0.6227 - val_loss: 1.2663 - val_sparse_categorical_accuracy: 0.5519 - val_sparse_top_2_categorical_accuracy: 0.7603\n",
            "Epoch 2/5\n",
            "2914/2914 [==============================] - 162s 56ms/step - loss: 1.3200 - sparse_categorical_accuracy: 0.4450 - sparse_top_2_categorical_accuracy: 0.7080 - val_loss: 1.1070 - val_sparse_categorical_accuracy: 0.5651 - val_sparse_top_2_categorical_accuracy: 0.7894\n",
            "Epoch 3/5\n",
            "2914/2914 [==============================] - 162s 56ms/step - loss: 1.2547 - sparse_categorical_accuracy: 0.4629 - sparse_top_2_categorical_accuracy: 0.7288 - val_loss: 1.0459 - val_sparse_categorical_accuracy: 0.5779 - val_sparse_top_2_categorical_accuracy: 0.8146\n",
            "Epoch 4/5\n",
            "2914/2914 [==============================] - 162s 56ms/step - loss: 1.2212 - sparse_categorical_accuracy: 0.4725 - sparse_top_2_categorical_accuracy: 0.7429 - val_loss: 1.0458 - val_sparse_categorical_accuracy: 0.5792 - val_sparse_top_2_categorical_accuracy: 0.8075\n",
            "Epoch 5/5\n",
            "2914/2914 [==============================] - 161s 55ms/step - loss: 1.2022 - sparse_categorical_accuracy: 0.4817 - sparse_top_2_categorical_accuracy: 0.7510 - val_loss: 1.0522 - val_sparse_categorical_accuracy: 0.5722 - val_sparse_top_2_categorical_accuracy: 0.8084\n",
            "Train for 2914 steps, validate for 142 steps\n",
            "Epoch 1/10\n",
            "2914/2914 [==============================] - 414s 142ms/step - loss: 1.0596 - sparse_categorical_accuracy: 0.5370 - sparse_top_2_categorical_accuracy: 0.8196 - val_loss: 0.9006 - val_sparse_categorical_accuracy: 0.6097 - val_sparse_top_2_categorical_accuracy: 0.8609\n",
            "Epoch 2/10\n",
            "2914/2914 [==============================] - 404s 139ms/step - loss: 0.9195 - sparse_categorical_accuracy: 0.6035 - sparse_top_2_categorical_accuracy: 0.8723 - val_loss: 0.9074 - val_sparse_categorical_accuracy: 0.6141 - val_sparse_top_2_categorical_accuracy: 0.8667\n",
            "Epoch 3/10\n",
            "2914/2914 [==============================] - 401s 138ms/step - loss: 0.8151 - sparse_categorical_accuracy: 0.6506 - sparse_top_2_categorical_accuracy: 0.9090 - val_loss: 0.8644 - val_sparse_categorical_accuracy: 0.6402 - val_sparse_top_2_categorical_accuracy: 0.8848\n",
            "Epoch 4/10\n",
            "2914/2914 [==============================] - 401s 138ms/step - loss: 0.7164 - sparse_categorical_accuracy: 0.7005 - sparse_top_2_categorical_accuracy: 0.9349 - val_loss: 0.9030 - val_sparse_categorical_accuracy: 0.6406 - val_sparse_top_2_categorical_accuracy: 0.8817\n",
            "Epoch 5/10\n",
            "2914/2914 [==============================] - 401s 138ms/step - loss: 0.6272 - sparse_categorical_accuracy: 0.7430 - sparse_top_2_categorical_accuracy: 0.9538 - val_loss: 0.9153 - val_sparse_categorical_accuracy: 0.6455 - val_sparse_top_2_categorical_accuracy: 0.8914\n",
            "Epoch 6/10\n",
            "2914/2914 [==============================] - 401s 138ms/step - loss: 0.5757 - sparse_categorical_accuracy: 0.7654 - sparse_top_2_categorical_accuracy: 0.9612 - val_loss: 0.9306 - val_sparse_categorical_accuracy: 0.6459 - val_sparse_top_2_categorical_accuracy: 0.8874\n",
            "Epoch 7/10\n",
            "2914/2914 [==============================] - 402s 138ms/step - loss: 0.5500 - sparse_categorical_accuracy: 0.7771 - sparse_top_2_categorical_accuracy: 0.9659 - val_loss: 0.9636 - val_sparse_categorical_accuracy: 0.6384 - val_sparse_top_2_categorical_accuracy: 0.8874\n"
          ],
          "name": "stdout"
        }
      ]
    },
    {
      "cell_type": "code",
      "metadata": {
        "colab_type": "code",
        "outputId": "b425c836-8b95-41f4-d872-e77907b8a2a4",
        "id": "aLqgvQq-MTUF",
        "colab": {
          "base_uri": "https://localhost:8080/",
          "height": 230
        }
      },
      "source": [
        "print(\n",
        "    classification_report(\n",
        "        data_container.validation.y,\n",
        "        model.predict(validation_bert_dataset).argmax(axis=1),\n",
        "    )\n",
        ")"
      ],
      "execution_count": 0,
      "outputs": [
        {
          "output_type": "stream",
          "text": [
            "              precision    recall  f1-score   support\n",
            "\n",
            "           0       0.39      0.48      0.43        89\n",
            "           1       0.33      0.41      0.36       159\n",
            "           2       0.40      0.41      0.41       280\n",
            "           3       0.51      0.44      0.47       538\n",
            "           4       0.82      0.82      0.82      1199\n",
            "\n",
            "    accuracy                           0.64      2265\n",
            "   macro avg       0.49      0.51      0.50      2265\n",
            "weighted avg       0.64      0.64      0.64      2265\n",
            "\n"
          ],
          "name": "stdout"
        }
      ]
    },
    {
      "cell_type": "markdown",
      "metadata": {
        "id": "fiaZupsq28z9",
        "colab_type": "text"
      },
      "source": [
        "### bert-base-uncased_v1"
      ]
    },
    {
      "cell_type": "markdown",
      "metadata": {
        "colab_type": "text",
        "id": "w1vb9P0PQm5W"
      },
      "source": [
        "Using class_weights of initial train dataset (before oversampling).\n",
        "\n",
        "    epochs=[5, 10]\n",
        "    lrs=[1e-5, 1e-6]"
      ]
    },
    {
      "cell_type": "code",
      "metadata": {
        "colab_type": "code",
        "outputId": "2778e406-5635-4e0a-9c62-ac5210405ff9",
        "id": "j33TlLbfjHaj",
        "colab": {
          "base_uri": "https://localhost:8080/",
          "height": 34
        }
      },
      "source": [
        "config = transformers.BertConfig.from_pretrained(\n",
        "    \"bert-base-uncased\",\n",
        "    num_labels=n_categories,\n",
        ")"
      ],
      "execution_count": 0,
      "outputs": [
        {
          "output_type": "stream",
          "text": [
            "100%|██████████| 313/313 [00:00<00:00, 128067.23B/s]\n"
          ],
          "name": "stderr"
        }
      ]
    },
    {
      "cell_type": "code",
      "metadata": {
        "colab_type": "code",
        "outputId": "cbe29f94-0986-48e6-9f06-1af1e68e337f",
        "id": "Lks8oxQ4jHao",
        "colab": {
          "base_uri": "https://localhost:8080/",
          "height": 34
        }
      },
      "source": [
        "tokenizer = transformers.BertTokenizer.from_pretrained(\"bert-base-uncased\")\n"
      ],
      "execution_count": 0,
      "outputs": [
        {
          "output_type": "stream",
          "text": [
            "100%|██████████| 231508/231508 [00:00<00:00, 865582.64B/s]\n"
          ],
          "name": "stderr"
        }
      ]
    },
    {
      "cell_type": "code",
      "metadata": {
        "colab_type": "code",
        "id": "cDaAvRh4iKHy",
        "colab": {}
      },
      "source": [
        "train_bert_dataset = (\n",
        "    make_bert_dataset(data_container.train, tokenizer, 128)\n",
        "    .repeat()\n",
        "    .shuffle(len(data_container.train))\n",
        "    .batch(BATCH_SIZE)\n",
        "    .prefetch(AUTOTUNE)\n",
        ")"
      ],
      "execution_count": 0,
      "outputs": []
    },
    {
      "cell_type": "code",
      "metadata": {
        "colab_type": "code",
        "id": "uFwX9GePiKHz",
        "colab": {}
      },
      "source": [
        "validation_bert_dataset = (\n",
        "    make_bert_dataset(data_container.validation, tokenizer, 128)\n",
        "    .batch(BATCH_SIZE)\n",
        "    .prefetch(AUTOTUNE)\n",
        ")"
      ],
      "execution_count": 0,
      "outputs": []
    },
    {
      "cell_type": "code",
      "metadata": {
        "colab_type": "code",
        "id": "Mf_ARsT_iKH0",
        "colab": {}
      },
      "source": [
        "test_bert_dataset = (\n",
        "    make_bert_dataset(data_container.test, tokenizer, 128)\n",
        "    .batch(BATCH_SIZE)\n",
        "    .prefetch(AUTOTUNE)\n",
        ")"
      ],
      "execution_count": 0,
      "outputs": []
    },
    {
      "cell_type": "code",
      "metadata": {
        "colab_type": "code",
        "outputId": "79521ccd-4683-4163-e44d-689b8384d22c",
        "id": "QU6Vl9ZSiKH2",
        "colab": {
          "base_uri": "https://localhost:8080/",
          "height": 54
        }
      },
      "source": [
        "data_container.train.x[0]"
      ],
      "execution_count": 0,
      "outputs": [
        {
          "output_type": "execute_result",
          "data": {
            "text/plain": [
              "\"3 tags sewn in, 2 small (about 1'' long) and 1 huge (about 2'' x 3''). very itchy so i cut them out. then the thread left behind was plasticy and even more itchy! how can you make an intimates item with such itchy tags? not comfortable at all! also - i love bralettes and wear them all the time including to work. i am a b cup. however, this one is so thin and flimsy that it gives no support even to a b cup - so for me this would only be a lounging bralette - if it wasn't so itchy!\""
            ]
          },
          "metadata": {
            "tags": []
          },
          "execution_count": 36
        }
      ]
    },
    {
      "cell_type": "code",
      "metadata": {
        "colab_type": "code",
        "outputId": "ce8c9fd9-fe29-4592-f9f3-73af74218b3d",
        "id": "YajD6yDoiKH3",
        "colab": {
          "base_uri": "https://localhost:8080/",
          "height": 34
        }
      },
      "source": [
        "data_container.train.y[0]"
      ],
      "execution_count": 0,
      "outputs": [
        {
          "output_type": "execute_result",
          "data": {
            "text/plain": [
              "0"
            ]
          },
          "metadata": {
            "tags": []
          },
          "execution_count": 37
        }
      ]
    },
    {
      "cell_type": "code",
      "metadata": {
        "colab_type": "code",
        "outputId": "5b9fc61b-c0d3-4afb-ac07-3d029e1f3554",
        "id": "Wy95P1sAjkCg",
        "colab": {
          "base_uri": "https://localhost:8080/",
          "height": 34
        }
      },
      "source": [
        "model = transformers.TFBertForSequenceClassification.from_pretrained(\n",
        "    \"bert-base-uncased\", config=config\n",
        ")"
      ],
      "execution_count": 0,
      "outputs": [
        {
          "output_type": "stream",
          "text": [
            "100%|██████████| 536063208/536063208 [00:18<00:00, 28931860.18B/s]\n"
          ],
          "name": "stderr"
        }
      ]
    },
    {
      "cell_type": "code",
      "metadata": {
        "colab_type": "code",
        "outputId": "2b7b17c2-b1a7-4573-ae49-952182d84634",
        "id": "6gKgBPwGjkCj",
        "colab": {
          "base_uri": "https://localhost:8080/",
          "height": 265
        }
      },
      "source": [
        "model.summary()"
      ],
      "execution_count": 0,
      "outputs": [
        {
          "output_type": "stream",
          "text": [
            "Model: \"tf_bert_for_sequence_classification\"\n",
            "_________________________________________________________________\n",
            "Layer (type)                 Output Shape              Param #   \n",
            "=================================================================\n",
            "bert (TFBertMainLayer)       multiple                  109482240 \n",
            "_________________________________________________________________\n",
            "dropout_37 (Dropout)         multiple                  0         \n",
            "_________________________________________________________________\n",
            "classifier (Dense)           multiple                  3845      \n",
            "=================================================================\n",
            "Total params: 109,486,085\n",
            "Trainable params: 109,486,085\n",
            "Non-trainable params: 0\n",
            "_________________________________________________________________\n"
          ],
          "name": "stdout"
        }
      ]
    },
    {
      "cell_type": "code",
      "metadata": {
        "colab_type": "code",
        "id": "HPXkumO0iKH6",
        "colab": {}
      },
      "source": [
        "model_name = \"bert-base-uncased_v1\""
      ],
      "execution_count": 0,
      "outputs": []
    },
    {
      "cell_type": "code",
      "metadata": {
        "colab_type": "code",
        "outputId": "7212b9a5-d07b-4eec-bb07-4972a253408c",
        "id": "CUSnazJaiKH9",
        "colab": {
          "base_uri": "https://localhost:8080/",
          "height": 463
        }
      },
      "source": [
        "train_bert_model(\n",
        "    model=model,\n",
        "    epochs=[5, 10],\n",
        "    train_dataset=train_bert_dataset,\n",
        "    train_dataset_steps=train_dataset_steps,\n",
        "    validation_dataset=validation_bert_dataset,\n",
        "    optimizers=[keras.optimizers.Adam(lr=1e-5), keras.optimizers.Adam(lr=1e-6)],\n",
        "    patience=4,\n",
        "    verbose=1,\n",
        "    log_dir=str(TEMP_DIR / model_name),\n",
        ")"
      ],
      "execution_count": 0,
      "outputs": [
        {
          "output_type": "stream",
          "text": [
            "Train for 2914 steps, validate for 142 steps\n",
            "Epoch 1/5\n",
            "2914/2914 [==============================] - 332s 114ms/step - loss: 1.5642 - sparse_categorical_accuracy: 0.2789 - sparse_top_2_categorical_accuracy: 0.5181 - val_loss: 1.5270 - val_sparse_categorical_accuracy: 0.4667 - val_sparse_top_2_categorical_accuracy: 0.6362\n",
            "Epoch 2/5\n",
            "2914/2914 [==============================] - 315s 108ms/step - loss: 1.5632 - sparse_categorical_accuracy: 0.2828 - sparse_top_2_categorical_accuracy: 0.5147 - val_loss: 1.4742 - val_sparse_categorical_accuracy: 0.4989 - val_sparse_top_2_categorical_accuracy: 0.7263\n",
            "Epoch 3/5\n",
            "2914/2914 [==============================] - 316s 108ms/step - loss: 1.5522 - sparse_categorical_accuracy: 0.2981 - sparse_top_2_categorical_accuracy: 0.5327 - val_loss: 1.4327 - val_sparse_categorical_accuracy: 0.5064 - val_sparse_top_2_categorical_accuracy: 0.7196\n",
            "Epoch 4/5\n",
            "2914/2914 [==============================] - 316s 109ms/step - loss: 1.5421 - sparse_categorical_accuracy: 0.3107 - sparse_top_2_categorical_accuracy: 0.5457 - val_loss: 1.4072 - val_sparse_categorical_accuracy: 0.5161 - val_sparse_top_2_categorical_accuracy: 0.7430\n",
            "Epoch 5/5\n",
            "2914/2914 [==============================] - 316s 108ms/step - loss: 1.5319 - sparse_categorical_accuracy: 0.3193 - sparse_top_2_categorical_accuracy: 0.5594 - val_loss: 1.3947 - val_sparse_categorical_accuracy: 0.5236 - val_sparse_top_2_categorical_accuracy: 0.7444\n",
            "Train for 2914 steps, validate for 142 steps\n",
            "Epoch 1/10\n",
            "2914/2914 [==============================] - 794s 272ms/step - loss: 1.1290 - sparse_categorical_accuracy: 0.4997 - sparse_top_2_categorical_accuracy: 0.7930 - val_loss: 0.9048 - val_sparse_categorical_accuracy: 0.6274 - val_sparse_top_2_categorical_accuracy: 0.8645\n",
            "Epoch 2/10\n",
            "2914/2914 [==============================] - 769s 264ms/step - loss: 0.9076 - sparse_categorical_accuracy: 0.6160 - sparse_top_2_categorical_accuracy: 0.8825 - val_loss: 0.8458 - val_sparse_categorical_accuracy: 0.6490 - val_sparse_top_2_categorical_accuracy: 0.8883\n",
            "Epoch 3/10\n",
            "2914/2914 [==============================] - 762s 261ms/step - loss: 0.7777 - sparse_categorical_accuracy: 0.6837 - sparse_top_2_categorical_accuracy: 0.9198 - val_loss: 0.8734 - val_sparse_categorical_accuracy: 0.6565 - val_sparse_top_2_categorical_accuracy: 0.8870\n",
            "Epoch 4/10\n",
            "2914/2914 [==============================] - 764s 262ms/step - loss: 0.6571 - sparse_categorical_accuracy: 0.7371 - sparse_top_2_categorical_accuracy: 0.9469 - val_loss: 0.9069 - val_sparse_categorical_accuracy: 0.6517 - val_sparse_top_2_categorical_accuracy: 0.8865\n",
            "Epoch 5/10\n",
            "2914/2914 [==============================] - 768s 263ms/step - loss: 0.5947 - sparse_categorical_accuracy: 0.7673 - sparse_top_2_categorical_accuracy: 0.9583 - val_loss: 0.9039 - val_sparse_categorical_accuracy: 0.6627 - val_sparse_top_2_categorical_accuracy: 0.8914\n",
            "Epoch 6/10\n",
            "2914/2914 [==============================] - 770s 264ms/step - loss: 0.5643 - sparse_categorical_accuracy: 0.7798 - sparse_top_2_categorical_accuracy: 0.9623 - val_loss: 0.9146 - val_sparse_categorical_accuracy: 0.6658 - val_sparse_top_2_categorical_accuracy: 0.8932\n"
          ],
          "name": "stdout"
        }
      ]
    },
    {
      "cell_type": "code",
      "metadata": {
        "colab_type": "code",
        "id": "mE1hH86fiKH-",
        "outputId": "469ba04e-b942-4a3c-a9f6-d15eaf7d4599",
        "colab": {
          "base_uri": "https://localhost:8080/",
          "height": 230
        }
      },
      "source": [
        "print(\n",
        "    classification_report(\n",
        "        data_container.validation.y,\n",
        "        model.predict(validation_bert_dataset).argmax(axis=1),\n",
        "    )\n",
        ")"
      ],
      "execution_count": 0,
      "outputs": [
        {
          "output_type": "stream",
          "text": [
            "              precision    recall  f1-score   support\n",
            "\n",
            "           0       0.39      0.48      0.43        89\n",
            "           1       0.31      0.40      0.35       159\n",
            "           2       0.43      0.42      0.43       280\n",
            "           3       0.53      0.38      0.44       538\n",
            "           4       0.81      0.87      0.84      1199\n",
            "\n",
            "    accuracy                           0.65      2265\n",
            "   macro avg       0.49      0.51      0.50      2265\n",
            "weighted avg       0.64      0.65      0.64      2265\n",
            "\n"
          ],
          "name": "stdout"
        }
      ]
    },
    {
      "cell_type": "code",
      "metadata": {
        "colab_type": "code",
        "id": "RCkHs3CWiKIA",
        "outputId": "f13dab78-8dd8-489c-d499-09d3d2df6a89",
        "colab": {
          "base_uri": "https://localhost:8080/",
          "height": 72
        }
      },
      "source": [
        "model.evaluate(validation_bert_dataset)"
      ],
      "execution_count": 0,
      "outputs": [
        {
          "output_type": "stream",
          "text": [
            "142/142 [==============================] - 14s 97ms/step - loss: 0.8458 - sparse_categorical_accuracy: 0.6490 - sparse_top_2_categorical_accuracy: 0.8883\n"
          ],
          "name": "stdout"
        },
        {
          "output_type": "execute_result",
          "data": {
            "text/plain": [
              "[0.8458422951295342, 0.6490066, 0.88830024]"
            ]
          },
          "metadata": {
            "tags": []
          },
          "execution_count": 44
        }
      ]
    },
    {
      "cell_type": "markdown",
      "metadata": {
        "id": "uufdqMEMSFQU",
        "colab_type": "text"
      },
      "source": [
        "## Conclusion"
      ]
    },
    {
      "cell_type": "markdown",
      "metadata": {
        "id": "D6E2HiteRyn7",
        "colab_type": "text"
      },
      "source": [
        "### **Models using tf.hub**\n",
        "\n",
        "The best macro **avg f-1score** of 0.45 was achieved by *nnlm-en-dim128-with-normalization_base_version4*:\n",
        "\n",
        "    epochs=[20,20]\n",
        "    lrs=[1e-4, 3e-5]\n",
        "    oversampling\n",
        "    class_weights of initial train dataset "
      ]
    },
    {
      "cell_type": "markdown",
      "metadata": {
        "id": "pcL_5g_CT2cZ",
        "colab_type": "text"
      },
      "source": [
        "                  precision    recall  f1-score   support\n",
        "              0       0.33      0.36      0.34        89\n",
        "              1       0.29      0.30      0.29       159\n",
        "              2       0.33      0.42      0.37       280\n",
        "              3       0.47      0.43      0.45       538\n",
        "              4       0.82      0.79      0.80      1199\n",
        "\n",
        "        accuracy                           0.61      2265\n",
        "       macro avg       0.45      0.46      0.45      2265\n",
        "    weighted avg       0.62      0.61      0.61      2265"
      ]
    },
    {
      "cell_type": "markdown",
      "metadata": {
        "id": "ogcmBRTOXYPk",
        "colab_type": "text"
      },
      "source": [
        "The lowest macro avg f-1score of 0.36 was achieved by *nnlm-en-dim128-with-normalization_base_v2*."
      ]
    },
    {
      "cell_type": "markdown",
      "metadata": {
        "colab_type": "text",
        "id": "f-nkvaupYVLX"
      },
      "source": [
        "###**Models using LSTM, 1d Conv, Hybrid**\n",
        "\n",
        "The **best macro avg f-1score** of 0.42 was achieved by *Hybrid - Emb256 2xBidLSTM256 2xConv1D256 Dropout 0.1 0.5*:\n",
        "\n",
        "    epochs=[25]\n",
        "    lrs=[1e-4]\n",
        "    dropouts=[0.1, 0.5]\n",
        "    no oversampling\n",
        "    class_weights of initial train dataset"
      ]
    },
    {
      "cell_type": "markdown",
      "metadata": {
        "colab_type": "text",
        "id": "_BshcwIiYVLb"
      },
      "source": [
        "                  precision    recall  f1-score   support\n",
        "\n",
        "              0       0.45      0.21      0.29        89\n",
        "              1       0.33      0.25      0.29       159\n",
        "              2       0.35      0.34      0.34       280\n",
        "              3       0.43      0.35      0.38       538\n",
        "              4       0.74      0.86      0.80      1199\n",
        "\n",
        "        accuracy                           0.61      2265\n",
        "       macro avg       0.46      0.40      0.42      2265\n",
        "    weighted avg       0.58      0.61      0.59      2265\n"
      ]
    },
    {
      "cell_type": "markdown",
      "metadata": {
        "colab_type": "text",
        "id": "p7U3Ch-oYVLb"
      },
      "source": [
        "The lowest macro avg f-1score of 0.14 was achieved by model *Emb256 2xBidLSTM256 2xConv1D256 Dropout 0.1 0.5 oversmpl*:\n",
        "\n",
        "    oversampling\n",
        "    class_weights of oversampled train dataset\n"
      ]
    },
    {
      "cell_type": "markdown",
      "metadata": {
        "colab_type": "text",
        "id": "Sv2lW4-qaplp"
      },
      "source": [
        "###**Models using Transformers**\n",
        "\n",
        "The best **macro avg f-1score** of 0.52 was achieved by *bert-base-cased_v3*:\n",
        "\n",
        "    epochs=[5, 10]\n",
        "    lrs=[1e-5, 1e-6]\n",
        "    oversampling\n",
        "    class_weights of initial train dataset"
      ]
    },
    {
      "cell_type": "markdown",
      "metadata": {
        "colab_type": "text",
        "id": "G5oixqg9aplr"
      },
      "source": [
        "\n",
        "                  precision    recall  f1-score   support\n",
        "\n",
        "              0       0.47      0.57      0.52        89\n",
        "              1       0.38      0.42      0.40       159\n",
        "              2       0.41      0.44      0.43       280\n",
        "              3       0.49      0.36      0.41       538\n",
        "              4       0.80      0.86      0.83      1199\n",
        "\n",
        "        accuracy                           0.65      2265\n",
        "       macro avg       0.51      0.53      0.52      2265\n",
        "    weighted avg       0.64      0.65      0.64      2265\n"
      ]
    },
    {
      "cell_type": "markdown",
      "metadata": {
        "colab_type": "text",
        "id": "62Jmfh3uapls"
      },
      "source": [
        "The lowest macro avg f-1score of 0.48 was achieved by model *distilbert-base-uncased_v1*:\n",
        "\n",
        "    epochs=[2, 8]\n",
        "    lrs=[1e-5, 1e-6]\n",
        "    oversampling\n",
        "    class_weights of oversampled train dataset\n"
      ]
    },
    {
      "cell_type": "markdown",
      "metadata": {
        "id": "poH2mDWzbJYC",
        "colab_type": "text"
      },
      "source": [
        "###**All in All**"
      ]
    },
    {
      "cell_type": "markdown",
      "metadata": {
        "id": "HIeFTNyrvKyx",
        "colab_type": "text"
      },
      "source": [
        "Best results achieved using models with pretrained transformer-based architecture. We reached **macro acro avg f-1score** of 0.52.\n",
        "\n",
        "It is significantly higher than using models without pretrained architecture, where we reached  **macro acro avg f-1score** of 0.42.\n",
        "\n",
        "The results we got using tf.hub are better than using models without pretrained architecture. But not as good as using transformers. The best **macro acro avg f-1score** using tf.hub - 0.45."
      ]
    }
  ]
}